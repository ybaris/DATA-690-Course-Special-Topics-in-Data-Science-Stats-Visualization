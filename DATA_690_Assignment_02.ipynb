{
  "nbformat": 4,
  "nbformat_minor": 0,
  "metadata": {
    "colab": {
      "name": "DATA_690_Assignment-02.ipynb",
      "provenance": [],
      "collapsed_sections": [],
      "include_colab_link": true
    },
    "kernelspec": {
      "name": "python3",
      "display_name": "Python 3"
    }
  },
  "cells": [
    {
      "cell_type": "markdown",
      "metadata": {
        "id": "view-in-github",
        "colab_type": "text"
      },
      "source": [
        "<a href=\"https://colab.research.google.com/github/ybaris/DATA-690-WANG/blob/master/DATA_690_Assignment_02.ipynb\" target=\"_parent\"><img src=\"https://colab.research.google.com/assets/colab-badge.svg\" alt=\"Open In Colab\"/></a>"
      ]
    },
    {
      "cell_type": "markdown",
      "metadata": {
        "id": "fIY7_DrFFNrG",
        "colab_type": "text"
      },
      "source": [
        ""
      ]
    },
    {
      "cell_type": "markdown",
      "metadata": {
        "id": "GIEg9BpqFPya",
        "colab_type": "text"
      },
      "source": [
        "# Assignment 02\n",
        "Prompts a user to enter 10 integers. If the user enters anything other than integers, remind her that only integers are allowed and let her retry. Don't allow the user to enter more than 10 or less than 10 integers. Display the 10 integers back to the user at the end. Calculate the following statistics from the 10 integers entered:\n",
        "\n",
        "- Minimum\n",
        "- Maximum\n",
        "- Range\n",
        "- Mean\n",
        "- Variance\n",
        "- Standard Deviation\n",
        "Note:\n",
        "\n",
        "## Use the basic Python concepts and methods. Special Python libraries such as statistics, scipy, or numpy are not allowed. You may need to use:\n",
        "\n",
        "- loops (finite and/or infinite loop)\n",
        "- break/continue\n",
        "- try/except\n",
        "- input() function\n",
        "- int() function\n",
        "\n",
        "Implement the solution in the following two different formats:\n",
        "\n",
        "- A Jupyter Notebook (.ipynb)\n",
        "- A Python script (.py)\n",
        "Your source code should be well formatted and easy to read and understand.\n",
        "\n",
        "Provide good comments/documentations:\n",
        "\n",
        "Use both Markdown and comments in the Jupyter Notebook.\n",
        "Use comments in the Python script.\n",
        "Your user prompts, use inputs and output displays should be nicely formatted when users run your program.\n",
        "\n",
        "Create a subfolder named \"Assignment-01\" in your GitHub repository (WANG-690-FALL-2020) and upload the two files to the subfolder.\n",
        "\n",
        "Copy your GitHub repository URL to your assignment submission in Blackboard. No files should be uploaded to the BB."
      ]
    },
    {
      "cell_type": "code",
      "metadata": {
        "id": "PVbaSHTQ60Fa",
        "colab_type": "code",
        "colab": {
          "base_uri": "https://localhost:8080/",
          "height": 105
        },
        "outputId": "4c96a9ef-c1da-43a0-fc2a-46c6b358a16a"
      },
      "source": [
        "numbers = []\n",
        "i = 0\n",
        "while i < 3: \n",
        "    try:\n",
        "      is_int = int(input(f\"Enter the {i}. number: \"))\n",
        "      numbers.append(is_int)\n",
        "      i += 1  \n",
        "    except:\n",
        "      print(\"You entered an invalid value. Please give an integer.\")\n",
        "\n",
        "\n",
        "\n",
        "print(f\"You entered {len(numbers)} integers: {numbers}\\n\",\n",
        "      f\"maximum is: {max(numbers)}\",\n",
        "      f\"minimum is: {min(numbers)}\",\n",
        "      )"
      ],
      "execution_count": 1,
      "outputs": [
        {
          "output_type": "stream",
          "text": [
            "Enter the 0. number: 123\n",
            "Enter the 1. number: 324\n",
            "Enter the 2. number: 4\n",
            "You entered 3 integers: [123, 324, 4]\n",
            " maximum is: 324 minimum is: 4\n"
          ],
          "name": "stdout"
        }
      ]
    },
    {
      "cell_type": "code",
      "metadata": {
        "id": "CZVvBwtaFegS",
        "colab_type": "code",
        "colab": {
          "base_uri": "https://localhost:8080/",
          "height": 283
        },
        "outputId": "43e6fafa-87fc-4367-94e8-20507db59755"
      },
      "source": [
        "# Firstly, we need to create an empty list for 10 integers.\n",
        "thislist = []\n",
        "# get user input\n",
        "while len(thislist) < 10:\n",
        "    x = input(\"You need 10 integers: \")\n",
        "    thislist.append(x)\n",
        "    if len(thislist) == 10: \n",
        "        print(\"Congratulations! You have 10 integers!\")\n",
        "        break\n",
        "print(thislist)\n",
        "print(len(thislist))\n",
        "print(min(thislist))\n",
        "print(max(thislist))\n",
        "\n",
        "    \n",
        "\n",
        "    "
      ],
      "execution_count": null,
      "outputs": [
        {
          "output_type": "stream",
          "text": [
            "You need 10 integers: 23\n",
            "You need 10 integers: 34\n",
            "You need 10 integers: 546\n",
            "You need 10 integers: 12\n",
            "You need 10 integers: 0\n",
            "You need 10 integers: 34\n",
            "You need 10 integers: 67\n",
            "You need 10 integers: 4657\n",
            "You need 10 integers: 3\n",
            "You need 10 integers: 6\n",
            "Congratulations! You have 10 integers!\n",
            "['23', '34', '546', '12', '0', '34', '67', '4657', '3', '6']\n",
            "10\n",
            "0\n",
            "67\n"
          ],
          "name": "stdout"
        }
      ]
    }
  ]
}