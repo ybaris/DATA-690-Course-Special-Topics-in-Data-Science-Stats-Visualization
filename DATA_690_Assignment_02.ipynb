{
  "nbformat": 4,
  "nbformat_minor": 0,
  "metadata": {
    "colab": {
      "name": "DATA_690_Assignment-02.ipynb",
      "provenance": [],
      "collapsed_sections": [],
      "include_colab_link": true
    },
    "kernelspec": {
      "name": "python3",
      "display_name": "Python 3"
    }
  },
  "cells": [
    {
      "cell_type": "markdown",
      "metadata": {
        "id": "view-in-github",
        "colab_type": "text"
      },
      "source": [
        "<a href=\"https://colab.research.google.com/github/ybaris/DATA-690-WANG/blob/master/DATA_690_Assignment_02.ipynb\" target=\"_parent\"><img src=\"https://colab.research.google.com/assets/colab-badge.svg\" alt=\"Open In Colab\"/></a>"
      ]
    },
    {
      "cell_type": "markdown",
      "metadata": {
        "id": "GIEg9BpqFPya",
        "colab_type": "text"
      },
      "source": [
        "# Assignment 02\n",
        "Prompts a user to enter 10 integers. If the user enters anything other than integers, remind her that only integers are allowed and let her retry. Don't allow the user to enter more than 10 or less than 10 integers. Display the 10 integers back to the user at the end. Calculate the following statistics from the 10 integers entered:\n",
        "\n",
        "- Minimum\n",
        "- Maximum\n",
        "- Range\n",
        "- Mean\n",
        "- Variance\n",
        "- Standard Deviation\n",
        "Note:\n",
        "\n",
        "## Use the basic Python concepts and methods. Special Python libraries such as statistics, scipy, or numpy are not allowed. You may need to use:\n",
        "\n",
        "- loops (finite and/or infinite loop)\n",
        "- break/continue\n",
        "- try/except\n",
        "- input() function\n",
        "- int() function\n",
        "\n",
        "Implement the solution in the following two different formats:\n",
        "\n",
        "- A Jupyter Notebook (.ipynb)\n",
        "- A Python script (.py)\n",
        "Your source code should be well formatted and easy to read and understand.\n",
        "\n",
        "Provide good comments/documentations:\n",
        "\n",
        "Use both Markdown and comments in the Jupyter Notebook.\n",
        "Use comments in the Python script.\n",
        "Your user prompts, use inputs and output displays should be nicely formatted when users run your program.\n",
        "\n",
        "Create a subfolder named \"Assignment-01\" in your GitHub repository (WANG-690-FALL-2020) and upload the two files to the subfolder.\n",
        "\n",
        "Copy your GitHub repository URL to your assignment submission in Blackboard. No files should be uploaded to the BB."
      ]
    },
    {
      "cell_type": "code",
      "metadata": {
        "id": "WAamOK-8NYGO",
        "colab_type": "code",
        "colab": {
          "base_uri": "https://localhost:8080/",
          "height": 336
        },
        "outputId": "c101f338-ffe7-4fea-f41b-8e1737e54dcd"
      },
      "source": [
        "# firstly we need to create an empty list\n",
        "numbers = []\n",
        "# We need exactly 10 integers, so we need to get input till i reaches 10. With that 'numbers' list will get 10 elements.\n",
        "i = 0\n",
        "while i < 10: \n",
        "    try:\n",
        "      # Get user input\n",
        "      is_int = int(input(f\"Enter the {i}. number: \")) # If the input is integer, this function adds it to our list. Otherwise 'except' code runs.\n",
        "      numbers.append(is_int)\n",
        "      i += 1  \n",
        "    except: # If the input is not integer, our code warns the user. \n",
        "      print(\"You entered an invalid value. Please give an integer.\")\n",
        "\n",
        "mean = sum(numbers) / len(numbers) # identifying mean value to read the code easily\n",
        "var = sum(pow(i-mean,2) for i in numbers) / len(numbers)  # identifying variance value to read the code easily\n",
        "\n",
        "import math # We are allowed to use standard library\n",
        "print(f\"You entered {len(numbers)} integers: {numbers}\\n\",\n",
        "      f\"maximum is: {max(numbers)}\\n\",\n",
        "      f\"minimum is: {min(numbers)}\\n\",\n",
        "      f\"range is: {range(min(numbers), max(numbers))}\\n\",\n",
        "      f\"mean is: {sum(numbers) / len(numbers)}\\n\",\n",
        "      f\"variance is: {sum(pow(i-mean,2) for i in numbers) / len(numbers)}\\n\",\n",
        "      f\"std deviation is: {math.sqrt(var)}\\n\",\n",
        "      )\n",
        "\n"
      ],
      "execution_count": 27,
      "outputs": [
        {
          "output_type": "stream",
          "text": [
            "Enter the 0. number: 123\n",
            "Enter the 1. number: 2\n",
            "Enter the 2. number: 25\n",
            "Enter the 3. number: 34\n",
            "Enter the 4. number: 12\n",
            "Enter the 5. number: 45\n",
            "Enter the 6. number: 7\n",
            "Enter the 7. number: 68\n",
            "Enter the 8. number: 3\n",
            "Enter the 9. number: 678\n",
            "You entered 10 integers: [123, 2, 25, 34, 12, 45, 7, 68, 3, 678]\n",
            " maximum is: 678\n",
            " minimum is: 2\n",
            " range is: range(2, 678)\n",
            " mean is: 99.7\n",
            " variance is: 38404.81\n",
            " std deviation is: 195.97145200258123\n",
            "\n"
          ],
          "name": "stdout"
        }
      ]
    },
    {
      "cell_type": "markdown",
      "metadata": {
        "id": "E1cQ510hcCnH",
        "colab_type": "text"
      },
      "source": [
        "PS. Variance and std deviation values are different in two different methods. Why? The reason can be rounding?"
      ]
    },
    {
      "cell_type": "code",
      "metadata": {
        "id": "9owRCgB2L9wM",
        "colab_type": "code",
        "colab": {
          "base_uri": "https://localhost:8080/",
          "height": 141
        },
        "outputId": "17677425-f933-4340-e191-f409acd7b9e8"
      },
      "source": [
        "# this is extra with statistics\n",
        "import statistics\n",
        "print(f\"You entered {len(numbers)} integers: {numbers}\",\n",
        "      f\"maximum is: {max(numbers)}\",\n",
        "      f\"minimum is: {min(numbers)}\",\n",
        "      f\"range is: {range(min(numbers), max(numbers))}\",\n",
        "      f\"mean is: {statistics.mean(numbers)}\",\n",
        "      f\"variance is: {statistics.variance(numbers)}\",\n",
        "      f\"std deviation is: {statistics.stdev(numbers)}\",\n",
        "      sep=\"\\n\",\n",
        "      )"
      ],
      "execution_count": 28,
      "outputs": [
        {
          "output_type": "stream",
          "text": [
            "You entered 10 integers: [123, 2, 25, 34, 12, 45, 7, 68, 3, 678]\n",
            "maximum is: 678\n",
            "minimum is: 2\n",
            "range is: range(2, 678)\n",
            "mean is: 99.7\n",
            "variance is: 42672.011111111104\n",
            "std deviation is: 206.57204823284079\n"
          ],
          "name": "stdout"
        }
      ]
    }
  ]
}