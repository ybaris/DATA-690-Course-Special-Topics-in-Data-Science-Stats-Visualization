{
  "nbformat": 4,
  "nbformat_minor": 0,
  "metadata": {
    "colab": {
      "name": "Assignment_03.ipynb",
      "provenance": [],
      "collapsed_sections": [],
      "include_colab_link": true
    },
    "kernelspec": {
      "name": "python3",
      "display_name": "Python 3"
    }
  },
  "cells": [
    {
      "cell_type": "markdown",
      "metadata": {
        "id": "view-in-github",
        "colab_type": "text"
      },
      "source": [
        "<a href=\"https://colab.research.google.com/github/ybaris/DATA-690-WANG/blob/master/Assignment_03.ipynb\" target=\"_parent\"><img src=\"https://colab.research.google.com/assets/colab-badge.svg\" alt=\"Open In Colab\"/></a>"
      ]
    },
    {
      "cell_type": "markdown",
      "metadata": {
        "id": "qfVhDCU21ftm",
        "colab_type": "text"
      },
      "source": [
        "Assignment 03\n",
        "The Problem:\n",
        "Write a program that generates 100 random integers between 0 and 9.\n",
        "\n",
        "Print them in a 10 by 10 matrix neatly arranged like the following (one space between each number):\n",
        "- 5 1 5 6 2 7 8 6 4 2 \n",
        "- 2 3 7 0 6 9 2 4 2 8 \n",
        "- 0 0 8 6 4 1 7 2 7 6 \n",
        "- 0 1 9 0 0 8 5 8 6 8 \n",
        "- 4 1 0 5 5 7 4 6 4 4 \n",
        "- 6 0 2 0 1 9 8 2 3 9 \n",
        "- 4 0 4 8 1 7 6 6 2 1 \n",
        "- 1 7 6 8 5 4 1 9 6 7 \n",
        "- 6 4 7 9 9 3 8 2 6 1 \n",
        "- 9 0 6 4 0 1 0 6 9 9 \n",
        "\n",
        "If the random number is an odd number, print \"@\" instead. like the following:\n",
        "- @ @ 0 2 6 @ 8 8 0 0 \n",
        "- @ 4 @ 4 4 @ 2 @ 2 2 \n",
        "- @ 6 8 @ @ @ 0 @ 0 @ \n",
        "- 2 6 @ 0 @ 2 @ @ 0 @ \n",
        "- 8 4 @ @ @ 0 @ @ 6 @ \n",
        "- @ @ 4 6 @ @ @ 2 @ 2 \n",
        "- @ @ @ @ 4 @ @ 2 2 0 \n",
        "- @ 6 @ 0 0 8 @ 2 0 @ \n",
        "- 8 8 @ @ @ 0 0 @ 4 6 \n",
        "- @ 2 2 6 8 2 @ @ @ 6\n",
        "\n",
        "Calculate and Print the total of each row like the following (use \"*\" to separate the total from the numbers):\n",
        "- 7 6 5 8 8 0 7 6 0 1 * 48 \n",
        "- 8 5 7 9 8 0 9 3 0 1 * 50 \n",
        "- 4 0 3 5 3 9 0 8 3 9 * 44 \n",
        "- 3 5 5 3 8 3 4 3 2 2 * 38 \n",
        "- 7 7 4 1 2 7 2 3 0 8 * 41 \n",
        "- 3 9 7 7 0 9 4 0 6 5 * 50 \n",
        "- 1 9 7 1 3 0 0 1 4 5 * 31 \n",
        "- 4 4 0 6 7 4 5 6 9 3 * 48 \n",
        "- 2 1 1 4 2 0 1 2 9 2 * 24\n",
        "- 2 1 6 7 7 8 1 0 0 4 * 36\n",
        "\n",
        "Optional: Surround the matrix with asterisks (*) like the following:\n",
        "***********************\n",
        "* 5 1 5 6 2 7 8 6 4 2 *\n",
        "* 2 3 7 0 6 9 2 4 2 8 *\n",
        "* 0 0 8 6 4 1 7 2 7 6 *\n",
        "* 0 1 9 0 0 8 5 8 6 8 *\n",
        "* 4 1 0 5 5 7 4 6 4 4 *\n",
        "* 6 0 2 0 1 9 8 2 3 9 *\n",
        "* 4 0 4 8 1 7 6 6 2 1 *\n",
        "* 1 7 6 8 5 4 1 9 6 7 *\n",
        "* 6 4 7 9 9 3 8 2 6 1 *\n",
        "* 9 0 6 4 0 1 0 6 9 9 *\n",
        "***********************\n",
        "- The Requirements:\n",
        "You should program and test the solution in Jupyter notebook:\n",
        "- Save/upload the notebook file to your GitHub repository\n",
        "- Submit the link of your GitHub repo to BB.\n",
        "** Hints:\n",
        "- You can use Python standard library random to generate one random number at a time\n",
        "- Alternatively you can use NumPy random library to generate 10 numbers at a time or 100 random number altogether in one shot.\n",
        "- You are likely to use nested loop - a loop within in another loop since you are dealing with a 10 x 10 matrix.\n",
        "- You will use modular operator (%) to determine if an integer is an odd number or an even number.\n",
        "- Use the \"end=\" option of the print() function to avoid a new line after the print and also to add additional spaces.\n",
        "for example, print(9, end=\" \") will print 9 followed by three spaces and not starting a new line.\n",
        "- Think through the logic. Try simple things first. Don't make it too complicated. You only need a few lines of code."
      ]
    },
    {
      "cell_type": "markdown",
      "metadata": {
        "id": "W2q_Ct-iVr4w",
        "colab_type": "text"
      },
      "source": [
        "# @Riza"
      ]
    },
    {
      "cell_type": "code",
      "metadata": {
        "id": "fhu9X4aLTdJq",
        "colab_type": "code",
        "colab": {
          "base_uri": "https://localhost:8080/",
          "height": 1000
        },
        "outputId": "a0dfd353-fa7a-4ea5-a957-18837f2ab148"
      },
      "source": [
        "import numpy as np\n",
        "\n",
        "A = np.random.randint(10, size=(10,10))\n",
        "\n",
        "print(\"*\"*10 + \" Task#1 \" + \"*\"*10)\n",
        "for row in A:\n",
        "  for element in row:\n",
        "    print(element, end=\" \")\n",
        "  print(\"*\\n\")\n",
        "\n",
        "\n",
        "print(\"*\"*10 + \" Task#2 \" + \"*\"*10)\n",
        "for row in A:\n",
        "  for element in row:\n",
        "    if element % 2 == 1:\n",
        "      print(\"@\", end=\" \")\n",
        "    else:\n",
        "      print(element, end=\" \")\n",
        "  print(\"*\\n\")\n",
        "\n",
        "\n",
        "print(\"*\"*10 + \" Task#3 \" + \"*\"*10)\n",
        "for row in A:\n",
        "  for element in row:\n",
        "    print(element, end=\" \")\n",
        "  print(f\"* {sum(row)}\\n\")"
      ],
      "execution_count": 2,
      "outputs": [
        {
          "output_type": "stream",
          "text": [
            "********** Task#1 **********\n",
            "3 7 7 1 2 9 7 2 3 9 *\n",
            "\n",
            "6 1 9 3 3 9 1 2 3 6 *\n",
            "\n",
            "5 0 3 4 0 9 5 2 3 7 *\n",
            "\n",
            "6 6 4 3 5 6 6 4 0 7 *\n",
            "\n",
            "4 8 2 8 6 3 1 8 9 1 *\n",
            "\n",
            "8 1 7 6 8 0 0 8 5 0 *\n",
            "\n",
            "2 4 5 7 5 6 5 2 1 4 *\n",
            "\n",
            "9 0 8 3 6 8 5 9 3 9 *\n",
            "\n",
            "0 4 0 3 5 9 5 0 4 2 *\n",
            "\n",
            "4 3 8 9 5 8 5 6 7 3 *\n",
            "\n",
            "********** Task#2 **********\n",
            "@ @ @ @ 2 @ @ 2 @ @ *\n",
            "\n",
            "6 @ @ @ @ @ @ 2 @ 6 *\n",
            "\n",
            "@ 0 @ 4 0 @ @ 2 @ @ *\n",
            "\n",
            "6 6 4 @ @ 6 6 4 0 @ *\n",
            "\n",
            "4 8 2 8 6 @ @ 8 @ @ *\n",
            "\n",
            "8 @ @ 6 8 0 0 8 @ 0 *\n",
            "\n",
            "2 4 @ @ @ 6 @ 2 @ 4 *\n",
            "\n",
            "@ 0 8 @ 6 8 @ @ @ @ *\n",
            "\n",
            "0 4 0 @ @ @ @ 0 4 2 *\n",
            "\n",
            "4 @ 8 @ @ 8 @ 6 @ @ *\n",
            "\n",
            "********** Task#3 **********\n",
            "3 7 7 1 2 9 7 2 3 9 * 50\n",
            "\n",
            "6 1 9 3 3 9 1 2 3 6 * 43\n",
            "\n",
            "5 0 3 4 0 9 5 2 3 7 * 38\n",
            "\n",
            "6 6 4 3 5 6 6 4 0 7 * 47\n",
            "\n",
            "4 8 2 8 6 3 1 8 9 1 * 50\n",
            "\n",
            "8 1 7 6 8 0 0 8 5 0 * 43\n",
            "\n",
            "2 4 5 7 5 6 5 2 1 4 * 41\n",
            "\n",
            "9 0 8 3 6 8 5 9 3 9 * 60\n",
            "\n",
            "0 4 0 3 5 9 5 0 4 2 * 32\n",
            "\n",
            "4 3 8 9 5 8 5 6 7 3 * 58\n",
            "\n"
          ],
          "name": "stdout"
        }
      ]
    },
    {
      "cell_type": "markdown",
      "metadata": {
        "id": "T2RJdFMe1e41",
        "colab_type": "text"
      },
      "source": [
        "# @Baris"
      ]
    },
    {
      "cell_type": "code",
      "metadata": {
        "id": "9zb5vD5x1m1t",
        "colab_type": "code",
        "colab": {
          "base_uri": "https://localhost:8080/",
          "height": 194
        },
        "outputId": "815e5e44-2b82-4b25-fd3c-294ba15d8dd2"
      },
      "source": [
        "import numpy as np\n",
        "\n",
        "A = np.random.randint(10, size=(10,10))\n",
        "\n",
        "print(A)"
      ],
      "execution_count": null,
      "outputs": [
        {
          "output_type": "stream",
          "text": [
            "[[8 6 7 6 9 9 9 4 0 5]\n",
            " [2 9 6 7 0 4 6 4 9 2]\n",
            " [8 2 6 7 5 7 8 7 4 9]\n",
            " [5 6 1 1 3 3 0 3 0 2]\n",
            " [7 1 4 0 2 9 7 8 8 3]\n",
            " [8 0 9 5 7 0 3 1 7 9]\n",
            " [2 4 1 1 1 8 4 0 8 5]\n",
            " [1 8 7 5 8 7 3 0 4 5]\n",
            " [1 5 7 2 9 6 1 0 1 6]\n",
            " [3 9 6 7 5 4 6 3 4 6]]\n"
          ],
          "name": "stdout"
        }
      ]
    },
    {
      "cell_type": "code",
      "metadata": {
        "id": "S7FftkWKA9ZJ",
        "colab_type": "code",
        "colab": {
          "base_uri": "https://localhost:8080/",
          "height": 250
        },
        "outputId": "ddd536f6-04eb-4254-fdf3-b3ebb71d186e"
      },
      "source": [
        "for i in A: \n",
        "   if i.all() % 2 == 1:\n",
        "      i == \"@\"\n",
        "\n",
        "print(A)"
      ],
      "execution_count": null,
      "outputs": [
        {
          "output_type": "stream",
          "text": [
            "[[8 6 7 6 9 9 9 4 0 5]\n",
            " [2 9 6 7 0 4 6 4 9 2]\n",
            " [8 2 6 7 5 7 8 7 4 9]\n",
            " [5 6 1 1 3 3 0 3 0 2]\n",
            " [7 1 4 0 2 9 7 8 8 3]\n",
            " [8 0 9 5 7 0 3 1 7 9]\n",
            " [2 4 1 1 1 8 4 0 8 5]\n",
            " [1 8 7 5 8 7 3 0 4 5]\n",
            " [1 5 7 2 9 6 1 0 1 6]\n",
            " [3 9 6 7 5 4 6 3 4 6]]\n"
          ],
          "name": "stdout"
        },
        {
          "output_type": "stream",
          "text": [
            "/usr/local/lib/python3.6/dist-packages/ipykernel_launcher.py:3: FutureWarning: elementwise comparison failed; returning scalar instead, but in the future will perform elementwise comparison\n",
            "  This is separate from the ipykernel package so we can avoid doing imports until\n"
          ],
          "name": "stderr"
        }
      ]
    },
    {
      "cell_type": "code",
      "metadata": {
        "id": "9QaM2qfBTFv5",
        "colab_type": "code",
        "colab": {
          "base_uri": "https://localhost:8080/",
          "height": 70
        },
        "outputId": "7be06782-55ef-43ed-c9b0-2441c7315b52"
      },
      "source": [
        ""
      ],
      "execution_count": null,
      "outputs": [
        {
          "output_type": "stream",
          "text": [
            "pasta\n",
            "sandwich\n"
          ],
          "name": "stdout"
        },
        {
          "output_type": "execute_result",
          "data": {
            "text/plain": [
              "2"
            ]
          },
          "metadata": {
            "tags": []
          },
          "execution_count": 27
        }
      ]
    }
  ]
}