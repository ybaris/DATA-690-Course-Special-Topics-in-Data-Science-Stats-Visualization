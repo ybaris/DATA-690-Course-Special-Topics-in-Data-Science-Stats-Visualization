{
  "nbformat": 4,
  "nbformat_minor": 0,
  "metadata": {
    "colab": {
      "name": "Week04_Assignment.ipynb",
      "provenance": [],
      "collapsed_sections": [],
      "include_colab_link": true
    },
    "kernelspec": {
      "name": "python3",
      "display_name": "Python 3"
    }
  },
  "cells": [
    {
      "cell_type": "markdown",
      "metadata": {
        "id": "view-in-github",
        "colab_type": "text"
      },
      "source": [
        "<a href=\"https://colab.research.google.com/github/ybaris/DATA-690-WANG/blob/master/Week04_Assignment.ipynb\" target=\"_parent\"><img src=\"https://colab.research.google.com/assets/colab-badge.svg\" alt=\"Open In Colab\"/></a>"
      ]
    },
    {
      "cell_type": "markdown",
      "metadata": {
        "id": "SIGhpUCyEf4D",
        "colab_type": "text"
      },
      "source": [
        "1. Write code to open the text file census_cost.txt and read all lines into a list named \"line_list\". Print line_list.\n",
        "2. Extract the first two lines and put them in a different list named \"top2_list\". You will need to use them later. Print the top2_list.\n",
        "3. Put the rest of the lines (containing useful data elements) in a new list named \"data_list\". Print data_list.\n",
        "4. Extract the column \"Census Year\" from data_list and assign them to a list named year_list. Remove the \"\" from the last element \"2010\". Print the cleansed year_list.\n",
        "5. Extract the \"Total Population\" column from the data_list and assign them to a list named \"pop_list\". Remove the \",\" from the numbers since Python doesn't recognize them. Print the cleansed \"pop_list\".\n",
        "6. Extract the \"Census Cost\" column from the data_list and assign them to a list named \"cost_list\". Remove the \",\", and \"$\", and \"Billion\". Make sure to add the \"0\"s to the numbers from which you removed \"Billion\". Print the cleansed cost_list.\n",
        "\n",
        "7. Extract the \"Average Cost per Person\" column from the data_list and assign them to a list named \"avg_list\". Remove the \"cents\", and \"$\". Make sure to divide the numbers in cents by 100 so that all numbers are measured in dollar. Print the cleansed avg_list.\n",
        "8. Coalesce the cleansed data and save them to a text file named \"census_cost.csv\". The new file should look similar to the original source file except that it is in comma-delimited format and the numbers have been cleansed. The top two lines from the original file should be retained in the new file.\n",
        "9. Open the newly-created file \"census_cost.csv\", read all lines and display them. How does it look?"
      ]
    },
    {
      "cell_type": "code",
      "metadata": {
        "id": "9QFnE4T8fzr0",
        "colab_type": "code",
        "colab": {}
      },
      "source": [
        "with open('census_cost.txt', 'rt') as my_file:\n",
        "    line_list = my_file.readlines()"
      ],
      "execution_count": 80,
      "outputs": []
    },
    {
      "cell_type": "code",
      "metadata": {
        "id": "SkWx_vX_aIcL",
        "colab_type": "code",
        "colab": {
          "base_uri": "https://localhost:8080/",
          "height": 72
        },
        "outputId": "2131b0c0-737f-4c06-9ffd-50076dd8085c"
      },
      "source": [
        "print(line_list)\n",
        "type(line_list)"
      ],
      "execution_count": 81,
      "outputs": [
        {
          "output_type": "stream",
          "text": [
            "['Source: https://www.genealogybranches.com/censuscosts.html\\n', 'Census Year\\tTotal Population\\tCensus Cost\\tAverage Cost Per Person\\n', '1790\\t3,929,214\\t$44,377\\t1.13 cents\\n', '1800\\t5,308,483\\t$66,109\\t1.24 cents\\n', '1810\\t7,239,881\\t$178,445\\t2.46 cents\\n', '1820\\t9,633,822\\t$208,526\\t2.16 cents\\n', '1830\\t12,866,020\\t$378,545\\t2.94 cents\\n', '1840\\t17,069,458\\t$833,371\\t4.88 cents\\n', '1850\\t23,191,876\\t$1,423,351\\t6.14 cents\\n', '1860\\t31,443,321\\t$1,969,377\\t6.26 cents\\n', '1870\\t38,558,371\\t$3,421,198\\t8.87 cents\\n', '1880\\t50,155,783\\t$5,790,678\\t11.54 cents\\n', '1890\\t62,979,766\\t$11,547,127\\t18.33 cents\\n', '1900\\t76,303,387\\t$11,854,000\\t15.54 cents\\n', '1910\\t91,972,266\\t$15,968,000\\t17.07 cents\\n', '1920\\t105,710,620\\t$25,117,000\\t23.76 cents\\n', '1930\\t122,775,046\\t$40,156,000\\t32.71 cents\\n', '1940\\t131,669,275\\t$67,527,000\\t51.29 cents\\n', '1950\\t151,325,798\\t$91,462,000\\t60.44 cents\\n', '1960\\t179,323,175\\t$127,934,000\\t71.34 cents\\n', '1970\\t203,302,031\\t$247,653,000\\t$1.22\\n', '1980\\t226,542,199\\t$1,078,488,000\\t$4.76\\n', '1990\\t248,718,301\\t$2,492,830,000\\t$10.02\\n', '2000\\t281,421,906\\t$4.5 Billion\\t$15.99\\n', '2010*\\t308,745,538\\t$13 Billion\\t$42.11']\n"
          ],
          "name": "stdout"
        },
        {
          "output_type": "execute_result",
          "data": {
            "text/plain": [
              "list"
            ]
          },
          "metadata": {
            "tags": []
          },
          "execution_count": 81
        }
      ]
    },
    {
      "cell_type": "code",
      "metadata": {
        "id": "qF-Tv-DxRrtk",
        "colab_type": "code",
        "colab": {}
      },
      "source": [
        "line_list = ['Source: https://www.genealogybranches.com/censuscosts.html\\n', 'Census Year\\tTotal Population\\tCensus Cost\\tAverage Cost Per Person\\n', '1790\\t3,929,214\\t$44,377\\t1.13 cents\\n', '1800\\t5,308,483\\t$66,109\\t1.24 cents\\n', '1810\\t7,239,881\\t$178,445\\t2.46 cents\\n', '1820\\t9,633,822\\t$208,526\\t2.16 cents\\n', '1830\\t12,866,020\\t$378,545\\t2.94 cents\\n', '1840\\t17,069,458\\t$833,371\\t4.88 cents\\n', '1850\\t23,191,876\\t$1,423,351\\t6.14 cents\\n', '1860\\t31,443,321\\t$1,969,377\\t6.26 cents\\n', '1870\\t38,558,371\\t$3,421,198\\t8.87 cents\\n', '1880\\t50,155,783\\t$5,790,678\\t11.54 cents\\n', '1890\\t62,979,766\\t$11,547,127\\t18.33 cents\\n', '1900\\t76,303,387\\t$11,854,000\\t15.54 cents\\n', '1910\\t91,972,266\\t$15,968,000\\t17.07 cents\\n', '1920\\t105,710,620\\t$25,117,000\\t23.76 cents\\n', '1930\\t122,775,046\\t$40,156,000\\t32.71 cents\\n', '1940\\t131,669,275\\t$67,527,000\\t51.29 cents\\n', '1950\\t151,325,798\\t$91,462,000\\t60.44 cents\\n', '1960\\t179,323,175\\t$127,934,000\\t71.34 cents\\n', '1970\\t203,302,031\\t$247,653,000\\t$1.22\\n', '1980\\t226,542,199\\t$1,078,488,000\\t$4.76\\n', '1990\\t248,718,301\\t$2,492,830,000\\t$10.02\\n', '2000\\t281,421,906\\t$4.5 Billion\\t$15.99\\n', '2010*\\t308,745,538\\t$13 Billion\\t$42.11']\n"
      ],
      "execution_count": 82,
      "outputs": []
    },
    {
      "cell_type": "code",
      "metadata": {
        "id": "mjgyQLqfatHd",
        "colab_type": "code",
        "colab": {
          "base_uri": "https://localhost:8080/",
          "height": 887
        },
        "outputId": "213e5bc3-b4c3-44a2-b0a3-8f32962c99f2"
      },
      "source": [
        "for line in line_list: \n",
        "    print(line)"
      ],
      "execution_count": 83,
      "outputs": [
        {
          "output_type": "stream",
          "text": [
            "Source: https://www.genealogybranches.com/censuscosts.html\n",
            "\n",
            "Census Year\tTotal Population\tCensus Cost\tAverage Cost Per Person\n",
            "\n",
            "1790\t3,929,214\t$44,377\t1.13 cents\n",
            "\n",
            "1800\t5,308,483\t$66,109\t1.24 cents\n",
            "\n",
            "1810\t7,239,881\t$178,445\t2.46 cents\n",
            "\n",
            "1820\t9,633,822\t$208,526\t2.16 cents\n",
            "\n",
            "1830\t12,866,020\t$378,545\t2.94 cents\n",
            "\n",
            "1840\t17,069,458\t$833,371\t4.88 cents\n",
            "\n",
            "1850\t23,191,876\t$1,423,351\t6.14 cents\n",
            "\n",
            "1860\t31,443,321\t$1,969,377\t6.26 cents\n",
            "\n",
            "1870\t38,558,371\t$3,421,198\t8.87 cents\n",
            "\n",
            "1880\t50,155,783\t$5,790,678\t11.54 cents\n",
            "\n",
            "1890\t62,979,766\t$11,547,127\t18.33 cents\n",
            "\n",
            "1900\t76,303,387\t$11,854,000\t15.54 cents\n",
            "\n",
            "1910\t91,972,266\t$15,968,000\t17.07 cents\n",
            "\n",
            "1920\t105,710,620\t$25,117,000\t23.76 cents\n",
            "\n",
            "1930\t122,775,046\t$40,156,000\t32.71 cents\n",
            "\n",
            "1940\t131,669,275\t$67,527,000\t51.29 cents\n",
            "\n",
            "1950\t151,325,798\t$91,462,000\t60.44 cents\n",
            "\n",
            "1960\t179,323,175\t$127,934,000\t71.34 cents\n",
            "\n",
            "1970\t203,302,031\t$247,653,000\t$1.22\n",
            "\n",
            "1980\t226,542,199\t$1,078,488,000\t$4.76\n",
            "\n",
            "1990\t248,718,301\t$2,492,830,000\t$10.02\n",
            "\n",
            "2000\t281,421,906\t$4.5 Billion\t$15.99\n",
            "\n",
            "2010*\t308,745,538\t$13 Billion\t$42.11\n"
          ],
          "name": "stdout"
        }
      ]
    },
    {
      "cell_type": "code",
      "metadata": {
        "id": "fdjgCu-Wk98c",
        "colab_type": "code",
        "colab": {
          "base_uri": "https://localhost:8080/",
          "height": 34
        },
        "outputId": "5bd8d7ab-05d5-4d11-886f-f0ec00581335"
      },
      "source": [
        "len(line_list)"
      ],
      "execution_count": 84,
      "outputs": [
        {
          "output_type": "execute_result",
          "data": {
            "text/plain": [
              "25"
            ]
          },
          "metadata": {
            "tags": []
          },
          "execution_count": 84
        }
      ]
    },
    {
      "cell_type": "markdown",
      "metadata": {
        "id": "bY397vhfv2FR",
        "colab_type": "text"
      },
      "source": [
        "## Step 2 \n",
        "Extract the first two lines and put them in a different list named \"top2_list\". You will need to use them later. Print the top2_list.\n"
      ]
    },
    {
      "cell_type": "code",
      "metadata": {
        "id": "Y_P7m626k_zI",
        "colab_type": "code",
        "colab": {
          "base_uri": "https://localhost:8080/",
          "height": 52
        },
        "outputId": "3c176f02-4000-4c13-a702-3f2ccefad656"
      },
      "source": [
        "top2_list = line_list[0:2]\n",
        "top2_list\n"
      ],
      "execution_count": 85,
      "outputs": [
        {
          "output_type": "execute_result",
          "data": {
            "text/plain": [
              "['Source: https://www.genealogybranches.com/censuscosts.html\\n',\n",
              " 'Census Year\\tTotal Population\\tCensus Cost\\tAverage Cost Per Person\\n']"
            ]
          },
          "metadata": {
            "tags": []
          },
          "execution_count": 85
        }
      ]
    },
    {
      "cell_type": "markdown",
      "metadata": {
        "id": "3iSyBDlM0TFP",
        "colab_type": "text"
      },
      "source": [
        "## Step 3 \n",
        "Put the rest of the lines (containing useful data elements) in a new list named \"data_list\". Print data_list.\n"
      ]
    },
    {
      "cell_type": "code",
      "metadata": {
        "id": "lfzOVZLUlRx1",
        "colab_type": "code",
        "colab": {
          "base_uri": "https://localhost:8080/",
          "height": 816
        },
        "outputId": "9415ef42-0d95-4c9b-eaba-320a9b7ffae7"
      },
      "source": [
        "# Save only data elements to a new line for step 3\n",
        "data_list = []\n",
        "with open(\"new_file.txt\", \"wt\") as f:\n",
        "    for line in line_list[2:]:\n",
        "        f.write(line.replace('\\t', ','))\n",
        "        data_list.append(line)\n",
        "        print(line)\n"
      ],
      "execution_count": 86,
      "outputs": [
        {
          "output_type": "stream",
          "text": [
            "1790\t3,929,214\t$44,377\t1.13 cents\n",
            "\n",
            "1800\t5,308,483\t$66,109\t1.24 cents\n",
            "\n",
            "1810\t7,239,881\t$178,445\t2.46 cents\n",
            "\n",
            "1820\t9,633,822\t$208,526\t2.16 cents\n",
            "\n",
            "1830\t12,866,020\t$378,545\t2.94 cents\n",
            "\n",
            "1840\t17,069,458\t$833,371\t4.88 cents\n",
            "\n",
            "1850\t23,191,876\t$1,423,351\t6.14 cents\n",
            "\n",
            "1860\t31,443,321\t$1,969,377\t6.26 cents\n",
            "\n",
            "1870\t38,558,371\t$3,421,198\t8.87 cents\n",
            "\n",
            "1880\t50,155,783\t$5,790,678\t11.54 cents\n",
            "\n",
            "1890\t62,979,766\t$11,547,127\t18.33 cents\n",
            "\n",
            "1900\t76,303,387\t$11,854,000\t15.54 cents\n",
            "\n",
            "1910\t91,972,266\t$15,968,000\t17.07 cents\n",
            "\n",
            "1920\t105,710,620\t$25,117,000\t23.76 cents\n",
            "\n",
            "1930\t122,775,046\t$40,156,000\t32.71 cents\n",
            "\n",
            "1940\t131,669,275\t$67,527,000\t51.29 cents\n",
            "\n",
            "1950\t151,325,798\t$91,462,000\t60.44 cents\n",
            "\n",
            "1960\t179,323,175\t$127,934,000\t71.34 cents\n",
            "\n",
            "1970\t203,302,031\t$247,653,000\t$1.22\n",
            "\n",
            "1980\t226,542,199\t$1,078,488,000\t$4.76\n",
            "\n",
            "1990\t248,718,301\t$2,492,830,000\t$10.02\n",
            "\n",
            "2000\t281,421,906\t$4.5 Billion\t$15.99\n",
            "\n",
            "2010*\t308,745,538\t$13 Billion\t$42.11\n"
          ],
          "name": "stdout"
        }
      ]
    },
    {
      "cell_type": "code",
      "metadata": {
        "id": "yYL8xcCw0q5w",
        "colab_type": "code",
        "colab": {
          "base_uri": "https://localhost:8080/",
          "height": 872
        },
        "outputId": "b43e2198-84e3-45ee-829e-037c6a61bf33"
      },
      "source": [
        "print(data_list)\n",
        "for line in data_list:\n",
        "    print(line)\n",
        "print(type(data_list))"
      ],
      "execution_count": 87,
      "outputs": [
        {
          "output_type": "stream",
          "text": [
            "['1790\\t3,929,214\\t$44,377\\t1.13 cents\\n', '1800\\t5,308,483\\t$66,109\\t1.24 cents\\n', '1810\\t7,239,881\\t$178,445\\t2.46 cents\\n', '1820\\t9,633,822\\t$208,526\\t2.16 cents\\n', '1830\\t12,866,020\\t$378,545\\t2.94 cents\\n', '1840\\t17,069,458\\t$833,371\\t4.88 cents\\n', '1850\\t23,191,876\\t$1,423,351\\t6.14 cents\\n', '1860\\t31,443,321\\t$1,969,377\\t6.26 cents\\n', '1870\\t38,558,371\\t$3,421,198\\t8.87 cents\\n', '1880\\t50,155,783\\t$5,790,678\\t11.54 cents\\n', '1890\\t62,979,766\\t$11,547,127\\t18.33 cents\\n', '1900\\t76,303,387\\t$11,854,000\\t15.54 cents\\n', '1910\\t91,972,266\\t$15,968,000\\t17.07 cents\\n', '1920\\t105,710,620\\t$25,117,000\\t23.76 cents\\n', '1930\\t122,775,046\\t$40,156,000\\t32.71 cents\\n', '1940\\t131,669,275\\t$67,527,000\\t51.29 cents\\n', '1950\\t151,325,798\\t$91,462,000\\t60.44 cents\\n', '1960\\t179,323,175\\t$127,934,000\\t71.34 cents\\n', '1970\\t203,302,031\\t$247,653,000\\t$1.22\\n', '1980\\t226,542,199\\t$1,078,488,000\\t$4.76\\n', '1990\\t248,718,301\\t$2,492,830,000\\t$10.02\\n', '2000\\t281,421,906\\t$4.5 Billion\\t$15.99\\n', '2010*\\t308,745,538\\t$13 Billion\\t$42.11']\n",
            "1790\t3,929,214\t$44,377\t1.13 cents\n",
            "\n",
            "1800\t5,308,483\t$66,109\t1.24 cents\n",
            "\n",
            "1810\t7,239,881\t$178,445\t2.46 cents\n",
            "\n",
            "1820\t9,633,822\t$208,526\t2.16 cents\n",
            "\n",
            "1830\t12,866,020\t$378,545\t2.94 cents\n",
            "\n",
            "1840\t17,069,458\t$833,371\t4.88 cents\n",
            "\n",
            "1850\t23,191,876\t$1,423,351\t6.14 cents\n",
            "\n",
            "1860\t31,443,321\t$1,969,377\t6.26 cents\n",
            "\n",
            "1870\t38,558,371\t$3,421,198\t8.87 cents\n",
            "\n",
            "1880\t50,155,783\t$5,790,678\t11.54 cents\n",
            "\n",
            "1890\t62,979,766\t$11,547,127\t18.33 cents\n",
            "\n",
            "1900\t76,303,387\t$11,854,000\t15.54 cents\n",
            "\n",
            "1910\t91,972,266\t$15,968,000\t17.07 cents\n",
            "\n",
            "1920\t105,710,620\t$25,117,000\t23.76 cents\n",
            "\n",
            "1930\t122,775,046\t$40,156,000\t32.71 cents\n",
            "\n",
            "1940\t131,669,275\t$67,527,000\t51.29 cents\n",
            "\n",
            "1950\t151,325,798\t$91,462,000\t60.44 cents\n",
            "\n",
            "1960\t179,323,175\t$127,934,000\t71.34 cents\n",
            "\n",
            "1970\t203,302,031\t$247,653,000\t$1.22\n",
            "\n",
            "1980\t226,542,199\t$1,078,488,000\t$4.76\n",
            "\n",
            "1990\t248,718,301\t$2,492,830,000\t$10.02\n",
            "\n",
            "2000\t281,421,906\t$4.5 Billion\t$15.99\n",
            "\n",
            "2010*\t308,745,538\t$13 Billion\t$42.11\n",
            "<class 'list'>\n"
          ],
          "name": "stdout"
        }
      ]
    },
    {
      "cell_type": "markdown",
      "metadata": {
        "id": "7scGh3vg0Mft",
        "colab_type": "text"
      },
      "source": [
        "## Step 4 \n",
        "Extract the column \"Census Year\" from data_list and assign them to a list named year_list. Remove the \"*\" from the last element \"2010\". Print the cleansed year_list."
      ]
    },
    {
      "cell_type": "code",
      "metadata": {
        "id": "wXWWeyLv1lFq",
        "colab_type": "code",
        "colab": {
          "base_uri": "https://localhost:8080/",
          "height": 425
        },
        "outputId": "fb1721ae-4c48-4032-909b-874cfa8eff16"
      },
      "source": [
        "year_list = []\n",
        "for line in data_list:\n",
        "    line.split(\"\\n\")\n",
        "    year_list.append(line[0:4])\n",
        "      \n",
        "year_list\n",
        "# This is not the desired display!!! Can we write them in one column?(Alt alta)"
      ],
      "execution_count": 88,
      "outputs": [
        {
          "output_type": "execute_result",
          "data": {
            "text/plain": [
              "['1790',\n",
              " '1800',\n",
              " '1810',\n",
              " '1820',\n",
              " '1830',\n",
              " '1840',\n",
              " '1850',\n",
              " '1860',\n",
              " '1870',\n",
              " '1880',\n",
              " '1890',\n",
              " '1900',\n",
              " '1910',\n",
              " '1920',\n",
              " '1930',\n",
              " '1940',\n",
              " '1950',\n",
              " '1960',\n",
              " '1970',\n",
              " '1980',\n",
              " '1990',\n",
              " '2000',\n",
              " '2010']"
            ]
          },
          "metadata": {
            "tags": []
          },
          "execution_count": 88
        }
      ]
    },
    {
      "cell_type": "code",
      "metadata": {
        "id": "y_RIcWZwo1Xh",
        "colab_type": "code",
        "colab": {
          "base_uri": "https://localhost:8080/",
          "height": 425
        },
        "outputId": "305f5c67-7af0-4d73-e45f-f84975e73b37"
      },
      "source": [
        "for year in year_list:\n",
        "    print(year)"
      ],
      "execution_count": 89,
      "outputs": [
        {
          "output_type": "stream",
          "text": [
            "1790\n",
            "1800\n",
            "1810\n",
            "1820\n",
            "1830\n",
            "1840\n",
            "1850\n",
            "1860\n",
            "1870\n",
            "1880\n",
            "1890\n",
            "1900\n",
            "1910\n",
            "1920\n",
            "1930\n",
            "1940\n",
            "1950\n",
            "1960\n",
            "1970\n",
            "1980\n",
            "1990\n",
            "2000\n",
            "2010\n"
          ],
          "name": "stdout"
        }
      ]
    },
    {
      "cell_type": "markdown",
      "metadata": {
        "id": "VOYsGghI3iPY",
        "colab_type": "text"
      },
      "source": [
        "## Step 5 \n",
        "Extract the \"Total Population\" column from the data_list and assign them to a list named \"pop_list\". Remove the \",\" from the numbers since Python doesn't recognize them. Print the cleansed \"pop_list\"."
      ]
    },
    {
      "cell_type": "code",
      "metadata": {
        "id": "DRQocARRtP-x",
        "colab_type": "code",
        "colab": {
          "base_uri": "https://localhost:8080/",
          "height": 425
        },
        "outputId": "62360c1e-1216-4ba5-eb59-651d64e8e69c"
      },
      "source": [
        "pop_list = []\n",
        "for line in data_list:\n",
        "    population = line.split()[1]\n",
        "    pop_list.append(population.replace(\",\", \"\"))\n",
        "\n",
        "pop_list\n"
      ],
      "execution_count": 90,
      "outputs": [
        {
          "output_type": "execute_result",
          "data": {
            "text/plain": [
              "['3929214',\n",
              " '5308483',\n",
              " '7239881',\n",
              " '9633822',\n",
              " '12866020',\n",
              " '17069458',\n",
              " '23191876',\n",
              " '31443321',\n",
              " '38558371',\n",
              " '50155783',\n",
              " '62979766',\n",
              " '76303387',\n",
              " '91972266',\n",
              " '105710620',\n",
              " '122775046',\n",
              " '131669275',\n",
              " '151325798',\n",
              " '179323175',\n",
              " '203302031',\n",
              " '226542199',\n",
              " '248718301',\n",
              " '281421906',\n",
              " '308745538']"
            ]
          },
          "metadata": {
            "tags": []
          },
          "execution_count": 90
        }
      ]
    },
    {
      "cell_type": "markdown",
      "metadata": {
        "id": "LsxIslc3Uooe",
        "colab_type": "text"
      },
      "source": [
        "### Below cell is for my record\n"
      ]
    },
    {
      "cell_type": "code",
      "metadata": {
        "id": "rmmzZkz5TGnZ",
        "colab_type": "code",
        "colab": {
          "base_uri": "https://localhost:8080/",
          "height": 105
        },
        "outputId": "173bac83-2e70-40f9-ac9c-710e11704952"
      },
      "source": [
        "data_list[0].split()\n",
        "x = data_list[0].split()\n",
        "for element in x: \n",
        "    print(element)"
      ],
      "execution_count": 91,
      "outputs": [
        {
          "output_type": "stream",
          "text": [
            "1790\n",
            "3,929,214\n",
            "$44,377\n",
            "1.13\n",
            "cents\n"
          ],
          "name": "stdout"
        }
      ]
    },
    {
      "cell_type": "markdown",
      "metadata": {
        "id": "0PfYPY-ri8gh",
        "colab_type": "text"
      },
      "source": [
        "## Step 6 \n",
        "Extract the \"Census Cost\" column from the data_list and assign them to a list named \"cost_list\". Remove the \",\", and \"$\", and \"Billion\". Make sure to add the \"0\"s to the numbers from which you removed \"Billion\". Print the cleansed cost_list."
      ]
    },
    {
      "cell_type": "code",
      "metadata": {
        "id": "eYBfcKDKjAtF",
        "colab_type": "code",
        "colab": {
          "base_uri": "https://localhost:8080/",
          "height": 425
        },
        "outputId": "5b42b830-5628-4f40-cf3b-e6bd6dbbba57"
      },
      "source": [
        "removed_chars = [\",\", \"$\", \"billion\"]\n",
        "\n",
        "census_cost_list = []\n",
        "for line in data_list:\n",
        "    # Get the value in \"Census Cost\" column\n",
        "    census_cost = line.split()[2]\n",
        "    # Iterate through the list of removed characters and remove them\n",
        "    for char in removed_chars:\n",
        "        # If the 3rd element of line's split is \"Billion\" add 9 0's\n",
        "        if line.split()[3] == \"Billion\":\n",
        "            census_cost += \"0\" * 9\n",
        "        # Remove the character from the string\n",
        "        census_cost = census_cost.replace(char, \"\")\n",
        "    # Add the 'raw' value to the list\n",
        "    census_cost_list.append(census_cost)\n",
        "\n",
        "census_cost_list"
      ],
      "execution_count": 92,
      "outputs": [
        {
          "output_type": "execute_result",
          "data": {
            "text/plain": [
              "['44377',\n",
              " '66109',\n",
              " '178445',\n",
              " '208526',\n",
              " '378545',\n",
              " '833371',\n",
              " '1423351',\n",
              " '1969377',\n",
              " '3421198',\n",
              " '5790678',\n",
              " '11547127',\n",
              " '11854000',\n",
              " '15968000',\n",
              " '25117000',\n",
              " '40156000',\n",
              " '67527000',\n",
              " '91462000',\n",
              " '127934000',\n",
              " '247653000',\n",
              " '1078488000',\n",
              " '2492830000',\n",
              " '4.5000000000000000000000000000',\n",
              " '13000000000000000000000000000']"
            ]
          },
          "metadata": {
            "tags": []
          },
          "execution_count": 92
        }
      ]
    },
    {
      "cell_type": "markdown",
      "metadata": {
        "id": "c4gSdmuoeeTg",
        "colab_type": "text"
      },
      "source": [
        "## Step 7 \n",
        "Extract the \"Average Cost per Person\" column from the data_list and assign them to a list named \"avg_list\". Remove the \"cents\", and \"$\". Make sure to divide the numbers in cents by 100 so that all numbers are measured in dollar. Print the cleansed avg_list."
      ]
    },
    {
      "cell_type": "code",
      "metadata": {
        "id": "HjnXkD6nYdZf",
        "colab_type": "code",
        "colab": {
          "base_uri": "https://localhost:8080/",
          "height": 34
        },
        "outputId": "97734843-6477-4903-94c2-341ebc2832da"
      },
      "source": [
        "1.13 / 100\n"
      ],
      "execution_count": 93,
      "outputs": [
        {
          "output_type": "execute_result",
          "data": {
            "text/plain": [
              "0.0113"
            ]
          },
          "metadata": {
            "tags": []
          },
          "execution_count": 93
        }
      ]
    },
    {
      "cell_type": "code",
      "metadata": {
        "id": "pglrs5Ysedad",
        "colab_type": "code",
        "colab": {
          "base_uri": "https://localhost:8080/",
          "height": 425
        },
        "outputId": "04c70a8e-99b5-48c9-ec67-f465b8570871"
      },
      "source": [
        "avg_list = []\n",
        "removed_chars = [\",\", \"$\", \"billion\", \"cents\"]\n",
        "\n",
        "for line in data_list: \n",
        "    average = line.split()[3]\n",
        "    if average == \"Billion\":\n",
        "        average = line.split()[4]\n",
        "    if line.split()[-1] == \"cents\":\n",
        "        average = float(average) / 100\n",
        "    avg_list.append(average)\n",
        "\n",
        "avg_list\n"
      ],
      "execution_count": 94,
      "outputs": [
        {
          "output_type": "execute_result",
          "data": {
            "text/plain": [
              "[0.0113,\n",
              " 0.0124,\n",
              " 0.0246,\n",
              " 0.0216,\n",
              " 0.0294,\n",
              " 0.048799999999999996,\n",
              " 0.061399999999999996,\n",
              " 0.0626,\n",
              " 0.08869999999999999,\n",
              " 0.11539999999999999,\n",
              " 0.1833,\n",
              " 0.15539999999999998,\n",
              " 0.1707,\n",
              " 0.2376,\n",
              " 0.3271,\n",
              " 0.5129,\n",
              " 0.6043999999999999,\n",
              " 0.7134,\n",
              " '$1.22',\n",
              " '$4.76',\n",
              " '$10.02',\n",
              " '$15.99',\n",
              " '$42.11']"
            ]
          },
          "metadata": {
            "tags": []
          },
          "execution_count": 94
        }
      ]
    },
    {
      "cell_type": "markdown",
      "metadata": {
        "id": "-YmyLtUZq0hd",
        "colab_type": "text"
      },
      "source": [
        "## Step 8 \n",
        "Coalesce the cleansed data and save them to a text file named \"census_cost.csv\". The new file should look similar to the original source file except that it is in comma-delimited format and the numbers have been cleansed. The top two lines from the original file should be retained in the new file."
      ]
    },
    {
      "cell_type": "code",
      "metadata": {
        "id": "YVyUziRQq469",
        "colab_type": "code",
        "colab": {}
      },
      "source": [
        "import csv\n",
        "data = [year_list , pop_list , census_cost_list , avg_list]\n",
        "census_cost_csv = open('data.csv', 'w+', newline ='') \n",
        "with census_cost_csv:     \n",
        "    write = csv.writer(census_cost_csv) \n",
        "    write.writerows(zip(*data))\n"
      ],
      "execution_count": 95,
      "outputs": []
    },
    {
      "cell_type": "code",
      "metadata": {
        "id": "p0AAEA9IaxxP",
        "colab_type": "code",
        "colab": {
          "base_uri": "https://localhost:8080/",
          "height": 34
        },
        "outputId": "2a20eb92-ddf7-4853-e2a9-40391fd23795"
      },
      "source": [
        "type(data)"
      ],
      "execution_count": 96,
      "outputs": [
        {
          "output_type": "execute_result",
          "data": {
            "text/plain": [
              "list"
            ]
          },
          "metadata": {
            "tags": []
          },
          "execution_count": 96
        }
      ]
    },
    {
      "cell_type": "markdown",
      "metadata": {
        "id": "eKgvhLX1bRki",
        "colab_type": "text"
      },
      "source": [
        "## Step 9 \n",
        "Open the newly-created file \"census_cost.csv\", read all lines and display them. How does it look?\n"
      ]
    },
    {
      "cell_type": "code",
      "metadata": {
        "id": "Fxr8oBl9dC5q",
        "colab_type": "code",
        "colab": {}
      },
      "source": [
        "with open(\"/content/data.csv\", \"r\") as final: \n",
        "    data = final.readlines()"
      ],
      "execution_count": 97,
      "outputs": []
    },
    {
      "cell_type": "code",
      "metadata": {
        "id": "QRRpqApGesgY",
        "colab_type": "code",
        "colab": {
          "base_uri": "https://localhost:8080/",
          "height": 425
        },
        "outputId": "229f66a3-a53d-4a24-bb5a-2d1ab40059ca"
      },
      "source": [
        "data"
      ],
      "execution_count": 98,
      "outputs": [
        {
          "output_type": "execute_result",
          "data": {
            "text/plain": [
              "['1790,3929214,44377,0.0113\\n',\n",
              " '1800,5308483,66109,0.0124\\n',\n",
              " '1810,7239881,178445,0.0246\\n',\n",
              " '1820,9633822,208526,0.0216\\n',\n",
              " '1830,12866020,378545,0.0294\\n',\n",
              " '1840,17069458,833371,0.048799999999999996\\n',\n",
              " '1850,23191876,1423351,0.061399999999999996\\n',\n",
              " '1860,31443321,1969377,0.0626\\n',\n",
              " '1870,38558371,3421198,0.08869999999999999\\n',\n",
              " '1880,50155783,5790678,0.11539999999999999\\n',\n",
              " '1890,62979766,11547127,0.1833\\n',\n",
              " '1900,76303387,11854000,0.15539999999999998\\n',\n",
              " '1910,91972266,15968000,0.1707\\n',\n",
              " '1920,105710620,25117000,0.2376\\n',\n",
              " '1930,122775046,40156000,0.3271\\n',\n",
              " '1940,131669275,67527000,0.5129\\n',\n",
              " '1950,151325798,91462000,0.6043999999999999\\n',\n",
              " '1960,179323175,127934000,0.7134\\n',\n",
              " '1970,203302031,247653000,$1.22\\n',\n",
              " '1980,226542199,1078488000,$4.76\\n',\n",
              " '1990,248718301,2492830000,$10.02\\n',\n",
              " '2000,281421906,4.5000000000000000000000000000,$15.99\\n',\n",
              " '2010,308745538,13000000000000000000000000000,$42.11\\n']"
            ]
          },
          "metadata": {
            "tags": []
          },
          "execution_count": 98
        }
      ]
    }
  ]
}