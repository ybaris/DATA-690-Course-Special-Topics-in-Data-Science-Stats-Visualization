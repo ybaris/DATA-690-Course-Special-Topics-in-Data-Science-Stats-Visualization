{
 "cells": [
  {
   "cell_type": "markdown",
   "metadata": {
    "id": "Qu71PxHv8MbQ"
   },
   "source": [
    "# State of Maryland Annual Salary 2019\n",
    "I analyzed annual salaries for state of Maryland employees for the year 2019. I focused on UMBC and UMCP(College Park) and compared their statistics between each other. Then I compared 2012 and 2019 for both UMBC and UMCP and checked if they have increase or decrease in 7 years. "
   ]
  },
  {
   "cell_type": "code",
   "execution_count": 117,
   "metadata": {
    "colab": {
     "base_uri": "https://localhost:8080/",
     "height": 628
    },
    "id": "tJD0oxrx6WFN",
    "outputId": "bce185b7-2154-4b30-b53b-6d37e6929b01"
   },
   "outputs": [
    {
     "name": "stderr",
     "output_type": "stream",
     "text": [
      "/usr/local/lib/python3.6/dist-packages/IPython/core/interactiveshell.py:2718: DtypeWarning: Columns (7) have mixed types.Specify dtype option on import or set low_memory=False.\n",
      "  interactivity=interactivity, compiler=compiler, result=result)\n"
     ]
    },
    {
     "data": {
      "text/html": [
       "<div>\n",
       "<style scoped>\n",
       "    .dataframe tbody tr th:only-of-type {\n",
       "        vertical-align: middle;\n",
       "    }\n",
       "\n",
       "    .dataframe tbody tr th {\n",
       "        vertical-align: top;\n",
       "    }\n",
       "\n",
       "    .dataframe thead th {\n",
       "        text-align: right;\n",
       "    }\n",
       "</style>\n",
       "<table border=\"1\" class=\"dataframe\">\n",
       "  <thead>\n",
       "    <tr style=\"text-align: right;\">\n",
       "      <th></th>\n",
       "      <th>first_name</th>\n",
       "      <th>middle_initial</th>\n",
       "      <th>last_name</th>\n",
       "      <th>suffix</th>\n",
       "      <th>system</th>\n",
       "      <th>agency</th>\n",
       "      <th>organization</th>\n",
       "      <th>subtitle</th>\n",
       "      <th>class_code</th>\n",
       "      <th>annual_salary</th>\n",
       "      <th>pay_rate</th>\n",
       "      <th>regular_earnings</th>\n",
       "      <th>overtime_earnings</th>\n",
       "      <th>other_earnings</th>\n",
       "      <th>ytd_gross_earnings</th>\n",
       "      <th>term_date</th>\n",
       "    </tr>\n",
       "  </thead>\n",
       "  <tbody>\n",
       "    <tr>\n",
       "      <th>0</th>\n",
       "      <td>JOHN</td>\n",
       "      <td>C</td>\n",
       "      <td>POLIKS</td>\n",
       "      <td>NaN</td>\n",
       "      <td>RG</td>\n",
       "      <td>290201</td>\n",
       "      <td>DEPARTMENT OF TRANSPORTATION</td>\n",
       "      <td>290201</td>\n",
       "      <td>8096</td>\n",
       "      <td>71000.00</td>\n",
       "      <td>A</td>\n",
       "      <td>70000</td>\n",
       "      <td>14000</td>\n",
       "      <td>500</td>\n",
       "      <td>85000</td>\n",
       "      <td>NaN</td>\n",
       "    </tr>\n",
       "    <tr>\n",
       "      <th>1</th>\n",
       "      <td>CARL</td>\n",
       "      <td>NaN</td>\n",
       "      <td>CHAMBERLIN</td>\n",
       "      <td>NaN</td>\n",
       "      <td>RG</td>\n",
       "      <td>290201</td>\n",
       "      <td>DEPARTMENT OF TRANSPORTATION</td>\n",
       "      <td>290201</td>\n",
       "      <td>515</td>\n",
       "      <td>96000.00</td>\n",
       "      <td>A</td>\n",
       "      <td>93000</td>\n",
       "      <td>0</td>\n",
       "      <td>500</td>\n",
       "      <td>94000</td>\n",
       "      <td>NaN</td>\n",
       "    </tr>\n",
       "    <tr>\n",
       "      <th>2</th>\n",
       "      <td>JOSEPHINE</td>\n",
       "      <td>K</td>\n",
       "      <td>OBONYO</td>\n",
       "      <td>NaN</td>\n",
       "      <td>RG</td>\n",
       "      <td>290201</td>\n",
       "      <td>DEPARTMENT OF TRANSPORTATION</td>\n",
       "      <td>290201</td>\n",
       "      <td>4849</td>\n",
       "      <td>73000.00</td>\n",
       "      <td>A</td>\n",
       "      <td>69000</td>\n",
       "      <td>0</td>\n",
       "      <td>2800</td>\n",
       "      <td>71000</td>\n",
       "      <td>NaN</td>\n",
       "    </tr>\n",
       "    <tr>\n",
       "      <th>3</th>\n",
       "      <td>LORI</td>\n",
       "      <td>J</td>\n",
       "      <td>MCFARLIN</td>\n",
       "      <td>NaN</td>\n",
       "      <td>RG</td>\n",
       "      <td>290201</td>\n",
       "      <td>DEPARTMENT OF TRANSPORTATION</td>\n",
       "      <td>290201</td>\n",
       "      <td>7480</td>\n",
       "      <td>73000.00</td>\n",
       "      <td>A</td>\n",
       "      <td>70000</td>\n",
       "      <td>1000</td>\n",
       "      <td>2200</td>\n",
       "      <td>74000</td>\n",
       "      <td>NaN</td>\n",
       "    </tr>\n",
       "    <tr>\n",
       "      <th>4</th>\n",
       "      <td>ELWOOD</td>\n",
       "      <td>D</td>\n",
       "      <td>HALL</td>\n",
       "      <td>JR</td>\n",
       "      <td>RG</td>\n",
       "      <td>290201</td>\n",
       "      <td>DEPARTMENT OF TRANSPORTATION</td>\n",
       "      <td>290201</td>\n",
       "      <td>7896</td>\n",
       "      <td>52000.00</td>\n",
       "      <td>A</td>\n",
       "      <td>51000</td>\n",
       "      <td>18000</td>\n",
       "      <td>1800</td>\n",
       "      <td>70000</td>\n",
       "      <td>NaN</td>\n",
       "    </tr>\n",
       "    <tr>\n",
       "      <th>...</th>\n",
       "      <td>...</td>\n",
       "      <td>...</td>\n",
       "      <td>...</td>\n",
       "      <td>...</td>\n",
       "      <td>...</td>\n",
       "      <td>...</td>\n",
       "      <td>...</td>\n",
       "      <td>...</td>\n",
       "      <td>...</td>\n",
       "      <td>...</td>\n",
       "      <td>...</td>\n",
       "      <td>...</td>\n",
       "      <td>...</td>\n",
       "      <td>...</td>\n",
       "      <td>...</td>\n",
       "      <td>...</td>\n",
       "    </tr>\n",
       "    <tr>\n",
       "      <th>174992</th>\n",
       "      <td>EDDIE</td>\n",
       "      <td>L</td>\n",
       "      <td>JOHNSON</td>\n",
       "      <td>NaN</td>\n",
       "      <td>CT</td>\n",
       "      <td>500216</td>\n",
       "      <td>REGISTER OF WILLS</td>\n",
       "      <td>NaN</td>\n",
       "      <td>8990</td>\n",
       "      <td>18.51</td>\n",
       "      <td>H</td>\n",
       "      <td>19000</td>\n",
       "      <td>0</td>\n",
       "      <td>0</td>\n",
       "      <td>19000</td>\n",
       "      <td>NaN</td>\n",
       "    </tr>\n",
       "    <tr>\n",
       "      <th>174993</th>\n",
       "      <td>JAMES</td>\n",
       "      <td>NaN</td>\n",
       "      <td>JENNINGS</td>\n",
       "      <td>NaN</td>\n",
       "      <td>CT</td>\n",
       "      <td>500216</td>\n",
       "      <td>REGISTER OF WILLS</td>\n",
       "      <td>NaN</td>\n",
       "      <td>8990</td>\n",
       "      <td>0.00</td>\n",
       "      <td>H</td>\n",
       "      <td>7000</td>\n",
       "      <td>0</td>\n",
       "      <td>0</td>\n",
       "      <td>7000</td>\n",
       "      <td>2019-06-30T00:00:00Z</td>\n",
       "    </tr>\n",
       "    <tr>\n",
       "      <th>174994</th>\n",
       "      <td>EDNA</td>\n",
       "      <td>M</td>\n",
       "      <td>BLUE</td>\n",
       "      <td>NaN</td>\n",
       "      <td>CT</td>\n",
       "      <td>500220</td>\n",
       "      <td>REGISTER OF WILLS</td>\n",
       "      <td>NaN</td>\n",
       "      <td>9702</td>\n",
       "      <td>18.39</td>\n",
       "      <td>H</td>\n",
       "      <td>12000</td>\n",
       "      <td>0</td>\n",
       "      <td>200</td>\n",
       "      <td>12000</td>\n",
       "      <td>NaN</td>\n",
       "    </tr>\n",
       "    <tr>\n",
       "      <th>174995</th>\n",
       "      <td>CAROLE</td>\n",
       "      <td>NaN</td>\n",
       "      <td>ABRUZZESE</td>\n",
       "      <td>NaN</td>\n",
       "      <td>CT</td>\n",
       "      <td>500220</td>\n",
       "      <td>REGISTER OF WILLS</td>\n",
       "      <td>NaN</td>\n",
       "      <td>9702</td>\n",
       "      <td>18.39</td>\n",
       "      <td>H</td>\n",
       "      <td>8000</td>\n",
       "      <td>0</td>\n",
       "      <td>100</td>\n",
       "      <td>8000</td>\n",
       "      <td>NaN</td>\n",
       "    </tr>\n",
       "    <tr>\n",
       "      <th>174996</th>\n",
       "      <td>FENDA</td>\n",
       "      <td>P</td>\n",
       "      <td>WHITELOCK</td>\n",
       "      <td>NaN</td>\n",
       "      <td>CT</td>\n",
       "      <td>500222</td>\n",
       "      <td>REGISTER OF WILLS</td>\n",
       "      <td>NaN</td>\n",
       "      <td>9702</td>\n",
       "      <td>18.77</td>\n",
       "      <td>H</td>\n",
       "      <td>8000</td>\n",
       "      <td>0</td>\n",
       "      <td>500</td>\n",
       "      <td>9000</td>\n",
       "      <td>NaN</td>\n",
       "    </tr>\n",
       "  </tbody>\n",
       "</table>\n",
       "<p>174997 rows × 16 columns</p>\n",
       "</div>"
      ],
      "text/plain": [
       "       first_name middle_initial  ... ytd_gross_earnings             term_date\n",
       "0            JOHN              C  ...              85000                   NaN\n",
       "1            CARL            NaN  ...              94000                   NaN\n",
       "2       JOSEPHINE              K  ...              71000                   NaN\n",
       "3            LORI              J  ...              74000                   NaN\n",
       "4          ELWOOD              D  ...              70000                   NaN\n",
       "...           ...            ...  ...                ...                   ...\n",
       "174992      EDDIE              L  ...              19000                   NaN\n",
       "174993      JAMES            NaN  ...               7000  2019-06-30T00:00:00Z\n",
       "174994       EDNA              M  ...              12000                   NaN\n",
       "174995     CAROLE            NaN  ...               8000                   NaN\n",
       "174996      FENDA              P  ...               9000                   NaN\n",
       "\n",
       "[174997 rows x 16 columns]"
      ]
     },
     "execution_count": 117,
     "metadata": {
      "tags": []
     },
     "output_type": "execute_result"
    }
   ],
   "source": [
    "import pandas as pd\n",
    "import seaborn as sns\n",
    "import matplotlib.pyplot as plt\n",
    "plt.style.use('bmh')\n",
    "\n",
    "data = pd.read_csv(r'/content/cy2019-md.csv')\n",
    "data"
   ]
  },
  {
   "cell_type": "code",
   "execution_count": 118,
   "metadata": {
    "colab": {
     "base_uri": "https://localhost:8080/"
    },
    "id": "atdnOla7_mAh",
    "outputId": "41ae4a06-ce7e-45ad-a737-25a630f54a4a"
   },
   "outputs": [
    {
     "data": {
      "text/plain": [
       "(174997, 16)"
      ]
     },
     "execution_count": 118,
     "metadata": {
      "tags": []
     },
     "output_type": "execute_result"
    }
   ],
   "source": [
    "data.shape"
   ]
  },
  {
   "cell_type": "code",
   "execution_count": 119,
   "metadata": {
    "colab": {
     "base_uri": "https://localhost:8080/"
    },
    "id": "UQ8dO0G72ofw",
    "outputId": "26707333-9b4c-480d-c388-ba8fb768c2af"
   },
   "outputs": [
    {
     "name": "stdout",
     "output_type": "stream",
     "text": [
      "<class 'pandas.core.frame.DataFrame'>\n",
      "RangeIndex: 174997 entries, 0 to 174996\n",
      "Data columns (total 16 columns):\n",
      " #   Column              Non-Null Count   Dtype  \n",
      "---  ------              --------------   -----  \n",
      " 0   first_name          174993 non-null  object \n",
      " 1   middle_initial      135796 non-null  object \n",
      " 2   last_name           174989 non-null  object \n",
      " 3   suffix              3681 non-null    object \n",
      " 4   system              174997 non-null  object \n",
      " 5   agency              174997 non-null  int64  \n",
      " 6   organization        174997 non-null  object \n",
      " 7   subtitle            99305 non-null   object \n",
      " 8   class_code          174997 non-null  int64  \n",
      " 9   annual_salary       174997 non-null  float64\n",
      " 10  pay_rate            174997 non-null  object \n",
      " 11  regular_earnings    174997 non-null  int64  \n",
      " 12  overtime_earnings   174997 non-null  int64  \n",
      " 13  other_earnings      174997 non-null  int64  \n",
      " 14  ytd_gross_earnings  174997 non-null  int64  \n",
      " 15  term_date           42634 non-null   object \n",
      "dtypes: float64(1), int64(6), object(9)\n",
      "memory usage: 21.4+ MB\n"
     ]
    }
   ],
   "source": [
    "# Getting what kind of data we have in each column\n",
    "data.info()"
   ]
  },
  {
   "cell_type": "code",
   "execution_count": 120,
   "metadata": {
    "id": "5eJ6lnaVherK"
   },
   "outputs": [],
   "source": [
    "# getting certain columns from the first dataframe to make it a cleaner dataframe.\n",
    "# cleansing 0 value ytd earnings from 'a' dataframe\n",
    "\n",
    "a = pd.read_csv(r'/content/cy2019-md.csv', usecols=['first_name', 'last_name', 'agency', 'organization', 'annual_salary','ytd_gross_earnings'])\n",
    "\n"
   ]
  },
  {
   "cell_type": "code",
   "execution_count": 121,
   "metadata": {
    "colab": {
     "base_uri": "https://localhost:8080/",
     "height": 406
    },
    "id": "TLP0SwRlGjyx",
    "outputId": "6772f14b-e89c-42fb-8e0d-ce23c85afa31"
   },
   "outputs": [
    {
     "data": {
      "text/html": [
       "<div>\n",
       "<style scoped>\n",
       "    .dataframe tbody tr th:only-of-type {\n",
       "        vertical-align: middle;\n",
       "    }\n",
       "\n",
       "    .dataframe tbody tr th {\n",
       "        vertical-align: top;\n",
       "    }\n",
       "\n",
       "    .dataframe thead th {\n",
       "        text-align: right;\n",
       "    }\n",
       "</style>\n",
       "<table border=\"1\" class=\"dataframe\">\n",
       "  <thead>\n",
       "    <tr style=\"text-align: right;\">\n",
       "      <th></th>\n",
       "      <th>first_name</th>\n",
       "      <th>last_name</th>\n",
       "      <th>agency</th>\n",
       "      <th>organization</th>\n",
       "      <th>annual_salary</th>\n",
       "      <th>ytd_gross_earnings</th>\n",
       "    </tr>\n",
       "  </thead>\n",
       "  <tbody>\n",
       "    <tr>\n",
       "      <th>0</th>\n",
       "      <td>JOHN</td>\n",
       "      <td>POLIKS</td>\n",
       "      <td>290201</td>\n",
       "      <td>DEPARTMENT OF TRANSPORTATION</td>\n",
       "      <td>71000.00</td>\n",
       "      <td>85000</td>\n",
       "    </tr>\n",
       "    <tr>\n",
       "      <th>1</th>\n",
       "      <td>CARL</td>\n",
       "      <td>CHAMBERLIN</td>\n",
       "      <td>290201</td>\n",
       "      <td>DEPARTMENT OF TRANSPORTATION</td>\n",
       "      <td>96000.00</td>\n",
       "      <td>94000</td>\n",
       "    </tr>\n",
       "    <tr>\n",
       "      <th>2</th>\n",
       "      <td>JOSEPHINE</td>\n",
       "      <td>OBONYO</td>\n",
       "      <td>290201</td>\n",
       "      <td>DEPARTMENT OF TRANSPORTATION</td>\n",
       "      <td>73000.00</td>\n",
       "      <td>71000</td>\n",
       "    </tr>\n",
       "    <tr>\n",
       "      <th>3</th>\n",
       "      <td>LORI</td>\n",
       "      <td>MCFARLIN</td>\n",
       "      <td>290201</td>\n",
       "      <td>DEPARTMENT OF TRANSPORTATION</td>\n",
       "      <td>73000.00</td>\n",
       "      <td>74000</td>\n",
       "    </tr>\n",
       "    <tr>\n",
       "      <th>4</th>\n",
       "      <td>ELWOOD</td>\n",
       "      <td>HALL</td>\n",
       "      <td>290201</td>\n",
       "      <td>DEPARTMENT OF TRANSPORTATION</td>\n",
       "      <td>52000.00</td>\n",
       "      <td>70000</td>\n",
       "    </tr>\n",
       "    <tr>\n",
       "      <th>...</th>\n",
       "      <td>...</td>\n",
       "      <td>...</td>\n",
       "      <td>...</td>\n",
       "      <td>...</td>\n",
       "      <td>...</td>\n",
       "      <td>...</td>\n",
       "    </tr>\n",
       "    <tr>\n",
       "      <th>174992</th>\n",
       "      <td>EDDIE</td>\n",
       "      <td>JOHNSON</td>\n",
       "      <td>500216</td>\n",
       "      <td>REGISTER OF WILLS</td>\n",
       "      <td>18.51</td>\n",
       "      <td>19000</td>\n",
       "    </tr>\n",
       "    <tr>\n",
       "      <th>174993</th>\n",
       "      <td>JAMES</td>\n",
       "      <td>JENNINGS</td>\n",
       "      <td>500216</td>\n",
       "      <td>REGISTER OF WILLS</td>\n",
       "      <td>0.00</td>\n",
       "      <td>7000</td>\n",
       "    </tr>\n",
       "    <tr>\n",
       "      <th>174994</th>\n",
       "      <td>EDNA</td>\n",
       "      <td>BLUE</td>\n",
       "      <td>500220</td>\n",
       "      <td>REGISTER OF WILLS</td>\n",
       "      <td>18.39</td>\n",
       "      <td>12000</td>\n",
       "    </tr>\n",
       "    <tr>\n",
       "      <th>174995</th>\n",
       "      <td>CAROLE</td>\n",
       "      <td>ABRUZZESE</td>\n",
       "      <td>500220</td>\n",
       "      <td>REGISTER OF WILLS</td>\n",
       "      <td>18.39</td>\n",
       "      <td>8000</td>\n",
       "    </tr>\n",
       "    <tr>\n",
       "      <th>174996</th>\n",
       "      <td>FENDA</td>\n",
       "      <td>WHITELOCK</td>\n",
       "      <td>500222</td>\n",
       "      <td>REGISTER OF WILLS</td>\n",
       "      <td>18.77</td>\n",
       "      <td>9000</td>\n",
       "    </tr>\n",
       "  </tbody>\n",
       "</table>\n",
       "<p>144733 rows × 6 columns</p>\n",
       "</div>"
      ],
      "text/plain": [
       "       first_name   last_name  ...  annual_salary ytd_gross_earnings\n",
       "0            JOHN      POLIKS  ...       71000.00              85000\n",
       "1            CARL  CHAMBERLIN  ...       96000.00              94000\n",
       "2       JOSEPHINE      OBONYO  ...       73000.00              71000\n",
       "3            LORI    MCFARLIN  ...       73000.00              74000\n",
       "4          ELWOOD        HALL  ...       52000.00              70000\n",
       "...           ...         ...  ...            ...                ...\n",
       "174992      EDDIE     JOHNSON  ...          18.51              19000\n",
       "174993      JAMES    JENNINGS  ...           0.00               7000\n",
       "174994       EDNA        BLUE  ...          18.39              12000\n",
       "174995     CAROLE   ABRUZZESE  ...          18.39               8000\n",
       "174996      FENDA   WHITELOCK  ...          18.77               9000\n",
       "\n",
       "[144733 rows x 6 columns]"
      ]
     },
     "execution_count": 121,
     "metadata": {
      "tags": []
     },
     "output_type": "execute_result"
    }
   ],
   "source": [
    "# cleansing 0 value ytd earnings from 'a' dataframe\n",
    "\n",
    "a = a[a[\"ytd_gross_earnings\"] != 0]\n",
    "a"
   ]
  },
  {
   "cell_type": "code",
   "execution_count": 122,
   "metadata": {
    "colab": {
     "base_uri": "https://localhost:8080/"
    },
    "id": "GcjnU7C1KSwI",
    "outputId": "d8b78e31-2e84-4482-9f4f-4a3762168008"
   },
   "outputs": [
    {
     "name": "stdout",
     "output_type": "stream",
     "text": [
      "['DEPARTMENT OF TRANSPORTATION', 'GENERAL ASSEMBLY OF MARYLAND', 'JUDICIARY', 'OFFICE OF THE PUBLIC DEFENDER', 'OFFICE OF THE ATTORNEY GENERAL', 'OFFICE OF STATE PROSECUTOR', 'MARYLAND TAX COURT', \"WORKERS' COMPENSATION COM\", 'PUBLIC SERVICE COMMISSION', \"OFFICE OF PEOPLE'S COUNSEL\", 'SUBSEQUENT INJURY FUND', \"MD UNINSURED EMPLOYERS' FUND\", 'EXECUTIVE DEPARTMENT', 'MD STADIUM AUTHORITY', 'EXECUTIVE DEPT', 'SECRETARY OF STATE', 'OFFICE ON AGING', 'STATE ARCHIVES', 'OFFICE OF ADMNSTRTV HEARINGS', 'MD ENERGY ADMINISTRATION', \"GOVERNOR'S OFFICE FOR CHILDREN\", \"HISTORIC ST. MARY'S CITY COMM\", 'BOARD OF PUBLIC WORKS', 'MILITARY DEPARTMENT', 'ST ADM BOARD OF ELECTION LAWS', 'MD COMMISSION ON CIVIL RIGHTS', 'MD FOOD CENTER AUTHORITY', 'MD DEPT OF VETERANS AFFAIRS', 'CANAL PLACE PRESERV & DEV AUTH', 'MD HEALTH BENEFIT EXCHANGE', 'MARYLAND OFFICE OF PLANNING', 'MARYLAND INSURANCE ADMIN', 'MD INS FOR EMERG MED SERV SYS', 'COMPTROLLER OF MARYLAND', 'STATE TREASURER', 'DEPT OF ASSESSMENTS & TAXATION', 'STATE LOTTERY AGENCY', 'PROPERTY TAX ASSMTS APPEAL BDS', 'DEPT OF BUDGET AND MANAGEMENT', 'DEPT OF INFORMATION TECH', 'BD-MD TCHR&ST EMP SUPP RET PLN', 'STATE RETIREMENT AGENCY', 'DEPARTMENT OF GENERAL SERVICES', 'DEPT OF NATURAL RESOURCES', 'DEPARTMNT OF NATURAL RESOURCES', 'DEPT OF AGRICULTURE', 'DEPARTMENT OF AGRICULTURE', 'MARYLAND DEPARTMENT OF HEALTH', 'DEPT OF ENVIRONMENT', 'DEPARTMENT OF THE ENVIRONMENT', 'DEPT OF THE ENVIRONMENT', 'MD DEPT OF HUMAN SERVICES', 'DEPT OF LABOR, LICENSING & REG', 'DEPT OF JUVENILE SERVICES', 'DEPT OF PUB SAFETY & COR SERV', 'DEPT OF PUB SAFETY & COR SERVS', 'DEPARTMENT OF STATE POLICE', 'STATE DEPARTMENT OF EDUCATION', 'MARYLAND STATE LIBRARY AGENCY', 'MD STATE DEPT OF EDUCATION', 'STATE UNIVERSITIES & COLLEGES', 'BALTO CITY COMMUNITY COLLEGE', \"ST. MARY'S COLLEGE OF MARYLAND\", 'MARYLAND SCHOOL FOR THE DEAF', 'MARYLAND529', 'MARYLAND HIGHER EDUCATION COMM', 'MORGAN STATE UNIVERSITY', 'MD PUBLIC BROADCASTING COM', 'DEPT HOUSING & COMMUNITY DEV', 'DEPT HOUSING AND COMMUNITY DEV', 'MD AFRICAN AMERICAN MUSEUM', 'DEPT OF COMMERCE', 'REGISTER OF WILLS', 'UNIVERSITY OF MARYLAND', 'DEPT OF NATURAL RESOURES']\n"
     ]
    },
    {
     "data": {
      "text/plain": [
       "75"
      ]
     },
     "execution_count": 122,
     "metadata": {
      "tags": []
     },
     "output_type": "execute_result"
    }
   ],
   "source": [
    "# how many different organization? \n",
    "clean_list = []\n",
    "for i in a['organization']: \n",
    "    if i not in clean_list: \n",
    "        clean_list.append(i)\n",
    "print(clean_list)\n",
    "len(clean_list)"
   ]
  },
  {
   "cell_type": "code",
   "execution_count": 123,
   "metadata": {
    "colab": {
     "base_uri": "https://localhost:8080/",
     "height": 722
    },
    "id": "XQrET9A95krI",
    "outputId": "af2d0dd3-b52f-4c62-e03f-76832adf2a30"
   },
   "outputs": [
    {
     "name": "stdout",
     "output_type": "stream",
     "text": [
      "count    1.447330e+05\n",
      "mean     4.381643e+04\n",
      "std      4.620009e+04\n",
      "min      1.000000e+03\n",
      "25%      8.000000e+03\n",
      "50%      3.600000e+04\n",
      "75%      6.400000e+04\n",
      "max      3.047000e+06\n",
      "Name: ytd_gross_earnings, dtype: float64\n"
     ]
    },
    {
     "name": "stderr",
     "output_type": "stream",
     "text": [
      "/usr/local/lib/python3.6/dist-packages/seaborn/distributions.py:2551: FutureWarning: `distplot` is a deprecated function and will be removed in a future version. Please adapt your code to use either `displot` (a figure-level function with similar flexibility) or `histplot` (an axes-level function for histograms).\n",
      "  warnings.warn(msg, FutureWarning)\n"
     ]
    },
    {
     "data": {
      "image/png": "[encoded data removed]",
      "text/plain": [
       "<Figure size 648x576 with 1 Axes>"
      ]
     },
     "metadata": {
      "needs_background": "light",
      "tags": []
     },
     "output_type": "display_data"
    }
   ],
   "source": [
    "print(a['ytd_gross_earnings'].describe())\n",
    "plt.figure(figsize=(9, 8))\n",
    "sns.distplot(a['ytd_gross_earnings'], color='g');"
   ]
  },
  {
   "cell_type": "code",
   "execution_count": 124,
   "metadata": {
    "colab": {
     "base_uri": "https://localhost:8080/"
    },
    "id": "I-OM_Gn9p0Fs",
    "outputId": "36dce7b7-60d1-44d9-a1e6-96f4bea02c79"
   },
   "outputs": [
    {
     "data": {
      "text/plain": [
       "count    144729.000000\n",
       "mean      43762.874061\n",
       "std       44848.883425\n",
       "min        1000.000000\n",
       "25%        8000.000000\n",
       "50%       36000.000000\n",
       "75%       64000.000000\n",
       "max      949000.000000\n",
       "Name: ytd_gross_earnings, dtype: float64"
      ]
     },
     "execution_count": 124,
     "metadata": {
      "tags": []
     },
     "output_type": "execute_result"
    }
   ],
   "source": [
    "# removing data which are over $1M from ytd_gross_earnings column\n",
    "# showing stats again\n",
    "a = a[a[\"ytd_gross_earnings\"] < 1000000]\n",
    "a[\"ytd_gross_earnings\"].describe()\n"
   ]
  },
  {
   "cell_type": "markdown",
   "metadata": {
    "id": "_x5G_wKkqUx_"
   },
   "source": [
    "## Organization Names:\n",
    "- UMBC (360231)\n",
    "- UNIVERSITY OF MARYLAND COLLEGE PARK (360222)\n"
   ]
  },
  {
   "cell_type": "code",
   "execution_count": 184,
   "metadata": {
    "id": "bG7kMftLJnza"
   },
   "outputs": [],
   "source": [
    "# separating employees by their organization(agency code)\n",
    "\n",
    "def separate_organization(agency_code):\n",
    "    department_data = pd.DataFrame()\n",
    "    department_data = a[a['agency'] == agency_code]\n",
    "    return department_data\n"
   ]
  },
  {
   "cell_type": "markdown",
   "metadata": {
    "id": "ZTj_1NPlC8pR"
   },
   "source": [
    "### Data for UMBC(360231)"
   ]
  },
  {
   "cell_type": "code",
   "execution_count": 128,
   "metadata": {
    "colab": {
     "base_uri": "https://localhost:8080/",
     "height": 406
    },
    "id": "V-JhjQ1rCv0e",
    "outputId": "c37eab4c-f4be-4a7d-d568-e41bdf656b2c"
   },
   "outputs": [
    {
     "data": {
      "text/html": [
       "<div>\n",
       "<style scoped>\n",
       "    .dataframe tbody tr th:only-of-type {\n",
       "        vertical-align: middle;\n",
       "    }\n",
       "\n",
       "    .dataframe tbody tr th {\n",
       "        vertical-align: top;\n",
       "    }\n",
       "\n",
       "    .dataframe thead th {\n",
       "        text-align: right;\n",
       "    }\n",
       "</style>\n",
       "<table border=\"1\" class=\"dataframe\">\n",
       "  <thead>\n",
       "    <tr style=\"text-align: right;\">\n",
       "      <th></th>\n",
       "      <th>first_name</th>\n",
       "      <th>last_name</th>\n",
       "      <th>agency</th>\n",
       "      <th>organization</th>\n",
       "      <th>annual_salary</th>\n",
       "      <th>ytd_gross_earnings</th>\n",
       "    </tr>\n",
       "  </thead>\n",
       "  <tbody>\n",
       "    <tr>\n",
       "      <th>123086</th>\n",
       "      <td>OLEG</td>\n",
       "      <td>FIRSIN</td>\n",
       "      <td>360231</td>\n",
       "      <td>UNIVERSITY OF MARYLAND</td>\n",
       "      <td>100000.0</td>\n",
       "      <td>105000</td>\n",
       "    </tr>\n",
       "    <tr>\n",
       "      <th>123087</th>\n",
       "      <td>B</td>\n",
       "      <td>RABIN</td>\n",
       "      <td>360231</td>\n",
       "      <td>UNIVERSITY OF MARYLAND</td>\n",
       "      <td>141000.0</td>\n",
       "      <td>138000</td>\n",
       "    </tr>\n",
       "    <tr>\n",
       "      <th>123088</th>\n",
       "      <td>MD TOUHIDUL</td>\n",
       "      <td>ISLAM</td>\n",
       "      <td>360231</td>\n",
       "      <td>UNIVERSITY OF MARYLAND</td>\n",
       "      <td>32000.0</td>\n",
       "      <td>10000</td>\n",
       "    </tr>\n",
       "    <tr>\n",
       "      <th>123089</th>\n",
       "      <td>RUCHITA</td>\n",
       "      <td>PARAB</td>\n",
       "      <td>360231</td>\n",
       "      <td>UNIVERSITY OF MARYLAND</td>\n",
       "      <td>0.0</td>\n",
       "      <td>6000</td>\n",
       "    </tr>\n",
       "    <tr>\n",
       "      <th>123090</th>\n",
       "      <td>SURBHI</td>\n",
       "      <td>LIPKIN-MOORE</td>\n",
       "      <td>360231</td>\n",
       "      <td>UNIVERSITY OF MARYLAND</td>\n",
       "      <td>18000.0</td>\n",
       "      <td>10000</td>\n",
       "    </tr>\n",
       "    <tr>\n",
       "      <th>...</th>\n",
       "      <td>...</td>\n",
       "      <td>...</td>\n",
       "      <td>...</td>\n",
       "      <td>...</td>\n",
       "      <td>...</td>\n",
       "      <td>...</td>\n",
       "    </tr>\n",
       "    <tr>\n",
       "      <th>131941</th>\n",
       "      <td>REETAM</td>\n",
       "      <td>MAJUMDER</td>\n",
       "      <td>360231</td>\n",
       "      <td>UNIVERSITY OF MARYLAND</td>\n",
       "      <td>18000.0</td>\n",
       "      <td>27000</td>\n",
       "    </tr>\n",
       "    <tr>\n",
       "      <th>131942</th>\n",
       "      <td>JUANITA</td>\n",
       "      <td>BOTONERO-MURCIA</td>\n",
       "      <td>360231</td>\n",
       "      <td>UNIVERSITY OF MARYLAND</td>\n",
       "      <td>0.0</td>\n",
       "      <td>2000</td>\n",
       "    </tr>\n",
       "    <tr>\n",
       "      <th>131943</th>\n",
       "      <td>XIAOFANG</td>\n",
       "      <td>XUE</td>\n",
       "      <td>360231</td>\n",
       "      <td>UNIVERSITY OF MARYLAND</td>\n",
       "      <td>22000.0</td>\n",
       "      <td>21000</td>\n",
       "    </tr>\n",
       "    <tr>\n",
       "      <th>131945</th>\n",
       "      <td>IOANNIS</td>\n",
       "      <td>BOUTSIKAS</td>\n",
       "      <td>360231</td>\n",
       "      <td>UNIVERSITY OF MARYLAND</td>\n",
       "      <td>22000.0</td>\n",
       "      <td>19000</td>\n",
       "    </tr>\n",
       "    <tr>\n",
       "      <th>131947</th>\n",
       "      <td>JAEED</td>\n",
       "      <td>BIN-SAIF</td>\n",
       "      <td>360231</td>\n",
       "      <td>UNIVERSITY OF MARYLAND</td>\n",
       "      <td>22000.0</td>\n",
       "      <td>9000</td>\n",
       "    </tr>\n",
       "  </tbody>\n",
       "</table>\n",
       "<p>6514 rows × 6 columns</p>\n",
       "</div>"
      ],
      "text/plain": [
       "         first_name        last_name  ...  annual_salary ytd_gross_earnings\n",
       "123086         OLEG           FIRSIN  ...       100000.0             105000\n",
       "123087            B            RABIN  ...       141000.0             138000\n",
       "123088  MD TOUHIDUL            ISLAM  ...        32000.0              10000\n",
       "123089      RUCHITA            PARAB  ...            0.0               6000\n",
       "123090       SURBHI     LIPKIN-MOORE  ...        18000.0              10000\n",
       "...             ...              ...  ...            ...                ...\n",
       "131941       REETAM         MAJUMDER  ...        18000.0              27000\n",
       "131942      JUANITA  BOTONERO-MURCIA  ...            0.0               2000\n",
       "131943     XIAOFANG              XUE  ...        22000.0              21000\n",
       "131945      IOANNIS        BOUTSIKAS  ...        22000.0              19000\n",
       "131947        JAEED         BIN-SAIF  ...        22000.0               9000\n",
       "\n",
       "[6514 rows x 6 columns]"
      ]
     },
     "execution_count": 128,
     "metadata": {
      "tags": []
     },
     "output_type": "execute_result"
    }
   ],
   "source": [
    "separate_organization(360231)"
   ]
  },
  {
   "cell_type": "code",
   "execution_count": 223,
   "metadata": {
    "colab": {
     "base_uri": "https://localhost:8080/",
     "height": 287
    },
    "id": "K_ZCPdf2tUgC",
    "outputId": "db9bba1a-b82b-4aba-97a8-389de46ee78e"
   },
   "outputs": [
    {
     "data": {
      "text/html": [
       "<div>\n",
       "<style scoped>\n",
       "    .dataframe tbody tr th:only-of-type {\n",
       "        vertical-align: middle;\n",
       "    }\n",
       "\n",
       "    .dataframe tbody tr th {\n",
       "        vertical-align: top;\n",
       "    }\n",
       "\n",
       "    .dataframe thead th {\n",
       "        text-align: right;\n",
       "    }\n",
       "</style>\n",
       "<table border=\"1\" class=\"dataframe\">\n",
       "  <thead>\n",
       "    <tr style=\"text-align: right;\">\n",
       "      <th></th>\n",
       "      <th>annual_salary</th>\n",
       "      <th>ytd_gross_earnings</th>\n",
       "    </tr>\n",
       "  </thead>\n",
       "  <tbody>\n",
       "    <tr>\n",
       "      <th>count</th>\n",
       "      <td>6514.000000</td>\n",
       "      <td>6514.000000</td>\n",
       "    </tr>\n",
       "    <tr>\n",
       "      <th>mean</th>\n",
       "      <td>27700.491250</td>\n",
       "      <td>30977.279705</td>\n",
       "    </tr>\n",
       "    <tr>\n",
       "      <th>std</th>\n",
       "      <td>43320.692847</td>\n",
       "      <td>42290.468737</td>\n",
       "    </tr>\n",
       "    <tr>\n",
       "      <th>min</th>\n",
       "      <td>0.000000</td>\n",
       "      <td>1000.000000</td>\n",
       "    </tr>\n",
       "    <tr>\n",
       "      <th>25%</th>\n",
       "      <td>0.000000</td>\n",
       "      <td>3000.000000</td>\n",
       "    </tr>\n",
       "    <tr>\n",
       "      <th>50%</th>\n",
       "      <td>0.000000</td>\n",
       "      <td>11000.000000</td>\n",
       "    </tr>\n",
       "    <tr>\n",
       "      <th>75%</th>\n",
       "      <td>48750.000000</td>\n",
       "      <td>47000.000000</td>\n",
       "    </tr>\n",
       "    <tr>\n",
       "      <th>max</th>\n",
       "      <td>538000.000000</td>\n",
       "      <td>574000.000000</td>\n",
       "    </tr>\n",
       "  </tbody>\n",
       "</table>\n",
       "</div>"
      ],
      "text/plain": [
       "       annual_salary  ytd_gross_earnings\n",
       "count    6514.000000         6514.000000\n",
       "mean    27700.491250        30977.279705\n",
       "std     43320.692847        42290.468737\n",
       "min         0.000000         1000.000000\n",
       "25%         0.000000         3000.000000\n",
       "50%         0.000000        11000.000000\n",
       "75%     48750.000000        47000.000000\n",
       "max    538000.000000       574000.000000"
      ]
     },
     "execution_count": 223,
     "metadata": {
      "tags": []
     },
     "output_type": "execute_result"
    }
   ],
   "source": [
    "umbc_2019 = separate_organization(360231).iloc[:, 3:].describe() # getting data for UMBC\n",
    "umbc_2019"
   ]
  },
  {
   "cell_type": "code",
   "execution_count": null,
   "metadata": {
    "id": "Kp0rt1JWswCN"
   },
   "outputs": [],
   "source": [
    "separate_organization(360231).iloc[:, 3:].hist(figsize=(16, 20))"
   ]
  },
  {
   "cell_type": "markdown",
   "metadata": {
    "id": "wNdwvkfQDCRf"
   },
   "source": [
    "### Data for UMCP(360222)"
   ]
  },
  {
   "cell_type": "code",
   "execution_count": 169,
   "metadata": {
    "colab": {
     "base_uri": "https://localhost:8080/",
     "height": 406
    },
    "id": "EkdGWrcLta6V",
    "outputId": "ae0fcc18-84d3-4d2d-c31b-b78ce5c630fb"
   },
   "outputs": [
    {
     "data": {
      "text/html": [
       "<div>\n",
       "<style scoped>\n",
       "    .dataframe tbody tr th:only-of-type {\n",
       "        vertical-align: middle;\n",
       "    }\n",
       "\n",
       "    .dataframe tbody tr th {\n",
       "        vertical-align: top;\n",
       "    }\n",
       "\n",
       "    .dataframe thead th {\n",
       "        text-align: right;\n",
       "    }\n",
       "</style>\n",
       "<table border=\"1\" class=\"dataframe\">\n",
       "  <thead>\n",
       "    <tr style=\"text-align: right;\">\n",
       "      <th></th>\n",
       "      <th>first_name</th>\n",
       "      <th>last_name</th>\n",
       "      <th>agency</th>\n",
       "      <th>organization</th>\n",
       "      <th>annual_salary</th>\n",
       "      <th>ytd_gross_earnings</th>\n",
       "    </tr>\n",
       "  </thead>\n",
       "  <tbody>\n",
       "    <tr>\n",
       "      <th>78723</th>\n",
       "      <td>SALEHA</td>\n",
       "      <td>WAQAR</td>\n",
       "      <td>360222</td>\n",
       "      <td>UNIVERSITY OF MARYLAND</td>\n",
       "      <td>9000.0</td>\n",
       "      <td>9000</td>\n",
       "    </tr>\n",
       "    <tr>\n",
       "      <th>78724</th>\n",
       "      <td>PRANAV</td>\n",
       "      <td>KULKARNI</td>\n",
       "      <td>360222</td>\n",
       "      <td>UNIVERSITY OF MARYLAND</td>\n",
       "      <td>0.0</td>\n",
       "      <td>12000</td>\n",
       "    </tr>\n",
       "    <tr>\n",
       "      <th>78725</th>\n",
       "      <td>DARSH</td>\n",
       "      <td>AJMERA</td>\n",
       "      <td>360222</td>\n",
       "      <td>UNIVERSITY OF MARYLAND</td>\n",
       "      <td>0.0</td>\n",
       "      <td>11000</td>\n",
       "    </tr>\n",
       "    <tr>\n",
       "      <th>78726</th>\n",
       "      <td>RODRIGO</td>\n",
       "      <td>HERESI</td>\n",
       "      <td>360222</td>\n",
       "      <td>UNIVERSITY OF MARYLAND</td>\n",
       "      <td>0.0</td>\n",
       "      <td>14000</td>\n",
       "    </tr>\n",
       "    <tr>\n",
       "      <th>78727</th>\n",
       "      <td>ROHIT</td>\n",
       "      <td>MALLIDI</td>\n",
       "      <td>360222</td>\n",
       "      <td>UNIVERSITY OF MARYLAND</td>\n",
       "      <td>0.0</td>\n",
       "      <td>1000</td>\n",
       "    </tr>\n",
       "    <tr>\n",
       "      <th>...</th>\n",
       "      <td>...</td>\n",
       "      <td>...</td>\n",
       "      <td>...</td>\n",
       "      <td>...</td>\n",
       "      <td>...</td>\n",
       "      <td>...</td>\n",
       "    </tr>\n",
       "    <tr>\n",
       "      <th>114324</th>\n",
       "      <td>SOYEON</td>\n",
       "      <td>JEONG</td>\n",
       "      <td>360222</td>\n",
       "      <td>UNIVERSITY OF MARYLAND</td>\n",
       "      <td>9000.0</td>\n",
       "      <td>4000</td>\n",
       "    </tr>\n",
       "    <tr>\n",
       "      <th>114325</th>\n",
       "      <td>ZIJIAN</td>\n",
       "      <td>WANG</td>\n",
       "      <td>360222</td>\n",
       "      <td>UNIVERSITY OF MARYLAND</td>\n",
       "      <td>0.0</td>\n",
       "      <td>2000</td>\n",
       "    </tr>\n",
       "    <tr>\n",
       "      <th>114326</th>\n",
       "      <td>OLUWAJOMILOJ</td>\n",
       "      <td>AJAYI</td>\n",
       "      <td>360222</td>\n",
       "      <td>UNIVERSITY OF MARYLAND</td>\n",
       "      <td>0.0</td>\n",
       "      <td>5000</td>\n",
       "    </tr>\n",
       "    <tr>\n",
       "      <th>114327</th>\n",
       "      <td>PRIYANKA</td>\n",
       "      <td>GANDHI</td>\n",
       "      <td>360222</td>\n",
       "      <td>UNIVERSITY OF MARYLAND</td>\n",
       "      <td>0.0</td>\n",
       "      <td>2000</td>\n",
       "    </tr>\n",
       "    <tr>\n",
       "      <th>114329</th>\n",
       "      <td>THOMAS</td>\n",
       "      <td>MCEVOY ZAFIROPULO</td>\n",
       "      <td>360222</td>\n",
       "      <td>UNIVERSITY OF MARYLAND</td>\n",
       "      <td>0.0</td>\n",
       "      <td>1000</td>\n",
       "    </tr>\n",
       "  </tbody>\n",
       "</table>\n",
       "<p>29736 rows × 6 columns</p>\n",
       "</div>"
      ],
      "text/plain": [
       "          first_name          last_name  ...  annual_salary ytd_gross_earnings\n",
       "78723         SALEHA              WAQAR  ...         9000.0               9000\n",
       "78724         PRANAV           KULKARNI  ...            0.0              12000\n",
       "78725          DARSH             AJMERA  ...            0.0              11000\n",
       "78726        RODRIGO             HERESI  ...            0.0              14000\n",
       "78727          ROHIT            MALLIDI  ...            0.0               1000\n",
       "...              ...                ...  ...            ...                ...\n",
       "114324        SOYEON              JEONG  ...         9000.0               4000\n",
       "114325        ZIJIAN               WANG  ...            0.0               2000\n",
       "114326  OLUWAJOMILOJ              AJAYI  ...            0.0               5000\n",
       "114327      PRIYANKA             GANDHI  ...            0.0               2000\n",
       "114329        THOMAS  MCEVOY ZAFIROPULO  ...            0.0               1000\n",
       "\n",
       "[29736 rows x 6 columns]"
      ]
     },
     "execution_count": 169,
     "metadata": {
      "tags": []
     },
     "output_type": "execute_result"
    }
   ],
   "source": [
    "separate_organization(360222)"
   ]
  },
  {
   "cell_type": "code",
   "execution_count": 172,
   "metadata": {
    "colab": {
     "base_uri": "https://localhost:8080/",
     "height": 287
    },
    "id": "kmrItQKmDOYr",
    "outputId": "612a87c6-5278-4325-e7a2-a4ef605f1ca9"
   },
   "outputs": [
    {
     "data": {
      "text/html": [
       "<div>\n",
       "<style scoped>\n",
       "    .dataframe tbody tr th:only-of-type {\n",
       "        vertical-align: middle;\n",
       "    }\n",
       "\n",
       "    .dataframe tbody tr th {\n",
       "        vertical-align: top;\n",
       "    }\n",
       "\n",
       "    .dataframe thead th {\n",
       "        text-align: right;\n",
       "    }\n",
       "</style>\n",
       "<table border=\"1\" class=\"dataframe\">\n",
       "  <thead>\n",
       "    <tr style=\"text-align: right;\">\n",
       "      <th></th>\n",
       "      <th>annual_salary</th>\n",
       "      <th>ytd_gross_earnings</th>\n",
       "    </tr>\n",
       "  </thead>\n",
       "  <tbody>\n",
       "    <tr>\n",
       "      <th>count</th>\n",
       "      <td>29736.000000</td>\n",
       "      <td>29736.000000</td>\n",
       "    </tr>\n",
       "    <tr>\n",
       "      <th>mean</th>\n",
       "      <td>31634.853376</td>\n",
       "      <td>34947.302932</td>\n",
       "    </tr>\n",
       "    <tr>\n",
       "      <th>std</th>\n",
       "      <td>49897.735419</td>\n",
       "      <td>49881.488076</td>\n",
       "    </tr>\n",
       "    <tr>\n",
       "      <th>min</th>\n",
       "      <td>0.000000</td>\n",
       "      <td>1000.000000</td>\n",
       "    </tr>\n",
       "    <tr>\n",
       "      <th>25%</th>\n",
       "      <td>0.000000</td>\n",
       "      <td>4000.000000</td>\n",
       "    </tr>\n",
       "    <tr>\n",
       "      <th>50%</th>\n",
       "      <td>0.000000</td>\n",
       "      <td>13000.000000</td>\n",
       "    </tr>\n",
       "    <tr>\n",
       "      <th>75%</th>\n",
       "      <td>51000.000000</td>\n",
       "      <td>50000.000000</td>\n",
       "    </tr>\n",
       "    <tr>\n",
       "      <th>max</th>\n",
       "      <td>864000.000000</td>\n",
       "      <td>860000.000000</td>\n",
       "    </tr>\n",
       "  </tbody>\n",
       "</table>\n",
       "</div>"
      ],
      "text/plain": [
       "       annual_salary  ytd_gross_earnings\n",
       "count   29736.000000        29736.000000\n",
       "mean    31634.853376        34947.302932\n",
       "std     49897.735419        49881.488076\n",
       "min         0.000000         1000.000000\n",
       "25%         0.000000         4000.000000\n",
       "50%         0.000000        13000.000000\n",
       "75%     51000.000000        50000.000000\n",
       "max    864000.000000       860000.000000"
      ]
     },
     "execution_count": 172,
     "metadata": {
      "tags": []
     },
     "output_type": "execute_result"
    }
   ],
   "source": [
    "separate_organization(360222).iloc[:, 3:].describe() # getting data for UMCP"
   ]
  },
  {
   "cell_type": "code",
   "execution_count": null,
   "metadata": {
    "id": "MGtSnfaCGBtn"
   },
   "outputs": [],
   "source": [
    "separate_organization(360222).iloc[:, 3:].hist(figsize=(16, 20))"
   ]
  },
  {
   "cell_type": "markdown",
   "metadata": {
    "id": "-jLETELZv6xJ"
   },
   "source": [
    "### MEAN COMPARISON for UMBC and UMCP"
   ]
  },
  {
   "cell_type": "code",
   "execution_count": 179,
   "metadata": {
    "colab": {
     "base_uri": "https://localhost:8080/",
     "height": 326
    },
    "id": "EQCoH4jiv5_k",
    "outputId": "3319a87a-5f02-4132-f728-354a3a256d6c"
   },
   "outputs": [
    {
     "name": "stdout",
     "output_type": "stream",
     "text": [
      "30977.279705250232\n",
      "34947.30293247243\n"
     ]
    },
    {
     "data": {
      "text/plain": [
       "<matplotlib.collections.PathCollection at 0x7f29ca116f28>"
      ]
     },
     "execution_count": 179,
     "metadata": {
      "tags": []
     },
     "output_type": "execute_result"
    },
    {
     "data": {
      "image/png": "[encoded data removed]",
      "text/plain": [
       "<Figure size 432x288 with 1 Axes>"
      ]
     },
     "metadata": {
      "needs_background": "light",
      "tags": []
     },
     "output_type": "display_data"
    }
   ],
   "source": [
    "print(separate_organization(360231)['ytd_gross_earnings'].mean())\n",
    "print(separate_organization(360222)['ytd_gross_earnings'].mean())\n",
    "\n",
    "ids = [360231, 360222]\n",
    "tmp = [separate_organization(i)[\"ytd_gross_earnings\"].mean() for i in ids]\n",
    "\n",
    "plt.scatter(tmp, ids)"
   ]
  },
  {
   "cell_type": "markdown",
   "metadata": {
    "id": "rfLZeBhL8bJw"
   },
   "source": [
    "# State of Maryland Annual Salary 2012"
   ]
  },
  {
   "cell_type": "code",
   "execution_count": 195,
   "metadata": {
    "colab": {
     "base_uri": "https://localhost:8080/",
     "height": 962
    },
    "id": "WSC1YFwC8YME",
    "outputId": "09ba0f67-34f8-4732-e6d0-805a29d2b3be"
   },
   "outputs": [
    {
     "name": "stderr",
     "output_type": "stream",
     "text": [
      "/usr/local/lib/python3.6/dist-packages/IPython/core/interactiveshell.py:2718: DtypeWarning: Columns (0) have mixed types.Specify dtype option on import or set low_memory=False.\n",
      "  interactivity=interactivity, compiler=compiler, result=result)\n"
     ]
    },
    {
     "data": {
      "text/html": [
       "<div>\n",
       "<style scoped>\n",
       "    .dataframe tbody tr th:only-of-type {\n",
       "        vertical-align: middle;\n",
       "    }\n",
       "\n",
       "    .dataframe tbody tr th {\n",
       "        vertical-align: top;\n",
       "    }\n",
       "\n",
       "    .dataframe thead th {\n",
       "        text-align: right;\n",
       "    }\n",
       "</style>\n",
       "<table border=\"1\" class=\"dataframe\">\n",
       "  <thead>\n",
       "    <tr style=\"text-align: right;\">\n",
       "      <th></th>\n",
       "      <th>sheet</th>\n",
       "      <th>first_name</th>\n",
       "      <th>last_name</th>\n",
       "      <th>suffix</th>\n",
       "      <th>agency</th>\n",
       "      <th>organization</th>\n",
       "      <th>subtitle</th>\n",
       "      <th>class_code</th>\n",
       "      <th>annual_salary</th>\n",
       "      <th>pay_rate</th>\n",
       "      <th>system</th>\n",
       "      <th>hire_date</th>\n",
       "      <th>regular_earnings</th>\n",
       "      <th>overtime_earnings</th>\n",
       "      <th>other_earnings</th>\n",
       "      <th>ytd_gross_earnings</th>\n",
       "    </tr>\n",
       "  </thead>\n",
       "  <tbody>\n",
       "    <tr>\n",
       "      <th>0</th>\n",
       "      <td>RG 2012 210101 to 401201</td>\n",
       "      <td>NEIL</td>\n",
       "      <td>BUTLER</td>\n",
       "      <td></td>\n",
       "      <td>210101</td>\n",
       "      <td>GENERAL ASSEMBLY OF MARYLAND</td>\n",
       "      <td>210101</td>\n",
       "      <td>8999</td>\n",
       "      <td>54000</td>\n",
       "      <td>A</td>\n",
       "      <td>RG</td>\n",
       "      <td>2011-01-12</td>\n",
       "      <td>30000</td>\n",
       "      <td>0.0</td>\n",
       "      <td>0</td>\n",
       "      <td>30000</td>\n",
       "    </tr>\n",
       "    <tr>\n",
       "      <th>1</th>\n",
       "      <td>RG 2012 210101 to 401201</td>\n",
       "      <td>KATHRYN</td>\n",
       "      <td>SZELIGA</td>\n",
       "      <td></td>\n",
       "      <td>210101</td>\n",
       "      <td>GENERAL ASSEMBLY OF MARYLAND</td>\n",
       "      <td>210101</td>\n",
       "      <td>8999</td>\n",
       "      <td>44000</td>\n",
       "      <td>A</td>\n",
       "      <td>RG</td>\n",
       "      <td>2011-01-01</td>\n",
       "      <td>44000</td>\n",
       "      <td>0.0</td>\n",
       "      <td>1000</td>\n",
       "      <td>44000</td>\n",
       "    </tr>\n",
       "    <tr>\n",
       "      <th>2</th>\n",
       "      <td>RG 2012 210101 to 401201</td>\n",
       "      <td>SARA</td>\n",
       "      <td>FIDLER</td>\n",
       "      <td></td>\n",
       "      <td>210101</td>\n",
       "      <td>GENERAL ASSEMBLY OF MARYLAND</td>\n",
       "      <td>210101</td>\n",
       "      <td>8999</td>\n",
       "      <td>86000</td>\n",
       "      <td>A</td>\n",
       "      <td>RG</td>\n",
       "      <td>2001-09-11</td>\n",
       "      <td>86000</td>\n",
       "      <td>0.0</td>\n",
       "      <td>0</td>\n",
       "      <td>86000</td>\n",
       "    </tr>\n",
       "    <tr>\n",
       "      <th>3</th>\n",
       "      <td>RG 2012 210101 to 401201</td>\n",
       "      <td>JOSHUA</td>\n",
       "      <td>SHNIDER</td>\n",
       "      <td></td>\n",
       "      <td>210101</td>\n",
       "      <td>GENERAL ASSEMBLY OF MARYLAND</td>\n",
       "      <td>210101</td>\n",
       "      <td>8999</td>\n",
       "      <td>41000</td>\n",
       "      <td>A</td>\n",
       "      <td>RG</td>\n",
       "      <td>2011-01-10</td>\n",
       "      <td>26000</td>\n",
       "      <td>0.0</td>\n",
       "      <td>0</td>\n",
       "      <td>26000</td>\n",
       "    </tr>\n",
       "    <tr>\n",
       "      <th>4</th>\n",
       "      <td>RG 2012 210101 to 401201</td>\n",
       "      <td>TAMARA</td>\n",
       "      <td>SIMMONS</td>\n",
       "      <td></td>\n",
       "      <td>210101</td>\n",
       "      <td>GENERAL ASSEMBLY OF MARYLAND</td>\n",
       "      <td>210101</td>\n",
       "      <td>8999</td>\n",
       "      <td>31000</td>\n",
       "      <td>A</td>\n",
       "      <td>RG</td>\n",
       "      <td>2007-04-18</td>\n",
       "      <td>30000</td>\n",
       "      <td>3000.0</td>\n",
       "      <td>0</td>\n",
       "      <td>33000</td>\n",
       "    </tr>\n",
       "    <tr>\n",
       "      <th>...</th>\n",
       "      <td>...</td>\n",
       "      <td>...</td>\n",
       "      <td>...</td>\n",
       "      <td>...</td>\n",
       "      <td>...</td>\n",
       "      <td>...</td>\n",
       "      <td>...</td>\n",
       "      <td>...</td>\n",
       "      <td>...</td>\n",
       "      <td>...</td>\n",
       "      <td>...</td>\n",
       "      <td>...</td>\n",
       "      <td>...</td>\n",
       "      <td>...</td>\n",
       "      <td>...</td>\n",
       "      <td>...</td>\n",
       "    </tr>\n",
       "    <tr>\n",
       "      <th>135722</th>\n",
       "      <td>2012</td>\n",
       "      <td>PAUL</td>\n",
       "      <td>WARD</td>\n",
       "      <td></td>\n",
       "      <td>360236</td>\n",
       "      <td>UNIVERSITY OF MARYLAND</td>\n",
       "      <td>360236-USMO</td>\n",
       "      <td>1212</td>\n",
       "      <td>36000</td>\n",
       "      <td>A</td>\n",
       "      <td>UM</td>\n",
       "      <td>2002-01-28</td>\n",
       "      <td>0</td>\n",
       "      <td>0.0</td>\n",
       "      <td>36000</td>\n",
       "      <td>36000</td>\n",
       "    </tr>\n",
       "    <tr>\n",
       "      <th>135723</th>\n",
       "      <td>2012</td>\n",
       "      <td>GREGG</td>\n",
       "      <td>YELDELL</td>\n",
       "      <td></td>\n",
       "      <td>360236</td>\n",
       "      <td>UNIVERSITY OF MARYLAND</td>\n",
       "      <td>360236-USMO</td>\n",
       "      <td>1212</td>\n",
       "      <td>73000</td>\n",
       "      <td>A</td>\n",
       "      <td>UM</td>\n",
       "      <td>2009-09-21</td>\n",
       "      <td>0</td>\n",
       "      <td>0.0</td>\n",
       "      <td>73000</td>\n",
       "      <td>73000</td>\n",
       "    </tr>\n",
       "    <tr>\n",
       "      <th>135724</th>\n",
       "      <td>2012</td>\n",
       "      <td>ZAKIYA</td>\n",
       "      <td>SMITH LEE</td>\n",
       "      <td></td>\n",
       "      <td>360236</td>\n",
       "      <td>UNIVERSITY OF MARYLAND</td>\n",
       "      <td>360236-USMO</td>\n",
       "      <td>1212</td>\n",
       "      <td>63000</td>\n",
       "      <td>A</td>\n",
       "      <td>UM</td>\n",
       "      <td>2011-07-05</td>\n",
       "      <td>0</td>\n",
       "      <td>0.0</td>\n",
       "      <td>63000</td>\n",
       "      <td>63000</td>\n",
       "    </tr>\n",
       "    <tr>\n",
       "      <th>135725</th>\n",
       "      <td>2012</td>\n",
       "      <td>PAUL</td>\n",
       "      <td>STACKPOLE</td>\n",
       "      <td></td>\n",
       "      <td>360236</td>\n",
       "      <td>UNIVERSITY OF MARYLAND</td>\n",
       "      <td>360236-USMO</td>\n",
       "      <td>1212</td>\n",
       "      <td>94000</td>\n",
       "      <td>A</td>\n",
       "      <td>UM</td>\n",
       "      <td>2003-01-21</td>\n",
       "      <td>0</td>\n",
       "      <td>0.0</td>\n",
       "      <td>93000</td>\n",
       "      <td>93000</td>\n",
       "    </tr>\n",
       "    <tr>\n",
       "      <th>135726</th>\n",
       "      <td>2012</td>\n",
       "      <td>TARUN</td>\n",
       "      <td>POKHAREL</td>\n",
       "      <td></td>\n",
       "      <td>360236</td>\n",
       "      <td>UNIVERSITY OF MARYLAND</td>\n",
       "      <td>360236-USMO</td>\n",
       "      <td>1212</td>\n",
       "      <td>75000</td>\n",
       "      <td>A</td>\n",
       "      <td>UM</td>\n",
       "      <td>2009-08-31</td>\n",
       "      <td>0</td>\n",
       "      <td>0.0</td>\n",
       "      <td>75000</td>\n",
       "      <td>75000</td>\n",
       "    </tr>\n",
       "  </tbody>\n",
       "</table>\n",
       "<p>135727 rows × 16 columns</p>\n",
       "</div>"
      ],
      "text/plain": [
       "                           sheet first_name  ... other_earnings ytd_gross_earnings\n",
       "0       RG 2012 210101 to 401201       NEIL  ...              0              30000\n",
       "1       RG 2012 210101 to 401201    KATHRYN  ...           1000              44000\n",
       "2       RG 2012 210101 to 401201       SARA  ...              0              86000\n",
       "3       RG 2012 210101 to 401201     JOSHUA  ...              0              26000\n",
       "4       RG 2012 210101 to 401201     TAMARA  ...              0              33000\n",
       "...                          ...        ...  ...            ...                ...\n",
       "135722                      2012       PAUL  ...          36000              36000\n",
       "135723                      2012      GREGG  ...          73000              73000\n",
       "135724                      2012     ZAKIYA  ...          63000              63000\n",
       "135725                      2012       PAUL  ...          93000              93000\n",
       "135726                      2012      TARUN  ...          75000              75000\n",
       "\n",
       "[135727 rows x 16 columns]"
      ]
     },
     "execution_count": 195,
     "metadata": {
      "tags": []
     },
     "output_type": "execute_result"
    }
   ],
   "source": [
    "df = pd.read_csv(r'/content/cy2012-md.csv')\n",
    "df"
   ]
  },
  {
   "cell_type": "code",
   "execution_count": 196,
   "metadata": {
    "colab": {
     "base_uri": "https://localhost:8080/"
    },
    "id": "yknP8t1m-tHu",
    "outputId": "1c42ec36-73ae-49d5-e232-1977fbd556c8"
   },
   "outputs": [
    {
     "data": {
      "text/plain": [
       "(135727, 16)"
      ]
     },
     "execution_count": 196,
     "metadata": {
      "tags": []
     },
     "output_type": "execute_result"
    }
   ],
   "source": [
    "df.shape"
   ]
  },
  {
   "cell_type": "code",
   "execution_count": 197,
   "metadata": {
    "colab": {
     "base_uri": "https://localhost:8080/"
    },
    "id": "-mTqbn8N-ugy",
    "outputId": "2a9abdf6-5d23-4a4d-88ab-ada81187a96c"
   },
   "outputs": [
    {
     "name": "stdout",
     "output_type": "stream",
     "text": [
      "<class 'pandas.core.frame.DataFrame'>\n",
      "RangeIndex: 135727 entries, 0 to 135726\n",
      "Data columns (total 16 columns):\n",
      " #   Column              Non-Null Count   Dtype  \n",
      "---  ------              --------------   -----  \n",
      " 0   sheet               135727 non-null  object \n",
      " 1   first_name          135725 non-null  object \n",
      " 2   last_name           135727 non-null  object \n",
      " 3   suffix              109808 non-null  object \n",
      " 4   agency              135727 non-null  int64  \n",
      " 5   organization        135727 non-null  object \n",
      " 6   subtitle            135727 non-null  object \n",
      " 7   class_code          135727 non-null  int64  \n",
      " 8   annual_salary       135727 non-null  int64  \n",
      " 9   pay_rate            135727 non-null  object \n",
      " 10  system              135727 non-null  object \n",
      " 11  hire_date           135727 non-null  object \n",
      " 12  regular_earnings    135727 non-null  int64  \n",
      " 13  overtime_earnings   135726 non-null  float64\n",
      " 14  other_earnings      135727 non-null  int64  \n",
      " 15  ytd_gross_earnings  135727 non-null  int64  \n",
      "dtypes: float64(1), int64(6), object(9)\n",
      "memory usage: 16.6+ MB\n"
     ]
    }
   ],
   "source": [
    "df.info()"
   ]
  },
  {
   "cell_type": "code",
   "execution_count": 198,
   "metadata": {
    "colab": {
     "base_uri": "https://localhost:8080/",
     "height": 406
    },
    "id": "wlVTJfEG-3EI",
    "outputId": "b68cf2fe-4c86-4871-82f9-116837143738"
   },
   "outputs": [
    {
     "data": {
      "text/html": [
       "<div>\n",
       "<style scoped>\n",
       "    .dataframe tbody tr th:only-of-type {\n",
       "        vertical-align: middle;\n",
       "    }\n",
       "\n",
       "    .dataframe tbody tr th {\n",
       "        vertical-align: top;\n",
       "    }\n",
       "\n",
       "    .dataframe thead th {\n",
       "        text-align: right;\n",
       "    }\n",
       "</style>\n",
       "<table border=\"1\" class=\"dataframe\">\n",
       "  <thead>\n",
       "    <tr style=\"text-align: right;\">\n",
       "      <th></th>\n",
       "      <th>first_name</th>\n",
       "      <th>last_name</th>\n",
       "      <th>agency</th>\n",
       "      <th>organization</th>\n",
       "      <th>annual_salary</th>\n",
       "      <th>ytd_gross_earnings</th>\n",
       "    </tr>\n",
       "  </thead>\n",
       "  <tbody>\n",
       "    <tr>\n",
       "      <th>0</th>\n",
       "      <td>NEIL</td>\n",
       "      <td>BUTLER</td>\n",
       "      <td>210101</td>\n",
       "      <td>GENERAL ASSEMBLY OF MARYLAND</td>\n",
       "      <td>54000</td>\n",
       "      <td>30000</td>\n",
       "    </tr>\n",
       "    <tr>\n",
       "      <th>1</th>\n",
       "      <td>KATHRYN</td>\n",
       "      <td>SZELIGA</td>\n",
       "      <td>210101</td>\n",
       "      <td>GENERAL ASSEMBLY OF MARYLAND</td>\n",
       "      <td>44000</td>\n",
       "      <td>44000</td>\n",
       "    </tr>\n",
       "    <tr>\n",
       "      <th>2</th>\n",
       "      <td>SARA</td>\n",
       "      <td>FIDLER</td>\n",
       "      <td>210101</td>\n",
       "      <td>GENERAL ASSEMBLY OF MARYLAND</td>\n",
       "      <td>86000</td>\n",
       "      <td>86000</td>\n",
       "    </tr>\n",
       "    <tr>\n",
       "      <th>3</th>\n",
       "      <td>JOSHUA</td>\n",
       "      <td>SHNIDER</td>\n",
       "      <td>210101</td>\n",
       "      <td>GENERAL ASSEMBLY OF MARYLAND</td>\n",
       "      <td>41000</td>\n",
       "      <td>26000</td>\n",
       "    </tr>\n",
       "    <tr>\n",
       "      <th>4</th>\n",
       "      <td>TAMARA</td>\n",
       "      <td>SIMMONS</td>\n",
       "      <td>210101</td>\n",
       "      <td>GENERAL ASSEMBLY OF MARYLAND</td>\n",
       "      <td>31000</td>\n",
       "      <td>33000</td>\n",
       "    </tr>\n",
       "    <tr>\n",
       "      <th>...</th>\n",
       "      <td>...</td>\n",
       "      <td>...</td>\n",
       "      <td>...</td>\n",
       "      <td>...</td>\n",
       "      <td>...</td>\n",
       "      <td>...</td>\n",
       "    </tr>\n",
       "    <tr>\n",
       "      <th>135722</th>\n",
       "      <td>PAUL</td>\n",
       "      <td>WARD</td>\n",
       "      <td>360236</td>\n",
       "      <td>UNIVERSITY OF MARYLAND</td>\n",
       "      <td>36000</td>\n",
       "      <td>36000</td>\n",
       "    </tr>\n",
       "    <tr>\n",
       "      <th>135723</th>\n",
       "      <td>GREGG</td>\n",
       "      <td>YELDELL</td>\n",
       "      <td>360236</td>\n",
       "      <td>UNIVERSITY OF MARYLAND</td>\n",
       "      <td>73000</td>\n",
       "      <td>73000</td>\n",
       "    </tr>\n",
       "    <tr>\n",
       "      <th>135724</th>\n",
       "      <td>ZAKIYA</td>\n",
       "      <td>SMITH LEE</td>\n",
       "      <td>360236</td>\n",
       "      <td>UNIVERSITY OF MARYLAND</td>\n",
       "      <td>63000</td>\n",
       "      <td>63000</td>\n",
       "    </tr>\n",
       "    <tr>\n",
       "      <th>135725</th>\n",
       "      <td>PAUL</td>\n",
       "      <td>STACKPOLE</td>\n",
       "      <td>360236</td>\n",
       "      <td>UNIVERSITY OF MARYLAND</td>\n",
       "      <td>94000</td>\n",
       "      <td>93000</td>\n",
       "    </tr>\n",
       "    <tr>\n",
       "      <th>135726</th>\n",
       "      <td>TARUN</td>\n",
       "      <td>POKHAREL</td>\n",
       "      <td>360236</td>\n",
       "      <td>UNIVERSITY OF MARYLAND</td>\n",
       "      <td>75000</td>\n",
       "      <td>75000</td>\n",
       "    </tr>\n",
       "  </tbody>\n",
       "</table>\n",
       "<p>135727 rows × 6 columns</p>\n",
       "</div>"
      ],
      "text/plain": [
       "       first_name   last_name  ...  annual_salary ytd_gross_earnings\n",
       "0            NEIL      BUTLER  ...          54000              30000\n",
       "1         KATHRYN     SZELIGA  ...          44000              44000\n",
       "2            SARA      FIDLER  ...          86000              86000\n",
       "3          JOSHUA     SHNIDER  ...          41000              26000\n",
       "4          TAMARA     SIMMONS  ...          31000              33000\n",
       "...           ...         ...  ...            ...                ...\n",
       "135722       PAUL        WARD  ...          36000              36000\n",
       "135723      GREGG     YELDELL  ...          73000              73000\n",
       "135724     ZAKIYA   SMITH LEE  ...          63000              63000\n",
       "135725       PAUL   STACKPOLE  ...          94000              93000\n",
       "135726      TARUN    POKHAREL  ...          75000              75000\n",
       "\n",
       "[135727 rows x 6 columns]"
      ]
     },
     "execution_count": 198,
     "metadata": {
      "tags": []
     },
     "output_type": "execute_result"
    }
   ],
   "source": [
    "b = pd.read_csv(r'/content/cy2012-md.csv', usecols=['first_name', 'last_name', 'agency', 'organization', 'annual_salary','ytd_gross_earnings'])\n",
    "b"
   ]
  },
  {
   "cell_type": "code",
   "execution_count": 199,
   "metadata": {
    "colab": {
     "base_uri": "https://localhost:8080/",
     "height": 406
    },
    "id": "E3cRZhn__gkG",
    "outputId": "92f33904-3ae9-49a4-c9dc-47d43ea232f2"
   },
   "outputs": [
    {
     "data": {
      "text/html": [
       "<div>\n",
       "<style scoped>\n",
       "    .dataframe tbody tr th:only-of-type {\n",
       "        vertical-align: middle;\n",
       "    }\n",
       "\n",
       "    .dataframe tbody tr th {\n",
       "        vertical-align: top;\n",
       "    }\n",
       "\n",
       "    .dataframe thead th {\n",
       "        text-align: right;\n",
       "    }\n",
       "</style>\n",
       "<table border=\"1\" class=\"dataframe\">\n",
       "  <thead>\n",
       "    <tr style=\"text-align: right;\">\n",
       "      <th></th>\n",
       "      <th>first_name</th>\n",
       "      <th>last_name</th>\n",
       "      <th>agency</th>\n",
       "      <th>organization</th>\n",
       "      <th>annual_salary</th>\n",
       "      <th>ytd_gross_earnings</th>\n",
       "    </tr>\n",
       "  </thead>\n",
       "  <tbody>\n",
       "    <tr>\n",
       "      <th>0</th>\n",
       "      <td>NEIL</td>\n",
       "      <td>BUTLER</td>\n",
       "      <td>210101</td>\n",
       "      <td>GENERAL ASSEMBLY OF MARYLAND</td>\n",
       "      <td>54000</td>\n",
       "      <td>30000</td>\n",
       "    </tr>\n",
       "    <tr>\n",
       "      <th>1</th>\n",
       "      <td>KATHRYN</td>\n",
       "      <td>SZELIGA</td>\n",
       "      <td>210101</td>\n",
       "      <td>GENERAL ASSEMBLY OF MARYLAND</td>\n",
       "      <td>44000</td>\n",
       "      <td>44000</td>\n",
       "    </tr>\n",
       "    <tr>\n",
       "      <th>2</th>\n",
       "      <td>SARA</td>\n",
       "      <td>FIDLER</td>\n",
       "      <td>210101</td>\n",
       "      <td>GENERAL ASSEMBLY OF MARYLAND</td>\n",
       "      <td>86000</td>\n",
       "      <td>86000</td>\n",
       "    </tr>\n",
       "    <tr>\n",
       "      <th>3</th>\n",
       "      <td>JOSHUA</td>\n",
       "      <td>SHNIDER</td>\n",
       "      <td>210101</td>\n",
       "      <td>GENERAL ASSEMBLY OF MARYLAND</td>\n",
       "      <td>41000</td>\n",
       "      <td>26000</td>\n",
       "    </tr>\n",
       "    <tr>\n",
       "      <th>4</th>\n",
       "      <td>TAMARA</td>\n",
       "      <td>SIMMONS</td>\n",
       "      <td>210101</td>\n",
       "      <td>GENERAL ASSEMBLY OF MARYLAND</td>\n",
       "      <td>31000</td>\n",
       "      <td>33000</td>\n",
       "    </tr>\n",
       "    <tr>\n",
       "      <th>...</th>\n",
       "      <td>...</td>\n",
       "      <td>...</td>\n",
       "      <td>...</td>\n",
       "      <td>...</td>\n",
       "      <td>...</td>\n",
       "      <td>...</td>\n",
       "    </tr>\n",
       "    <tr>\n",
       "      <th>135722</th>\n",
       "      <td>PAUL</td>\n",
       "      <td>WARD</td>\n",
       "      <td>360236</td>\n",
       "      <td>UNIVERSITY OF MARYLAND</td>\n",
       "      <td>36000</td>\n",
       "      <td>36000</td>\n",
       "    </tr>\n",
       "    <tr>\n",
       "      <th>135723</th>\n",
       "      <td>GREGG</td>\n",
       "      <td>YELDELL</td>\n",
       "      <td>360236</td>\n",
       "      <td>UNIVERSITY OF MARYLAND</td>\n",
       "      <td>73000</td>\n",
       "      <td>73000</td>\n",
       "    </tr>\n",
       "    <tr>\n",
       "      <th>135724</th>\n",
       "      <td>ZAKIYA</td>\n",
       "      <td>SMITH LEE</td>\n",
       "      <td>360236</td>\n",
       "      <td>UNIVERSITY OF MARYLAND</td>\n",
       "      <td>63000</td>\n",
       "      <td>63000</td>\n",
       "    </tr>\n",
       "    <tr>\n",
       "      <th>135725</th>\n",
       "      <td>PAUL</td>\n",
       "      <td>STACKPOLE</td>\n",
       "      <td>360236</td>\n",
       "      <td>UNIVERSITY OF MARYLAND</td>\n",
       "      <td>94000</td>\n",
       "      <td>93000</td>\n",
       "    </tr>\n",
       "    <tr>\n",
       "      <th>135726</th>\n",
       "      <td>TARUN</td>\n",
       "      <td>POKHAREL</td>\n",
       "      <td>360236</td>\n",
       "      <td>UNIVERSITY OF MARYLAND</td>\n",
       "      <td>75000</td>\n",
       "      <td>75000</td>\n",
       "    </tr>\n",
       "  </tbody>\n",
       "</table>\n",
       "<p>131286 rows × 6 columns</p>\n",
       "</div>"
      ],
      "text/plain": [
       "       first_name   last_name  ...  annual_salary ytd_gross_earnings\n",
       "0            NEIL      BUTLER  ...          54000              30000\n",
       "1         KATHRYN     SZELIGA  ...          44000              44000\n",
       "2            SARA      FIDLER  ...          86000              86000\n",
       "3          JOSHUA     SHNIDER  ...          41000              26000\n",
       "4          TAMARA     SIMMONS  ...          31000              33000\n",
       "...           ...         ...  ...            ...                ...\n",
       "135722       PAUL        WARD  ...          36000              36000\n",
       "135723      GREGG     YELDELL  ...          73000              73000\n",
       "135724     ZAKIYA   SMITH LEE  ...          63000              63000\n",
       "135725       PAUL   STACKPOLE  ...          94000              93000\n",
       "135726      TARUN    POKHAREL  ...          75000              75000\n",
       "\n",
       "[131286 rows x 6 columns]"
      ]
     },
     "execution_count": 199,
     "metadata": {
      "tags": []
     },
     "output_type": "execute_result"
    }
   ],
   "source": [
    "# cleansing dataframe from 0 values\n",
    "b = b[b[\"ytd_gross_earnings\"] != 0]\n",
    "b"
   ]
  },
  {
   "cell_type": "code",
   "execution_count": 200,
   "metadata": {
    "colab": {
     "base_uri": "https://localhost:8080/"
    },
    "id": "1bzNt55v_xMT",
    "outputId": "12f4fc85-1cc8-4103-f522-87a67317bd36"
   },
   "outputs": [
    {
     "name": "stdout",
     "output_type": "stream",
     "text": [
      "count    1.312860e+05\n",
      "mean     3.851321e+04\n",
      "std      3.679104e+04\n",
      "min      1.000000e+03\n",
      "25%      8.000000e+03\n",
      "50%      3.600000e+04\n",
      "75%      5.400000e+04\n",
      "max      2.012000e+06\n",
      "Name: ytd_gross_earnings, dtype: float64\n"
     ]
    }
   ],
   "source": [
    "print(b['ytd_gross_earnings'].describe())"
   ]
  },
  {
   "cell_type": "code",
   "execution_count": 201,
   "metadata": {
    "colab": {
     "base_uri": "https://localhost:8080/"
    },
    "id": "-EkfIBjb_4La",
    "outputId": "5bcd9d79-fe8f-4abe-ee97-f1fce1fb3c28"
   },
   "outputs": [
    {
     "data": {
      "text/plain": [
       "count    131284.000000\n",
       "mean      38483.227202\n",
       "std       35980.518363\n",
       "min        1000.000000\n",
       "25%        8000.000000\n",
       "50%       36000.000000\n",
       "75%       54000.000000\n",
       "max      985000.000000\n",
       "Name: ytd_gross_earnings, dtype: float64"
      ]
     },
     "execution_count": 201,
     "metadata": {
      "tags": []
     },
     "output_type": "execute_result"
    }
   ],
   "source": [
    "# removing data which are over $1M from ytd_gross_earnings column\n",
    "# showing stats again\n",
    "b = b[b[\"ytd_gross_earnings\"] < 1000000]\n",
    "b[\"ytd_gross_earnings\"].describe()"
   ]
  },
  {
   "cell_type": "code",
   "execution_count": 203,
   "metadata": {
    "id": "H59UaT_mAJVj"
   },
   "outputs": [],
   "source": [
    "# separating employees by their organization(agency code)\n",
    "\n",
    "def separate_organization_2012(agency_code):\n",
    "    department_data = pd.DataFrame()\n",
    "    department_data = b[b['agency'] == agency_code]\n",
    "    return department_data\n"
   ]
  },
  {
   "cell_type": "markdown",
   "metadata": {
    "id": "ql27Hp7_AYke"
   },
   "source": [
    "## Organization Names:\n",
    "- UMBC (360231)\n",
    "- UNIVERSITY OF MARYLAND COLLEGE PARK (360222)\n"
   ]
  },
  {
   "cell_type": "markdown",
   "metadata": {
    "id": "UVTewHRkCQEn"
   },
   "source": [
    "### 2012 UMBC Data"
   ]
  },
  {
   "cell_type": "code",
   "execution_count": 204,
   "metadata": {
    "colab": {
     "base_uri": "https://localhost:8080/",
     "height": 406
    },
    "id": "Cd73rtKqAQyA",
    "outputId": "4a33e9d5-5622-4019-b969-a7b5d9b13b2a"
   },
   "outputs": [
    {
     "data": {
      "text/html": [
       "<div>\n",
       "<style scoped>\n",
       "    .dataframe tbody tr th:only-of-type {\n",
       "        vertical-align: middle;\n",
       "    }\n",
       "\n",
       "    .dataframe tbody tr th {\n",
       "        vertical-align: top;\n",
       "    }\n",
       "\n",
       "    .dataframe thead th {\n",
       "        text-align: right;\n",
       "    }\n",
       "</style>\n",
       "<table border=\"1\" class=\"dataframe\">\n",
       "  <thead>\n",
       "    <tr style=\"text-align: right;\">\n",
       "      <th></th>\n",
       "      <th>first_name</th>\n",
       "      <th>last_name</th>\n",
       "      <th>agency</th>\n",
       "      <th>organization</th>\n",
       "      <th>annual_salary</th>\n",
       "      <th>ytd_gross_earnings</th>\n",
       "    </tr>\n",
       "  </thead>\n",
       "  <tbody>\n",
       "    <tr>\n",
       "      <th>130940</th>\n",
       "      <td>B</td>\n",
       "      <td>RABIN</td>\n",
       "      <td>360231</td>\n",
       "      <td>UNIVERSITY OF MARYLAND</td>\n",
       "      <td>90000</td>\n",
       "      <td>109000</td>\n",
       "    </tr>\n",
       "    <tr>\n",
       "      <th>130941</th>\n",
       "      <td>VINSON</td>\n",
       "      <td>BANKOSKI</td>\n",
       "      <td>360231</td>\n",
       "      <td>UNIVERSITY OF MARYLAND</td>\n",
       "      <td>0</td>\n",
       "      <td>5000</td>\n",
       "    </tr>\n",
       "    <tr>\n",
       "      <th>130942</th>\n",
       "      <td>AMY</td>\n",
       "      <td>GREENSFELDER</td>\n",
       "      <td>360231</td>\n",
       "      <td>UNIVERSITY OF MARYLAND</td>\n",
       "      <td>42000</td>\n",
       "      <td>39000</td>\n",
       "    </tr>\n",
       "    <tr>\n",
       "      <th>130943</th>\n",
       "      <td>KYOUNG-JOO</td>\n",
       "      <td>HWANG</td>\n",
       "      <td>360231</td>\n",
       "      <td>UNIVERSITY OF MARYLAND</td>\n",
       "      <td>76000</td>\n",
       "      <td>75000</td>\n",
       "    </tr>\n",
       "    <tr>\n",
       "      <th>130944</th>\n",
       "      <td>JAMES</td>\n",
       "      <td>GRUBB</td>\n",
       "      <td>360231</td>\n",
       "      <td>UNIVERSITY OF MARYLAND</td>\n",
       "      <td>91000</td>\n",
       "      <td>93000</td>\n",
       "    </tr>\n",
       "    <tr>\n",
       "      <th>...</th>\n",
       "      <td>...</td>\n",
       "      <td>...</td>\n",
       "      <td>...</td>\n",
       "      <td>...</td>\n",
       "      <td>...</td>\n",
       "      <td>...</td>\n",
       "    </tr>\n",
       "    <tr>\n",
       "      <th>135194</th>\n",
       "      <td>SHU</td>\n",
       "      <td>QIAN</td>\n",
       "      <td>360231</td>\n",
       "      <td>UNIVERSITY OF MARYLAND</td>\n",
       "      <td>50000</td>\n",
       "      <td>50000</td>\n",
       "    </tr>\n",
       "    <tr>\n",
       "      <th>135195</th>\n",
       "      <td>BUDDHA</td>\n",
       "      <td>MALI</td>\n",
       "      <td>360231</td>\n",
       "      <td>UNIVERSITY OF MARYLAND</td>\n",
       "      <td>35000</td>\n",
       "      <td>35000</td>\n",
       "    </tr>\n",
       "    <tr>\n",
       "      <th>135196</th>\n",
       "      <td>MATEO</td>\n",
       "      <td>HERNANDEZ</td>\n",
       "      <td>360231</td>\n",
       "      <td>UNIVERSITY OF MARYLAND</td>\n",
       "      <td>0</td>\n",
       "      <td>2000</td>\n",
       "    </tr>\n",
       "    <tr>\n",
       "      <th>135197</th>\n",
       "      <td>HEE-RA</td>\n",
       "      <td>LEE</td>\n",
       "      <td>360231</td>\n",
       "      <td>UNIVERSITY OF MARYLAND</td>\n",
       "      <td>0</td>\n",
       "      <td>15000</td>\n",
       "    </tr>\n",
       "    <tr>\n",
       "      <th>135198</th>\n",
       "      <td>HIROKO</td>\n",
       "      <td>AWATA</td>\n",
       "      <td>360231</td>\n",
       "      <td>UNIVERSITY OF MARYLAND</td>\n",
       "      <td>39000</td>\n",
       "      <td>24000</td>\n",
       "    </tr>\n",
       "  </tbody>\n",
       "</table>\n",
       "<p>4108 rows × 6 columns</p>\n",
       "</div>"
      ],
      "text/plain": [
       "        first_name      last_name  ...  annual_salary ytd_gross_earnings\n",
       "130940           B          RABIN  ...          90000             109000\n",
       "130941      VINSON       BANKOSKI  ...              0               5000\n",
       "130942         AMY   GREENSFELDER  ...          42000              39000\n",
       "130943  KYOUNG-JOO          HWANG  ...          76000              75000\n",
       "130944       JAMES          GRUBB  ...          91000              93000\n",
       "...            ...            ...  ...            ...                ...\n",
       "135194         SHU           QIAN  ...          50000              50000\n",
       "135195      BUDDHA           MALI  ...          35000              35000\n",
       "135196       MATEO      HERNANDEZ  ...              0               2000\n",
       "135197      HEE-RA            LEE  ...              0              15000\n",
       "135198      HIROKO          AWATA  ...          39000              24000\n",
       "\n",
       "[4108 rows x 6 columns]"
      ]
     },
     "execution_count": 204,
     "metadata": {
      "tags": []
     },
     "output_type": "execute_result"
    }
   ],
   "source": [
    "separate_organization_2012(360231)"
   ]
  },
  {
   "cell_type": "code",
   "execution_count": 229,
   "metadata": {
    "colab": {
     "base_uri": "https://localhost:8080/",
     "height": 287
    },
    "id": "vjf2HwYICUSm",
    "outputId": "c0f0188b-0d78-4303-ff57-c6c95b345d4e"
   },
   "outputs": [
    {
     "data": {
      "text/html": [
       "<div>\n",
       "<style scoped>\n",
       "    .dataframe tbody tr th:only-of-type {\n",
       "        vertical-align: middle;\n",
       "    }\n",
       "\n",
       "    .dataframe tbody tr th {\n",
       "        vertical-align: top;\n",
       "    }\n",
       "\n",
       "    .dataframe thead th {\n",
       "        text-align: right;\n",
       "    }\n",
       "</style>\n",
       "<table border=\"1\" class=\"dataframe\">\n",
       "  <thead>\n",
       "    <tr style=\"text-align: right;\">\n",
       "      <th></th>\n",
       "      <th>annual_salary</th>\n",
       "      <th>ytd_gross_earnings</th>\n",
       "    </tr>\n",
       "  </thead>\n",
       "  <tbody>\n",
       "    <tr>\n",
       "      <th>count</th>\n",
       "      <td>4108.000000</td>\n",
       "      <td>4108.000000</td>\n",
       "    </tr>\n",
       "    <tr>\n",
       "      <th>mean</th>\n",
       "      <td>31383.398247</td>\n",
       "      <td>35178.919182</td>\n",
       "    </tr>\n",
       "    <tr>\n",
       "      <th>std</th>\n",
       "      <td>39418.463054</td>\n",
       "      <td>38093.312233</td>\n",
       "    </tr>\n",
       "    <tr>\n",
       "      <th>min</th>\n",
       "      <td>0.000000</td>\n",
       "      <td>1000.000000</td>\n",
       "    </tr>\n",
       "    <tr>\n",
       "      <th>25%</th>\n",
       "      <td>0.000000</td>\n",
       "      <td>5000.000000</td>\n",
       "    </tr>\n",
       "    <tr>\n",
       "      <th>50%</th>\n",
       "      <td>16000.000000</td>\n",
       "      <td>22000.000000</td>\n",
       "    </tr>\n",
       "    <tr>\n",
       "      <th>75%</th>\n",
       "      <td>54000.000000</td>\n",
       "      <td>55000.000000</td>\n",
       "    </tr>\n",
       "    <tr>\n",
       "      <th>max</th>\n",
       "      <td>420000.000000</td>\n",
       "      <td>466000.000000</td>\n",
       "    </tr>\n",
       "  </tbody>\n",
       "</table>\n",
       "</div>"
      ],
      "text/plain": [
       "       annual_salary  ytd_gross_earnings\n",
       "count    4108.000000         4108.000000\n",
       "mean    31383.398247        35178.919182\n",
       "std     39418.463054        38093.312233\n",
       "min         0.000000         1000.000000\n",
       "25%         0.000000         5000.000000\n",
       "50%     16000.000000        22000.000000\n",
       "75%     54000.000000        55000.000000\n",
       "max    420000.000000       466000.000000"
      ]
     },
     "execution_count": 229,
     "metadata": {
      "tags": []
     },
     "output_type": "execute_result"
    }
   ],
   "source": [
    "umbc_2012 = separate_organization_2012(360231).iloc[:, 3:].describe() \n",
    "umbc_2012"
   ]
  },
  {
   "cell_type": "markdown",
   "metadata": {
    "id": "7vJL71eQPNwU"
   },
   "source": [
    "### Comparison of UMBC between 2012 and 2019"
   ]
  },
  {
   "cell_type": "code",
   "execution_count": 249,
   "metadata": {
    "colab": {
     "base_uri": "https://localhost:8080/"
    },
    "id": "8cE5MfoJNuMP",
    "outputId": "9ec55719-d89e-446c-a0ff-b7e90489ad7b"
   },
   "outputs": [
    {
     "name": "stdout",
     "output_type": "stream",
     "text": [
      "UMBC's annual mean salary in 2012: \n",
      "$ 35178.91918208374\n",
      "UMBC's annual mean salary in 2019 \n",
      "$ 30977.279705250232\n"
     ]
    }
   ],
   "source": [
    "print(\"UMBC's annual mean salary in 2012: \\n$\", separate_organization_2012(360231)['ytd_gross_earnings'].mean())\n",
    "print(\"UMBC's annual mean salary in 2019 \\n$\", separate_organization(360231)['ytd_gross_earnings'].mean())"
   ]
  },
  {
   "cell_type": "code",
   "execution_count": 250,
   "metadata": {
    "colab": {
     "base_uri": "https://localhost:8080/",
     "height": 225
    },
    "id": "duNMyi8qLeOe",
    "outputId": "7b7061ce-3923-475e-a032-5cd98309e581"
   },
   "outputs": [
    {
     "data": {
      "text/plain": [
       "[<matplotlib.lines.Line2D at 0x7f29c76646a0>]"
      ]
     },
     "execution_count": 250,
     "metadata": {
      "tags": []
     },
     "output_type": "execute_result"
    },
    {
     "data": {
      "image/png": "[encoded data removed]",
      "text/plain": [
       "<Figure size 648x216 with 3 Axes>"
      ]
     },
     "metadata": {
      "needs_background": "light",
      "tags": []
     },
     "output_type": "display_data"
    }
   ],
   "source": [
    "data = {'umbc_2012': separate_organization_2012(360231)['ytd_gross_earnings'].mean(), 'umbc_2019': separate_organization(360231)['ytd_gross_earnings'].mean()}\n",
    "names = list(data.keys())\n",
    "values = list(data.values())\n",
    "\n",
    "fig, axs = plt.subplots(1, 3, figsize=(9, 3), sharey=True)\n",
    "axs[0].bar(names, values)\n",
    "axs[1].scatter(names, values)\n",
    "axs[2].plot(names, values)"
   ]
  },
  {
   "cell_type": "markdown",
   "metadata": {
    "id": "I83myddkCmG7"
   },
   "source": [
    "### 2012 UMCP Data"
   ]
  },
  {
   "cell_type": "code",
   "execution_count": 217,
   "metadata": {
    "colab": {
     "base_uri": "https://localhost:8080/",
     "height": 406
    },
    "id": "KvUnrBNeCoCd",
    "outputId": "170b9b87-fcf9-4cac-aab3-35e2ded4bb38"
   },
   "outputs": [
    {
     "data": {
      "text/html": [
       "<div>\n",
       "<style scoped>\n",
       "    .dataframe tbody tr th:only-of-type {\n",
       "        vertical-align: middle;\n",
       "    }\n",
       "\n",
       "    .dataframe tbody tr th {\n",
       "        vertical-align: top;\n",
       "    }\n",
       "\n",
       "    .dataframe thead th {\n",
       "        text-align: right;\n",
       "    }\n",
       "</style>\n",
       "<table border=\"1\" class=\"dataframe\">\n",
       "  <thead>\n",
       "    <tr style=\"text-align: right;\">\n",
       "      <th></th>\n",
       "      <th>first_name</th>\n",
       "      <th>last_name</th>\n",
       "      <th>agency</th>\n",
       "      <th>organization</th>\n",
       "      <th>annual_salary</th>\n",
       "      <th>ytd_gross_earnings</th>\n",
       "    </tr>\n",
       "  </thead>\n",
       "  <tbody>\n",
       "    <tr>\n",
       "      <th>112787</th>\n",
       "      <td>DANIEL</td>\n",
       "      <td>OBERSKI</td>\n",
       "      <td>360222</td>\n",
       "      <td>UNIVERSITY OF MARYLAND</td>\n",
       "      <td>0</td>\n",
       "      <td>2000</td>\n",
       "    </tr>\n",
       "    <tr>\n",
       "      <th>112788</th>\n",
       "      <td>TRYGVE</td>\n",
       "      <td>KARPER</td>\n",
       "      <td>360222</td>\n",
       "      <td>UNIVERSITY OF MARYLAND</td>\n",
       "      <td>0</td>\n",
       "      <td>1000</td>\n",
       "    </tr>\n",
       "    <tr>\n",
       "      <th>112789</th>\n",
       "      <td>XIANBO</td>\n",
       "      <td>LIU</td>\n",
       "      <td>360222</td>\n",
       "      <td>UNIVERSITY OF MARYLAND</td>\n",
       "      <td>26000</td>\n",
       "      <td>8000</td>\n",
       "    </tr>\n",
       "    <tr>\n",
       "      <th>112790</th>\n",
       "      <td>RONDON</td>\n",
       "      <td>MENDONCA-NETO</td>\n",
       "      <td>360222</td>\n",
       "      <td>UNIVERSITY OF MARYLAND</td>\n",
       "      <td>0</td>\n",
       "      <td>4000</td>\n",
       "    </tr>\n",
       "    <tr>\n",
       "      <th>112791</th>\n",
       "      <td>ULRICH</td>\n",
       "      <td>ZIEGLTRUM</td>\n",
       "      <td>360222</td>\n",
       "      <td>UNIVERSITY OF MARYLAND</td>\n",
       "      <td>0</td>\n",
       "      <td>3000</td>\n",
       "    </tr>\n",
       "    <tr>\n",
       "      <th>...</th>\n",
       "      <td>...</td>\n",
       "      <td>...</td>\n",
       "      <td>...</td>\n",
       "      <td>...</td>\n",
       "      <td>...</td>\n",
       "      <td>...</td>\n",
       "    </tr>\n",
       "    <tr>\n",
       "      <th>127888</th>\n",
       "      <td>VLADIMIR</td>\n",
       "      <td>MANDIC</td>\n",
       "      <td>360222</td>\n",
       "      <td>UNIVERSITY OF MARYLAND</td>\n",
       "      <td>0</td>\n",
       "      <td>2000</td>\n",
       "    </tr>\n",
       "    <tr>\n",
       "      <th>127889</th>\n",
       "      <td>XIQUN</td>\n",
       "      <td>CHEN</td>\n",
       "      <td>360222</td>\n",
       "      <td>UNIVERSITY OF MARYLAND</td>\n",
       "      <td>26000</td>\n",
       "      <td>12000</td>\n",
       "    </tr>\n",
       "    <tr>\n",
       "      <th>127890</th>\n",
       "      <td>FRENEL</td>\n",
       "      <td>CADET</td>\n",
       "      <td>360222</td>\n",
       "      <td>UNIVERSITY OF MARYLAND</td>\n",
       "      <td>0</td>\n",
       "      <td>13000</td>\n",
       "    </tr>\n",
       "    <tr>\n",
       "      <th>127892</th>\n",
       "      <td>DANILO</td>\n",
       "      <td>CICCONE MIGUEL</td>\n",
       "      <td>360222</td>\n",
       "      <td>UNIVERSITY OF MARYLAND</td>\n",
       "      <td>24000</td>\n",
       "      <td>27000</td>\n",
       "    </tr>\n",
       "    <tr>\n",
       "      <th>127893</th>\n",
       "      <td>YUK FAN</td>\n",
       "      <td>TAI</td>\n",
       "      <td>360222</td>\n",
       "      <td>UNIVERSITY OF MARYLAND</td>\n",
       "      <td>35000</td>\n",
       "      <td>9000</td>\n",
       "    </tr>\n",
       "  </tbody>\n",
       "</table>\n",
       "<p>14678 rows × 6 columns</p>\n",
       "</div>"
      ],
      "text/plain": [
       "       first_name        last_name  ...  annual_salary ytd_gross_earnings\n",
       "112787     DANIEL          OBERSKI  ...              0               2000\n",
       "112788     TRYGVE           KARPER  ...              0               1000\n",
       "112789     XIANBO              LIU  ...          26000               8000\n",
       "112790     RONDON    MENDONCA-NETO  ...              0               4000\n",
       "112791     ULRICH        ZIEGLTRUM  ...              0               3000\n",
       "...           ...              ...  ...            ...                ...\n",
       "127888   VLADIMIR           MANDIC  ...              0               2000\n",
       "127889      XIQUN             CHEN  ...          26000              12000\n",
       "127890     FRENEL            CADET  ...              0              13000\n",
       "127892     DANILO   CICCONE MIGUEL  ...          24000              27000\n",
       "127893    YUK FAN              TAI  ...          35000               9000\n",
       "\n",
       "[14678 rows x 6 columns]"
      ]
     },
     "execution_count": 217,
     "metadata": {
      "tags": []
     },
     "output_type": "execute_result"
    }
   ],
   "source": [
    "separate_organization_2012(360222)"
   ]
  },
  {
   "cell_type": "code",
   "execution_count": 222,
   "metadata": {
    "colab": {
     "base_uri": "https://localhost:8080/",
     "height": 287
    },
    "id": "yY_P-7jiJ_yR",
    "outputId": "6f9662bd-985c-4675-e45e-e9f888efaaf3"
   },
   "outputs": [
    {
     "data": {
      "text/html": [
       "<div>\n",
       "<style scoped>\n",
       "    .dataframe tbody tr th:only-of-type {\n",
       "        vertical-align: middle;\n",
       "    }\n",
       "\n",
       "    .dataframe tbody tr th {\n",
       "        vertical-align: top;\n",
       "    }\n",
       "\n",
       "    .dataframe thead th {\n",
       "        text-align: right;\n",
       "    }\n",
       "</style>\n",
       "<table border=\"1\" class=\"dataframe\">\n",
       "  <thead>\n",
       "    <tr style=\"text-align: right;\">\n",
       "      <th></th>\n",
       "      <th>annual_salary</th>\n",
       "      <th>ytd_gross_earnings</th>\n",
       "    </tr>\n",
       "  </thead>\n",
       "  <tbody>\n",
       "    <tr>\n",
       "      <th>count</th>\n",
       "      <td>14678.000000</td>\n",
       "      <td>14678.000000</td>\n",
       "    </tr>\n",
       "    <tr>\n",
       "      <th>mean</th>\n",
       "      <td>44106.213381</td>\n",
       "      <td>47242.471726</td>\n",
       "    </tr>\n",
       "    <tr>\n",
       "      <th>std</th>\n",
       "      <td>47213.626047</td>\n",
       "      <td>47469.471112</td>\n",
       "    </tr>\n",
       "    <tr>\n",
       "      <th>min</th>\n",
       "      <td>0.000000</td>\n",
       "      <td>1000.000000</td>\n",
       "    </tr>\n",
       "    <tr>\n",
       "      <th>25%</th>\n",
       "      <td>0.000000</td>\n",
       "      <td>12000.000000</td>\n",
       "    </tr>\n",
       "    <tr>\n",
       "      <th>50%</th>\n",
       "      <td>38000.000000</td>\n",
       "      <td>37000.000000</td>\n",
       "    </tr>\n",
       "    <tr>\n",
       "      <th>75%</th>\n",
       "      <td>66000.000000</td>\n",
       "      <td>65000.000000</td>\n",
       "    </tr>\n",
       "    <tr>\n",
       "      <th>max</th>\n",
       "      <td>450000.000000</td>\n",
       "      <td>985000.000000</td>\n",
       "    </tr>\n",
       "  </tbody>\n",
       "</table>\n",
       "</div>"
      ],
      "text/plain": [
       "       annual_salary  ytd_gross_earnings\n",
       "count   14678.000000        14678.000000\n",
       "mean    44106.213381        47242.471726\n",
       "std     47213.626047        47469.471112\n",
       "min         0.000000         1000.000000\n",
       "25%         0.000000        12000.000000\n",
       "50%     38000.000000        37000.000000\n",
       "75%     66000.000000        65000.000000\n",
       "max    450000.000000       985000.000000"
      ]
     },
     "execution_count": 222,
     "metadata": {
      "tags": []
     },
     "output_type": "execute_result"
    }
   ],
   "source": [
    "umcp_2012 = separate_organization_2012(360222).iloc[:, 3:].describe() \n",
    "umcp_2012"
   ]
  },
  {
   "cell_type": "markdown",
   "metadata": {
    "id": "Xx3VUnfVPWu9"
   },
   "source": [
    "### Comparison of UMCP between 2012 and 2019"
   ]
  },
  {
   "cell_type": "code",
   "execution_count": 246,
   "metadata": {
    "colab": {
     "base_uri": "https://localhost:8080/"
    },
    "id": "0H_VrpoGPUP_",
    "outputId": "2967ca39-c33a-42f7-fae0-dbbf3cd7102f"
   },
   "outputs": [
    {
     "name": "stdout",
     "output_type": "stream",
     "text": [
      "UMCP's annual mean salary in 2012: \n",
      "$ 47242.47172639324\n",
      "UMCP's annual mean salary in 2019 \n",
      "$ 34947.30293247243\n"
     ]
    }
   ],
   "source": [
    "print(\"UMCP's annual mean salary in 2012: \\n$\", separate_organization_2012(360222)['ytd_gross_earnings'].mean())\n",
    "print(\"UMCP's annual mean salary in 2019 \\n$\", separate_organization(360222)['ytd_gross_earnings'].mean())"
   ]
  },
  {
   "cell_type": "code",
   "execution_count": 251,
   "metadata": {
    "colab": {
     "base_uri": "https://localhost:8080/",
     "height": 225
    },
    "id": "pwFoe72ZPu8_",
    "outputId": "3e894545-2a72-4920-ff09-02ff05ba03f2"
   },
   "outputs": [
    {
     "data": {
      "text/plain": [
       "[<matplotlib.lines.Line2D at 0x7f29c75687b8>]"
      ]
     },
     "execution_count": 251,
     "metadata": {
      "tags": []
     },
     "output_type": "execute_result"
    },
    {
     "data": {
      "image/png": "[encoded data removed]",
      "text/plain": [
       "<Figure size 648x216 with 3 Axes>"
      ]
     },
     "metadata": {
      "needs_background": "light",
      "tags": []
     },
     "output_type": "display_data"
    }
   ],
   "source": [
    "data_umcp = {'umcp_2012': separate_organization_2012(360222)['ytd_gross_earnings'].mean(), 'umcp_2019': separate_organization(360222)['ytd_gross_earnings'].mean()}\n",
    "names = list(data_umcp.keys())\n",
    "values = list(data_umcp.values())\n",
    "\n",
    "fig, axs = plt.subplots(1, 3, figsize=(9, 3), sharey=True)\n",
    "axs[0].bar(names, values)\n",
    "axs[1].scatter(names, values)\n",
    "axs[2].plot(names, values)"
   ]
  }
 ],
 "metadata": {
  "colab": {
   "collapsed_sections": [],
   "name": "Project_1_Proposal.ipynb",
   "provenance": [],
   "toc_visible": true
  },
  "kernelspec": {
   "display_name": "Python 3",
   "language": "python",
   "name": "python3"
  },
  "language_info": {
   "codemirror_mode": {
    "name": "ipython",
    "version": 3
   },
   "file_extension": ".py",
   "mimetype": "text/x-python",
   "name": "python",
   "nbconvert_exporter": "python",
   "pygments_lexer": "ipython3",
   "version": "3.8.3"
  }
 },
 "nbformat": 4,
 "nbformat_minor": 1
}
