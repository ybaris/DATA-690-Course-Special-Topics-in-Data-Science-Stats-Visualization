{
  "nbformat": 4,
  "nbformat_minor": 0,
  "metadata": {
    "colab": {
      "name": "Week03_Inclass_assignment03.ipynb",
      "provenance": [],
      "collapsed_sections": [],
      "authorship_tag": "ABX9TyMx+0m9uyDF9taKSpueXQJ8",
      "include_colab_link": true
    },
    "kernelspec": {
      "name": "python3",
      "display_name": "Python 3"
    }
  },
  "cells": [
    {
      "cell_type": "markdown",
      "metadata": {
        "id": "view-in-github",
        "colab_type": "text"
      },
      "source": [
        "<a href=\"https://colab.research.google.com/github/ybaris/DATA-690-WANG/blob/master/Week03_Inclass_assignment03.ipynb\" target=\"_parent\"><img src=\"https://colab.research.google.com/assets/colab-badge.svg\" alt=\"Open In Colab\"/></a>"
      ]
    },
    {
      "cell_type": "code",
      "metadata": {
        "id": "9ek-C4t9adSH",
        "colab_type": "code",
        "colab": {
          "base_uri": "https://localhost:8080/",
          "height": 478
        },
        "outputId": "b25d578a-a0ff-404c-d1a3-9ed601d3d845"
      },
      "source": [
        "people_names = \"Wang, Chaojie; Seelam, Arjun Reddy; Rius, Jonathan; Liang, Jinqing; Chowdhury, Debanjan; Maszkiewicz, Lori; Negussie, Neftalem; Steinruck, Michaella; Phogat, Shreshta; Fatima, Misha; Hirabayashi, Scott; Soroush, Masoud; Bolz, Jessica; Mbu Nyamsi, Tchuissi; Dokuzoglu, Yuksel; Gogineni, Shailesh; Pabbisetty, Sai Vinay; Preis, Liam; Jyesta, Vishnu Priya; Narne, Yoshita; Boban, Shruthi; Oberoi, Ashreen Kaur; Cohens, Nashika; Noppinger, Ken; Kakani, Goutham; Hayo, Alyssa\"\n",
        "\n",
        "people_names.split(';')\n",
        "\n",
        "\n"
      ],
      "execution_count": 41,
      "outputs": [
        {
          "output_type": "execute_result",
          "data": {
            "text/plain": [
              "['Wang, Chaojie',\n",
              " ' Seelam, Arjun Reddy',\n",
              " ' Rius, Jonathan',\n",
              " ' Liang, Jinqing',\n",
              " ' Chowdhury, Debanjan',\n",
              " ' Maszkiewicz, Lori',\n",
              " ' Negussie, Neftalem',\n",
              " ' Steinruck, Michaella',\n",
              " ' Phogat, Shreshta',\n",
              " ' Fatima, Misha',\n",
              " ' Hirabayashi, Scott',\n",
              " ' Soroush, Masoud',\n",
              " ' Bolz, Jessica',\n",
              " ' Mbu Nyamsi, Tchuissi',\n",
              " ' Dokuzoglu, Yuksel',\n",
              " ' Gogineni, Shailesh',\n",
              " ' Pabbisetty, Sai Vinay',\n",
              " ' Preis, Liam',\n",
              " ' Jyesta, Vishnu Priya',\n",
              " ' Narne, Yoshita',\n",
              " ' Boban, Shruthi',\n",
              " ' Oberoi, Ashreen Kaur',\n",
              " ' Cohens, Nashika',\n",
              " ' Noppinger, Ken',\n",
              " ' Kakani, Goutham',\n",
              " ' Hayo, Alyssa']"
            ]
          },
          "metadata": {
            "tags": []
          },
          "execution_count": 41
        }
      ]
    },
    {
      "cell_type": "code",
      "metadata": {
        "id": "sNIB_TdJiKKQ",
        "colab_type": "code",
        "colab": {
          "base_uri": "https://localhost:8080/",
          "height": 54
        },
        "outputId": "541ab064-ae51-46d7-d85a-209ff119f6e1"
      },
      "source": [
        "first_name_list = []\n",
        "people_list = people_names.split(';')\n",
        "\n",
        "for name in people_list: \n",
        "    first_name_list.append(name.split(',')[1])\n",
        "\n",
        "print(first_name_list)"
      ],
      "execution_count": 56,
      "outputs": [
        {
          "output_type": "stream",
          "text": [
            "[' Chaojie', ' Arjun Reddy', ' Jonathan', ' Jinqing', ' Debanjan', ' Lori', ' Neftalem', ' Michaella', ' Shreshta', ' Misha', ' Scott', ' Masoud', ' Jessica', ' Tchuissi', ' Yuksel', ' Shailesh', ' Sai Vinay', ' Liam', ' Vishnu Priya', ' Yoshita', ' Shruthi', ' Ashreen Kaur', ' Nashika', ' Ken', ' Goutham', ' Alyssa']\n"
          ],
          "name": "stdout"
        }
      ]
    }
  ]
}