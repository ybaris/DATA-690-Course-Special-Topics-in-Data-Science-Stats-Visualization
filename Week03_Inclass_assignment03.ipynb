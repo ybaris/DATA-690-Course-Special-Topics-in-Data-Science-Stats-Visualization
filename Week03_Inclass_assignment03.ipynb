{
  "nbformat": 4,
  "nbformat_minor": 0,
  "metadata": {
    "colab": {
      "name": "Week03_Inclass_assignment03.ipynb",
      "provenance": [],
      "collapsed_sections": [],
      "authorship_tag": "ABX9TyNXveCypanjjZaM+svbbslW",
      "include_colab_link": true
    },
    "kernelspec": {
      "name": "python3",
      "display_name": "Python 3"
    }
  },
  "cells": [
    {
      "cell_type": "markdown",
      "metadata": {
        "id": "view-in-github",
        "colab_type": "text"
      },
      "source": [
        "<a href=\"https://colab.research.google.com/github/ybaris/DATA-690-WANG/blob/master/Week03_Inclass_assignment03.ipynb\" target=\"_parent\"><img src=\"https://colab.research.google.com/assets/colab-badge.svg\" alt=\"Open In Colab\"/></a>"
      ]
    },
    {
      "cell_type": "code",
      "metadata": {
        "id": "9ek-C4t9adSH",
        "colab_type": "code",
        "colab": {
          "base_uri": "https://localhost:8080/",
          "height": 91
        },
        "outputId": "822c03e5-5118-4417-bece-ae27a58c4d96"
      },
      "source": [
        "people_list = \"Wang, Chaojie; Seelam, Arjun Reddy; Rius, Jonathan; Liang, Jinqing; Chowdhury, Debanjan; Maszkiewicz, Lori; Negussie, Neftalem; Steinruck, Michaella; Phogat, Shreshta; Fatima, Misha; Hirabayashi, Scott; Soroush, Masoud; Bolz, Jessica; Mbu Nyamsi, Tchuissi; Dokuzoglu, Yuksel; Gogineni, Shailesh; Pabbisetty, Sai Vinay; Preis, Liam; Jyesta, Vishnu Priya; Narne, Yoshita; Boban, Shruthi; Oberoi, Ashreen Kaur; Cohens, Nashika; Noppinger, Ken; Kakani, Goutham; Hayo, Alyssa\"\n",
        "\n",
        "print(people_list)\n",
        "\n",
        "print(people_list.split(';'))\n",
        "first, last = people_list.split(\";\" , 1)\n",
        "for name in people_list: \n",
        "    name.split(',')\n",
        "\n",
        "\n",
        "\n",
        "\n",
        "\n"
      ],
      "execution_count": 31,
      "outputs": [
        {
          "output_type": "stream",
          "text": [
            "Wang, Chaojie; Seelam, Arjun Reddy; Rius, Jonathan; Liang, Jinqing; Chowdhury, Debanjan; Maszkiewicz, Lori; Negussie, Neftalem; Steinruck, Michaella; Phogat, Shreshta; Fatima, Misha; Hirabayashi, Scott; Soroush, Masoud; Bolz, Jessica; Mbu Nyamsi, Tchuissi; Dokuzoglu, Yuksel; Gogineni, Shailesh; Pabbisetty, Sai Vinay; Preis, Liam; Jyesta, Vishnu Priya; Narne, Yoshita; Boban, Shruthi; Oberoi, Ashreen Kaur; Cohens, Nashika; Noppinger, Ken; Kakani, Goutham; Hayo, Alyssa\n",
            "['Wang, Chaojie', ' Seelam, Arjun Reddy', ' Rius, Jonathan', ' Liang, Jinqing', ' Chowdhury, Debanjan', ' Maszkiewicz, Lori', ' Negussie, Neftalem', ' Steinruck, Michaella', ' Phogat, Shreshta', ' Fatima, Misha', ' Hirabayashi, Scott', ' Soroush, Masoud', ' Bolz, Jessica', ' Mbu Nyamsi, Tchuissi', ' Dokuzoglu, Yuksel', ' Gogineni, Shailesh', ' Pabbisetty, Sai Vinay', ' Preis, Liam', ' Jyesta, Vishnu Priya', ' Narne, Yoshita', ' Boban, Shruthi', ' Oberoi, Ashreen Kaur', ' Cohens, Nashika', ' Noppinger, Ken', ' Kakani, Goutham', ' Hayo, Alyssa']\n"
          ],
          "name": "stdout"
        },
        {
          "output_type": "execute_result",
          "data": {
            "application/vnd.google.colaboratory.intrinsic+json": {
              "type": "string"
            },
            "text/plain": [
              "'a'"
            ]
          },
          "metadata": {
            "tags": []
          },
          "execution_count": 31
        }
      ]
    }
  ]
}