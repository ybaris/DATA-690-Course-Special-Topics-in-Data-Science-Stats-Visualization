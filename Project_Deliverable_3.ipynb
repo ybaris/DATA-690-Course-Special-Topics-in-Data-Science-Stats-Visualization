{
  "nbformat": 4,
  "nbformat_minor": 0,
  "metadata": {
    "colab": {
      "name": "Project Deliverable 3.ipynb",
      "provenance": [],
      "collapsed_sections": [
        "EiLjq4IvqdUQ"
      ],
      "authorship_tag": "ABX9TyMTk/BrRKP4cqFy+eKO9xWX",
      "include_colab_link": true
    },
    "kernelspec": {
      "name": "python3",
      "display_name": "Python 3"
    }
  },
  "cells": [
    {
      "cell_type": "markdown",
      "metadata": {
        "id": "view-in-github",
        "colab_type": "text"
      },
      "source": [
        "<a href=\"https://colab.research.google.com/github/ybaris/DATA-690-WANG/blob/master/Project_Deliverable_3.ipynb\" target=\"_parent\"><img src=\"https://colab.research.google.com/assets/colab-badge.svg\" alt=\"Open In Colab\"/></a>"
      ]
    },
    {
      "cell_type": "markdown",
      "metadata": {
        "id": "k48BSSllLxRC"
      },
      "source": [
        "### Project Proposal\n",
        "\n",
        "1,2,3) I have been always interested in different kinds of sports and statistics about them. I have been watching games and checking historical stats and analysis all the time. Since I found out that there are numerious different data I wanted to dig in more into them. For this project I would like to work on men's tennis data. I found all ATP games' records for each year starting from 1968 to today. I would like to analyse the winning percetanges depending on first set winner. I would like to see the results for different surfaces and tournaments for the last couple of years. (Probably last 5 years) I would like to see which players have the most winning percentage after winning the first set. As a well known fact, winning the first set gives the player an important mental advantage and it reflects to his/her game. That is my curiosity and I find it useful if it really has an effect on players' performances.\n",
        "\n",
        "4) I found an open source data from github as you can see the link here: https://github.com/JeffSackmann/tennis_atp I tried to read the files on this colab file but I am not sure if I am doing it right. I would like to discuss with you on this.\n",
        "\n",
        "5) I would like to analyze the tournament which have more than 32 players in the draw. I am planning to avoid smaller tournaments or the national competitions, because I would like to focus more on the individual performances. I would like to analyze 1 year first and depending on the process I would like to work on different years of ATP data.\n",
        "\n",
        "6) I will check the winning percentage of players after winning the first set. I would like to see if there are certain players who are more successful on this or if someone is worse. Another thing I would like to check is the Grand Slam tournaments as the biggest competition in this sport. I would like to see if the results have a significant difference in general and in these tournaments.\n",
        "\n",
        "7) I will use statistics very often in this analysis and I would like to put the results in charts. I believe showing the differences between surfaces and tournaments will be useful. I would like show the most successful players on a chart as well."
      ]
    },
    {
      "cell_type": "markdown",
      "metadata": {
        "id": "TKB7xnN5mXuI"
      },
      "source": [
        "## Project 2 Deliverable: \n",
        "On this project I analyzed if winning the first set has a significant effect on winning the match in tennis. I anaylized men's tennis 2017 ATP data. I would like to see which players have the best rates on this and if there are major differences between different surfaces. \n",
        "\n",
        "Data set link: https://github.com/JeffSackmann/tennis_atp"
      ]
    },
    {
      "cell_type": "markdown",
      "metadata": {
        "id": "TtW7KmL-IpCa"
      },
      "source": [
        "License\n",
        "Creative Commons License\n",
        "Tennis databases, files, and algorithms by Jeff Sackmann / Tennis Abstract is licensed under a Creative Commons Attribution-NonCommercial-ShareAlike 4.0 International License.\n",
        "Based on a work at https://github.com/JeffSackmann.\n",
        "\n",
        "In other words: Attribution is required. Non-commercial use only.\n"
      ]
    },
    {
      "cell_type": "code",
      "metadata": {
        "id": "PUO2YBCXx4hY"
      },
      "source": [
        "import pandas as pd\n",
        "import matplotlib.pyplot as plt\n",
        "import numpy as np\n",
        "import requests"
      ],
      "execution_count": 25,
      "outputs": []
    },
    {
      "cell_type": "code",
      "metadata": {
        "id": "fq6jwCxfyGtT",
        "outputId": "b39d44f3-8cb2-48d6-e4d9-551090507d17",
        "colab": {
          "base_uri": "https://localhost:8080/",
          "height": 726
        }
      },
      "source": [
        "df = pd.read_csv(\"/content/atp_matches_2017.csv\")\n",
        "df"
      ],
      "execution_count": 26,
      "outputs": [
        {
          "output_type": "execute_result",
          "data": {
            "text/html": [
              "<div>\n",
              "<style scoped>\n",
              "    .dataframe tbody tr th:only-of-type {\n",
              "        vertical-align: middle;\n",
              "    }\n",
              "\n",
              "    .dataframe tbody tr th {\n",
              "        vertical-align: top;\n",
              "    }\n",
              "\n",
              "    .dataframe thead th {\n",
              "        text-align: right;\n",
              "    }\n",
              "</style>\n",
              "<table border=\"1\" class=\"dataframe\">\n",
              "  <thead>\n",
              "    <tr style=\"text-align: right;\">\n",
              "      <th></th>\n",
              "      <th>tourney_id</th>\n",
              "      <th>tourney_name</th>\n",
              "      <th>surface</th>\n",
              "      <th>draw_size</th>\n",
              "      <th>tourney_level</th>\n",
              "      <th>tourney_date</th>\n",
              "      <th>match_num</th>\n",
              "      <th>winner_id</th>\n",
              "      <th>winner_seed</th>\n",
              "      <th>winner_entry</th>\n",
              "      <th>winner_name</th>\n",
              "      <th>winner_hand</th>\n",
              "      <th>winner_ht</th>\n",
              "      <th>winner_ioc</th>\n",
              "      <th>winner_age</th>\n",
              "      <th>loser_id</th>\n",
              "      <th>loser_seed</th>\n",
              "      <th>loser_entry</th>\n",
              "      <th>loser_name</th>\n",
              "      <th>loser_hand</th>\n",
              "      <th>loser_ht</th>\n",
              "      <th>loser_ioc</th>\n",
              "      <th>loser_age</th>\n",
              "      <th>score</th>\n",
              "      <th>best_of</th>\n",
              "      <th>round</th>\n",
              "      <th>minutes</th>\n",
              "      <th>w_ace</th>\n",
              "      <th>w_df</th>\n",
              "      <th>w_svpt</th>\n",
              "      <th>w_1stIn</th>\n",
              "      <th>w_1stWon</th>\n",
              "      <th>w_2ndWon</th>\n",
              "      <th>w_SvGms</th>\n",
              "      <th>w_bpSaved</th>\n",
              "      <th>w_bpFaced</th>\n",
              "      <th>l_ace</th>\n",
              "      <th>l_df</th>\n",
              "      <th>l_svpt</th>\n",
              "      <th>l_1stIn</th>\n",
              "      <th>l_1stWon</th>\n",
              "      <th>l_2ndWon</th>\n",
              "      <th>l_SvGms</th>\n",
              "      <th>l_bpSaved</th>\n",
              "      <th>l_bpFaced</th>\n",
              "      <th>winner_rank</th>\n",
              "      <th>winner_rank_points</th>\n",
              "      <th>loser_rank</th>\n",
              "      <th>loser_rank_points</th>\n",
              "    </tr>\n",
              "  </thead>\n",
              "  <tbody>\n",
              "    <tr>\n",
              "      <th>0</th>\n",
              "      <td>2017-M020</td>\n",
              "      <td>Brisbane</td>\n",
              "      <td>Hard</td>\n",
              "      <td>32</td>\n",
              "      <td>A</td>\n",
              "      <td>20170102</td>\n",
              "      <td>271</td>\n",
              "      <td>104678</td>\n",
              "      <td>NaN</td>\n",
              "      <td>NaN</td>\n",
              "      <td>Viktor Troicki</td>\n",
              "      <td>R</td>\n",
              "      <td>193.0</td>\n",
              "      <td>SRB</td>\n",
              "      <td>30.893908</td>\n",
              "      <td>106415</td>\n",
              "      <td>NaN</td>\n",
              "      <td>Q</td>\n",
              "      <td>Yoshihito Nishioka</td>\n",
              "      <td>L</td>\n",
              "      <td>NaN</td>\n",
              "      <td>JPN</td>\n",
              "      <td>21.267625</td>\n",
              "      <td>6-4 7-5</td>\n",
              "      <td>3</td>\n",
              "      <td>R32</td>\n",
              "      <td>91.0</td>\n",
              "      <td>11.0</td>\n",
              "      <td>5.0</td>\n",
              "      <td>64.0</td>\n",
              "      <td>45.0</td>\n",
              "      <td>35.0</td>\n",
              "      <td>6.0</td>\n",
              "      <td>11.0</td>\n",
              "      <td>1.0</td>\n",
              "      <td>3.0</td>\n",
              "      <td>0.0</td>\n",
              "      <td>1.0</td>\n",
              "      <td>82.0</td>\n",
              "      <td>53.0</td>\n",
              "      <td>33.0</td>\n",
              "      <td>13.0</td>\n",
              "      <td>11.0</td>\n",
              "      <td>6.0</td>\n",
              "      <td>10.0</td>\n",
              "      <td>29.0</td>\n",
              "      <td>1385.0</td>\n",
              "      <td>100.0</td>\n",
              "      <td>604.0</td>\n",
              "    </tr>\n",
              "    <tr>\n",
              "      <th>1</th>\n",
              "      <td>2017-M020</td>\n",
              "      <td>Brisbane</td>\n",
              "      <td>Hard</td>\n",
              "      <td>32</td>\n",
              "      <td>A</td>\n",
              "      <td>20170102</td>\n",
              "      <td>272</td>\n",
              "      <td>106378</td>\n",
              "      <td>NaN</td>\n",
              "      <td>NaN</td>\n",
              "      <td>Kyle Edmund</td>\n",
              "      <td>R</td>\n",
              "      <td>NaN</td>\n",
              "      <td>GBR</td>\n",
              "      <td>21.984942</td>\n",
              "      <td>124014</td>\n",
              "      <td>NaN</td>\n",
              "      <td>Q</td>\n",
              "      <td>Ernesto Escobedo</td>\n",
              "      <td>R</td>\n",
              "      <td>NaN</td>\n",
              "      <td>USA</td>\n",
              "      <td>20.498289</td>\n",
              "      <td>7-6(4) 7-6(6)</td>\n",
              "      <td>3</td>\n",
              "      <td>R32</td>\n",
              "      <td>130.0</td>\n",
              "      <td>11.0</td>\n",
              "      <td>2.0</td>\n",
              "      <td>83.0</td>\n",
              "      <td>48.0</td>\n",
              "      <td>37.0</td>\n",
              "      <td>19.0</td>\n",
              "      <td>12.0</td>\n",
              "      <td>2.0</td>\n",
              "      <td>3.0</td>\n",
              "      <td>11.0</td>\n",
              "      <td>3.0</td>\n",
              "      <td>113.0</td>\n",
              "      <td>67.0</td>\n",
              "      <td>39.0</td>\n",
              "      <td>27.0</td>\n",
              "      <td>12.0</td>\n",
              "      <td>9.0</td>\n",
              "      <td>10.0</td>\n",
              "      <td>45.0</td>\n",
              "      <td>1001.0</td>\n",
              "      <td>141.0</td>\n",
              "      <td>443.0</td>\n",
              "    </tr>\n",
              "    <tr>\n",
              "      <th>2</th>\n",
              "      <td>2017-M020</td>\n",
              "      <td>Brisbane</td>\n",
              "      <td>Hard</td>\n",
              "      <td>32</td>\n",
              "      <td>A</td>\n",
              "      <td>20170102</td>\n",
              "      <td>273</td>\n",
              "      <td>106298</td>\n",
              "      <td>6.0</td>\n",
              "      <td>NaN</td>\n",
              "      <td>Lucas Pouille</td>\n",
              "      <td>R</td>\n",
              "      <td>185.0</td>\n",
              "      <td>FRA</td>\n",
              "      <td>22.858316</td>\n",
              "      <td>104468</td>\n",
              "      <td>NaN</td>\n",
              "      <td>NaN</td>\n",
              "      <td>Gilles Simon</td>\n",
              "      <td>R</td>\n",
              "      <td>183.0</td>\n",
              "      <td>FRA</td>\n",
              "      <td>32.016427</td>\n",
              "      <td>7-6(6) 7-6(4)</td>\n",
              "      <td>3</td>\n",
              "      <td>R32</td>\n",
              "      <td>125.0</td>\n",
              "      <td>7.0</td>\n",
              "      <td>2.0</td>\n",
              "      <td>102.0</td>\n",
              "      <td>52.0</td>\n",
              "      <td>37.0</td>\n",
              "      <td>24.0</td>\n",
              "      <td>12.0</td>\n",
              "      <td>8.0</td>\n",
              "      <td>12.0</td>\n",
              "      <td>1.0</td>\n",
              "      <td>4.0</td>\n",
              "      <td>76.0</td>\n",
              "      <td>42.0</td>\n",
              "      <td>29.0</td>\n",
              "      <td>16.0</td>\n",
              "      <td>12.0</td>\n",
              "      <td>0.0</td>\n",
              "      <td>4.0</td>\n",
              "      <td>15.0</td>\n",
              "      <td>2156.0</td>\n",
              "      <td>25.0</td>\n",
              "      <td>1585.0</td>\n",
              "    </tr>\n",
              "    <tr>\n",
              "      <th>3</th>\n",
              "      <td>2017-M020</td>\n",
              "      <td>Brisbane</td>\n",
              "      <td>Hard</td>\n",
              "      <td>32</td>\n",
              "      <td>A</td>\n",
              "      <td>20170102</td>\n",
              "      <td>275</td>\n",
              "      <td>111577</td>\n",
              "      <td>NaN</td>\n",
              "      <td>Q</td>\n",
              "      <td>Jared Donaldson</td>\n",
              "      <td>R</td>\n",
              "      <td>NaN</td>\n",
              "      <td>USA</td>\n",
              "      <td>20.232717</td>\n",
              "      <td>104180</td>\n",
              "      <td>NaN</td>\n",
              "      <td>NaN</td>\n",
              "      <td>Gilles Muller</td>\n",
              "      <td>L</td>\n",
              "      <td>193.0</td>\n",
              "      <td>LUX</td>\n",
              "      <td>33.653662</td>\n",
              "      <td>6-4 6-4</td>\n",
              "      <td>3</td>\n",
              "      <td>R32</td>\n",
              "      <td>75.0</td>\n",
              "      <td>12.0</td>\n",
              "      <td>2.0</td>\n",
              "      <td>55.0</td>\n",
              "      <td>33.0</td>\n",
              "      <td>27.0</td>\n",
              "      <td>13.0</td>\n",
              "      <td>10.0</td>\n",
              "      <td>0.0</td>\n",
              "      <td>1.0</td>\n",
              "      <td>10.0</td>\n",
              "      <td>2.0</td>\n",
              "      <td>58.0</td>\n",
              "      <td>37.0</td>\n",
              "      <td>27.0</td>\n",
              "      <td>7.0</td>\n",
              "      <td>10.0</td>\n",
              "      <td>2.0</td>\n",
              "      <td>5.0</td>\n",
              "      <td>105.0</td>\n",
              "      <td>570.0</td>\n",
              "      <td>34.0</td>\n",
              "      <td>1255.0</td>\n",
              "    </tr>\n",
              "    <tr>\n",
              "      <th>4</th>\n",
              "      <td>2017-M020</td>\n",
              "      <td>Brisbane</td>\n",
              "      <td>Hard</td>\n",
              "      <td>32</td>\n",
              "      <td>A</td>\n",
              "      <td>20170102</td>\n",
              "      <td>276</td>\n",
              "      <td>111442</td>\n",
              "      <td>NaN</td>\n",
              "      <td>WC</td>\n",
              "      <td>Jordan Thompson</td>\n",
              "      <td>R</td>\n",
              "      <td>NaN</td>\n",
              "      <td>AUS</td>\n",
              "      <td>22.704997</td>\n",
              "      <td>111200</td>\n",
              "      <td>NaN</td>\n",
              "      <td>WC</td>\n",
              "      <td>Elias Ymer</td>\n",
              "      <td>R</td>\n",
              "      <td>NaN</td>\n",
              "      <td>SWE</td>\n",
              "      <td>20.731006</td>\n",
              "      <td>6-3 6-2</td>\n",
              "      <td>3</td>\n",
              "      <td>R32</td>\n",
              "      <td>90.0</td>\n",
              "      <td>1.0</td>\n",
              "      <td>0.0</td>\n",
              "      <td>46.0</td>\n",
              "      <td>28.0</td>\n",
              "      <td>26.0</td>\n",
              "      <td>6.0</td>\n",
              "      <td>8.0</td>\n",
              "      <td>1.0</td>\n",
              "      <td>2.0</td>\n",
              "      <td>1.0</td>\n",
              "      <td>6.0</td>\n",
              "      <td>74.0</td>\n",
              "      <td>43.0</td>\n",
              "      <td>23.0</td>\n",
              "      <td>13.0</td>\n",
              "      <td>9.0</td>\n",
              "      <td>10.0</td>\n",
              "      <td>15.0</td>\n",
              "      <td>79.0</td>\n",
              "      <td>689.0</td>\n",
              "      <td>160.0</td>\n",
              "      <td>372.0</td>\n",
              "    </tr>\n",
              "    <tr>\n",
              "      <th>...</th>\n",
              "      <td>...</td>\n",
              "      <td>...</td>\n",
              "      <td>...</td>\n",
              "      <td>...</td>\n",
              "      <td>...</td>\n",
              "      <td>...</td>\n",
              "      <td>...</td>\n",
              "      <td>...</td>\n",
              "      <td>...</td>\n",
              "      <td>...</td>\n",
              "      <td>...</td>\n",
              "      <td>...</td>\n",
              "      <td>...</td>\n",
              "      <td>...</td>\n",
              "      <td>...</td>\n",
              "      <td>...</td>\n",
              "      <td>...</td>\n",
              "      <td>...</td>\n",
              "      <td>...</td>\n",
              "      <td>...</td>\n",
              "      <td>...</td>\n",
              "      <td>...</td>\n",
              "      <td>...</td>\n",
              "      <td>...</td>\n",
              "      <td>...</td>\n",
              "      <td>...</td>\n",
              "      <td>...</td>\n",
              "      <td>...</td>\n",
              "      <td>...</td>\n",
              "      <td>...</td>\n",
              "      <td>...</td>\n",
              "      <td>...</td>\n",
              "      <td>...</td>\n",
              "      <td>...</td>\n",
              "      <td>...</td>\n",
              "      <td>...</td>\n",
              "      <td>...</td>\n",
              "      <td>...</td>\n",
              "      <td>...</td>\n",
              "      <td>...</td>\n",
              "      <td>...</td>\n",
              "      <td>...</td>\n",
              "      <td>...</td>\n",
              "      <td>...</td>\n",
              "      <td>...</td>\n",
              "      <td>...</td>\n",
              "      <td>...</td>\n",
              "      <td>...</td>\n",
              "      <td>...</td>\n",
              "    </tr>\n",
              "    <tr>\n",
              "      <th>2881</th>\n",
              "      <td>2017-0605</td>\n",
              "      <td>Tour Finals</td>\n",
              "      <td>Hard</td>\n",
              "      <td>8</td>\n",
              "      <td>F</td>\n",
              "      <td>20171113</td>\n",
              "      <td>300</td>\n",
              "      <td>105777</td>\n",
              "      <td>6.0</td>\n",
              "      <td>NaN</td>\n",
              "      <td>Grigor Dimitrov</td>\n",
              "      <td>R</td>\n",
              "      <td>188.0</td>\n",
              "      <td>BUL</td>\n",
              "      <td>26.496920</td>\n",
              "      <td>105676</td>\n",
              "      <td>7.0</td>\n",
              "      <td>NaN</td>\n",
              "      <td>David Goffin</td>\n",
              "      <td>R</td>\n",
              "      <td>163.0</td>\n",
              "      <td>BEL</td>\n",
              "      <td>26.934976</td>\n",
              "      <td>7-5 4-6 6-3</td>\n",
              "      <td>3</td>\n",
              "      <td>F</td>\n",
              "      <td>150.0</td>\n",
              "      <td>5.0</td>\n",
              "      <td>6.0</td>\n",
              "      <td>103.0</td>\n",
              "      <td>67.0</td>\n",
              "      <td>47.0</td>\n",
              "      <td>18.0</td>\n",
              "      <td>16.0</td>\n",
              "      <td>7.0</td>\n",
              "      <td>10.0</td>\n",
              "      <td>10.0</td>\n",
              "      <td>5.0</td>\n",
              "      <td>107.0</td>\n",
              "      <td>54.0</td>\n",
              "      <td>42.0</td>\n",
              "      <td>22.0</td>\n",
              "      <td>15.0</td>\n",
              "      <td>11.0</td>\n",
              "      <td>15.0</td>\n",
              "      <td>6.0</td>\n",
              "      <td>3650.0</td>\n",
              "      <td>8.0</td>\n",
              "      <td>2975.0</td>\n",
              "    </tr>\n",
              "    <tr>\n",
              "      <th>2882</th>\n",
              "      <td>2017-M-DC-2017-WG-M-BEL-FRA-01</td>\n",
              "      <td>Davis Cup WG F: BEL vs FRA</td>\n",
              "      <td>Hard</td>\n",
              "      <td>4</td>\n",
              "      <td>D</td>\n",
              "      <td>20171124</td>\n",
              "      <td>1</td>\n",
              "      <td>105676</td>\n",
              "      <td>NaN</td>\n",
              "      <td>NaN</td>\n",
              "      <td>David Goffin</td>\n",
              "      <td>R</td>\n",
              "      <td>163.0</td>\n",
              "      <td>BEL</td>\n",
              "      <td>26.954141</td>\n",
              "      <td>106298</td>\n",
              "      <td>NaN</td>\n",
              "      <td>NaN</td>\n",
              "      <td>Lucas Pouille</td>\n",
              "      <td>R</td>\n",
              "      <td>185.0</td>\n",
              "      <td>FRA</td>\n",
              "      <td>23.739904</td>\n",
              "      <td>7-5 6-3 6-1</td>\n",
              "      <td>3</td>\n",
              "      <td>RR</td>\n",
              "      <td>119.0</td>\n",
              "      <td>12.0</td>\n",
              "      <td>0.0</td>\n",
              "      <td>74.0</td>\n",
              "      <td>48.0</td>\n",
              "      <td>40.0</td>\n",
              "      <td>17.0</td>\n",
              "      <td>14.0</td>\n",
              "      <td>0.0</td>\n",
              "      <td>0.0</td>\n",
              "      <td>6.0</td>\n",
              "      <td>2.0</td>\n",
              "      <td>95.0</td>\n",
              "      <td>53.0</td>\n",
              "      <td>33.0</td>\n",
              "      <td>21.0</td>\n",
              "      <td>14.0</td>\n",
              "      <td>6.0</td>\n",
              "      <td>11.0</td>\n",
              "      <td>7.0</td>\n",
              "      <td>3775.0</td>\n",
              "      <td>18.0</td>\n",
              "      <td>2235.0</td>\n",
              "    </tr>\n",
              "    <tr>\n",
              "      <th>2883</th>\n",
              "      <td>2017-M-DC-2017-WG-M-BEL-FRA-01</td>\n",
              "      <td>Davis Cup WG F: BEL vs FRA</td>\n",
              "      <td>Hard</td>\n",
              "      <td>4</td>\n",
              "      <td>D</td>\n",
              "      <td>20171124</td>\n",
              "      <td>2</td>\n",
              "      <td>104542</td>\n",
              "      <td>NaN</td>\n",
              "      <td>NaN</td>\n",
              "      <td>Jo-Wilfried Tsonga</td>\n",
              "      <td>R</td>\n",
              "      <td>188.0</td>\n",
              "      <td>FRA</td>\n",
              "      <td>32.594114</td>\n",
              "      <td>104327</td>\n",
              "      <td>NaN</td>\n",
              "      <td>NaN</td>\n",
              "      <td>Steve Darcis</td>\n",
              "      <td>R</td>\n",
              "      <td>178.0</td>\n",
              "      <td>BEL</td>\n",
              "      <td>33.689254</td>\n",
              "      <td>6-3 6-2 6-1</td>\n",
              "      <td>5</td>\n",
              "      <td>RR</td>\n",
              "      <td>106.0</td>\n",
              "      <td>12.0</td>\n",
              "      <td>2.0</td>\n",
              "      <td>64.0</td>\n",
              "      <td>33.0</td>\n",
              "      <td>31.0</td>\n",
              "      <td>19.0</td>\n",
              "      <td>12.0</td>\n",
              "      <td>0.0</td>\n",
              "      <td>0.0</td>\n",
              "      <td>1.0</td>\n",
              "      <td>2.0</td>\n",
              "      <td>81.0</td>\n",
              "      <td>54.0</td>\n",
              "      <td>30.0</td>\n",
              "      <td>12.0</td>\n",
              "      <td>12.0</td>\n",
              "      <td>5.0</td>\n",
              "      <td>11.0</td>\n",
              "      <td>15.0</td>\n",
              "      <td>2320.0</td>\n",
              "      <td>76.0</td>\n",
              "      <td>667.0</td>\n",
              "    </tr>\n",
              "    <tr>\n",
              "      <th>2884</th>\n",
              "      <td>2017-M-DC-2017-WG-M-BEL-FRA-01</td>\n",
              "      <td>Davis Cup WG F: BEL vs FRA</td>\n",
              "      <td>Hard</td>\n",
              "      <td>4</td>\n",
              "      <td>D</td>\n",
              "      <td>20171124</td>\n",
              "      <td>4</td>\n",
              "      <td>105676</td>\n",
              "      <td>NaN</td>\n",
              "      <td>NaN</td>\n",
              "      <td>David Goffin</td>\n",
              "      <td>R</td>\n",
              "      <td>163.0</td>\n",
              "      <td>BEL</td>\n",
              "      <td>26.954141</td>\n",
              "      <td>104542</td>\n",
              "      <td>NaN</td>\n",
              "      <td>NaN</td>\n",
              "      <td>Jo-Wilfried Tsonga</td>\n",
              "      <td>R</td>\n",
              "      <td>188.0</td>\n",
              "      <td>FRA</td>\n",
              "      <td>32.594114</td>\n",
              "      <td>7-6(5) 6-3 6-2</td>\n",
              "      <td>3</td>\n",
              "      <td>RR</td>\n",
              "      <td>164.0</td>\n",
              "      <td>1.0</td>\n",
              "      <td>0.0</td>\n",
              "      <td>122.0</td>\n",
              "      <td>71.0</td>\n",
              "      <td>47.0</td>\n",
              "      <td>33.0</td>\n",
              "      <td>15.0</td>\n",
              "      <td>10.0</td>\n",
              "      <td>10.0</td>\n",
              "      <td>10.0</td>\n",
              "      <td>3.0</td>\n",
              "      <td>88.0</td>\n",
              "      <td>54.0</td>\n",
              "      <td>44.0</td>\n",
              "      <td>13.0</td>\n",
              "      <td>14.0</td>\n",
              "      <td>7.0</td>\n",
              "      <td>10.0</td>\n",
              "      <td>7.0</td>\n",
              "      <td>3775.0</td>\n",
              "      <td>15.0</td>\n",
              "      <td>2320.0</td>\n",
              "    </tr>\n",
              "    <tr>\n",
              "      <th>2885</th>\n",
              "      <td>2017-M-DC-2017-WG-M-BEL-FRA-01</td>\n",
              "      <td>Davis Cup WG F: BEL vs FRA</td>\n",
              "      <td>Hard</td>\n",
              "      <td>4</td>\n",
              "      <td>D</td>\n",
              "      <td>20171124</td>\n",
              "      <td>5</td>\n",
              "      <td>106298</td>\n",
              "      <td>NaN</td>\n",
              "      <td>NaN</td>\n",
              "      <td>Lucas Pouille</td>\n",
              "      <td>R</td>\n",
              "      <td>185.0</td>\n",
              "      <td>FRA</td>\n",
              "      <td>23.739904</td>\n",
              "      <td>104327</td>\n",
              "      <td>NaN</td>\n",
              "      <td>NaN</td>\n",
              "      <td>Steve Darcis</td>\n",
              "      <td>R</td>\n",
              "      <td>178.0</td>\n",
              "      <td>BEL</td>\n",
              "      <td>33.689254</td>\n",
              "      <td>6-3 6-1 6-0</td>\n",
              "      <td>5</td>\n",
              "      <td>RR</td>\n",
              "      <td>94.0</td>\n",
              "      <td>7.0</td>\n",
              "      <td>1.0</td>\n",
              "      <td>57.0</td>\n",
              "      <td>38.0</td>\n",
              "      <td>34.0</td>\n",
              "      <td>11.0</td>\n",
              "      <td>11.0</td>\n",
              "      <td>0.0</td>\n",
              "      <td>0.0</td>\n",
              "      <td>1.0</td>\n",
              "      <td>0.0</td>\n",
              "      <td>87.0</td>\n",
              "      <td>53.0</td>\n",
              "      <td>29.0</td>\n",
              "      <td>11.0</td>\n",
              "      <td>11.0</td>\n",
              "      <td>4.0</td>\n",
              "      <td>11.0</td>\n",
              "      <td>18.0</td>\n",
              "      <td>2235.0</td>\n",
              "      <td>76.0</td>\n",
              "      <td>667.0</td>\n",
              "    </tr>\n",
              "  </tbody>\n",
              "</table>\n",
              "<p>2886 rows × 49 columns</p>\n",
              "</div>"
            ],
            "text/plain": [
              "                          tourney_id  ... loser_rank_points\n",
              "0                          2017-M020  ...             604.0\n",
              "1                          2017-M020  ...             443.0\n",
              "2                          2017-M020  ...            1585.0\n",
              "3                          2017-M020  ...            1255.0\n",
              "4                          2017-M020  ...             372.0\n",
              "...                              ...  ...               ...\n",
              "2881                       2017-0605  ...            2975.0\n",
              "2882  2017-M-DC-2017-WG-M-BEL-FRA-01  ...            2235.0\n",
              "2883  2017-M-DC-2017-WG-M-BEL-FRA-01  ...             667.0\n",
              "2884  2017-M-DC-2017-WG-M-BEL-FRA-01  ...            2320.0\n",
              "2885  2017-M-DC-2017-WG-M-BEL-FRA-01  ...             667.0\n",
              "\n",
              "[2886 rows x 49 columns]"
            ]
          },
          "metadata": {
            "tags": []
          },
          "execution_count": 26
        }
      ]
    },
    {
      "cell_type": "code",
      "metadata": {
        "id": "3-LfORo9mEC5",
        "outputId": "6e399151-541d-4d61-9569-7c803b9e03cc",
        "colab": {
          "base_uri": "https://localhost:8080/"
        }
      },
      "source": [
        "df.shape"
      ],
      "execution_count": 27,
      "outputs": [
        {
          "output_type": "execute_result",
          "data": {
            "text/plain": [
              "(2886, 49)"
            ]
          },
          "metadata": {
            "tags": []
          },
          "execution_count": 27
        }
      ]
    },
    {
      "cell_type": "code",
      "metadata": {
        "id": "xKbtkuITmPLE",
        "outputId": "3859057f-76ce-473a-d53d-5cce7d0fb1f2",
        "colab": {
          "base_uri": "https://localhost:8080/"
        }
      },
      "source": [
        "df.info()"
      ],
      "execution_count": 28,
      "outputs": [
        {
          "output_type": "stream",
          "text": [
            "<class 'pandas.core.frame.DataFrame'>\n",
            "RangeIndex: 2886 entries, 0 to 2885\n",
            "Data columns (total 49 columns):\n",
            " #   Column              Non-Null Count  Dtype  \n",
            "---  ------              --------------  -----  \n",
            " 0   tourney_id          2886 non-null   object \n",
            " 1   tourney_name        2886 non-null   object \n",
            " 2   surface             2806 non-null   object \n",
            " 3   draw_size           2886 non-null   int64  \n",
            " 4   tourney_level       2886 non-null   object \n",
            " 5   tourney_date        2886 non-null   int64  \n",
            " 6   match_num           2886 non-null   int64  \n",
            " 7   winner_id           2886 non-null   int64  \n",
            " 8   winner_seed         1222 non-null   float64\n",
            " 9   winner_entry        366 non-null    object \n",
            " 10  winner_name         2886 non-null   object \n",
            " 11  winner_hand         2884 non-null   object \n",
            " 12  winner_ht           2289 non-null   float64\n",
            " 13  winner_ioc          2886 non-null   object \n",
            " 14  winner_age          2886 non-null   float64\n",
            " 15  loser_id            2886 non-null   int64  \n",
            " 16  loser_seed          700 non-null    float64\n",
            " 17  loser_entry         561 non-null    object \n",
            " 18  loser_name          2886 non-null   object \n",
            " 19  loser_hand          2881 non-null   object \n",
            " 20  loser_ht            1977 non-null   float64\n",
            " 21  loser_ioc           2886 non-null   object \n",
            " 22  loser_age           2884 non-null   float64\n",
            " 23  score               2886 non-null   object \n",
            " 24  best_of             2886 non-null   int64  \n",
            " 25  round               2886 non-null   object \n",
            " 26  minutes             2822 non-null   float64\n",
            " 27  w_ace               2855 non-null   float64\n",
            " 28  w_df                2855 non-null   float64\n",
            " 29  w_svpt              2855 non-null   float64\n",
            " 30  w_1stIn             2855 non-null   float64\n",
            " 31  w_1stWon            2855 non-null   float64\n",
            " 32  w_2ndWon            2855 non-null   float64\n",
            " 33  w_SvGms             2855 non-null   float64\n",
            " 34  w_bpSaved           2855 non-null   float64\n",
            " 35  w_bpFaced           2855 non-null   float64\n",
            " 36  l_ace               2855 non-null   float64\n",
            " 37  l_df                2855 non-null   float64\n",
            " 38  l_svpt              2855 non-null   float64\n",
            " 39  l_1stIn             2855 non-null   float64\n",
            " 40  l_1stWon            2855 non-null   float64\n",
            " 41  l_2ndWon            2855 non-null   float64\n",
            " 42  l_SvGms             2855 non-null   float64\n",
            " 43  l_bpSaved           2855 non-null   float64\n",
            " 44  l_bpFaced           2855 non-null   float64\n",
            " 45  winner_rank         2869 non-null   float64\n",
            " 46  winner_rank_points  2869 non-null   float64\n",
            " 47  loser_rank          2848 non-null   float64\n",
            " 48  loser_rank_points   2848 non-null   float64\n",
            "dtypes: float64(29), int64(6), object(14)\n",
            "memory usage: 1.1+ MB\n"
          ],
          "name": "stdout"
        }
      ]
    },
    {
      "cell_type": "markdown",
      "metadata": {
        "id": "EiLjq4IvqdUQ"
      },
      "source": [
        "### Column Name Explanation"
      ]
    },
    {
      "cell_type": "markdown",
      "metadata": {
        "id": "DoohbQsCqE9c"
      },
      "source": [
        "* Many of the columns in the 'matches' files are self-explanatory, or are very similar to previous columns.\n",
        "\n",
        "tourney_id\n",
        "- a unique identifier for each tournament, such as 2020-888. The exact formats are borrowed from several different sources, so while the first four characters are always the year, the rest of the ID doesn't follow a predictable structure.\n",
        "\n",
        "tourney_name\n",
        "surface\n",
        "draw_size\n",
        "- number of players in the draw, often rounded up to the nearest power of 2. (For instance, a tournament with 28 players may be shown as 32.)\n",
        "\n",
        "tourney_level\n",
        "- For men: 'G' = Grand Slams, 'M' = Masters 1000s, 'A' = other tour-level events, 'C' = Challengers, 'S' = Satellites/ITFs, 'F' = Tour finals and other season-ending events, and 'D' = Davis Cup\n",
        "\n",
        "tourney_date\n",
        "- eight digits, YYYYMMDD, usually the Monday of the tournament week.\n",
        "\n",
        "match_num\n",
        "- a match-specific identifier. Often starting from 1, sometimes counting down from 300, and sometimes arbitrary. \n",
        "\n",
        "winner_id\n",
        "- the player_id used in this repo for the winner of the match\n",
        "\n",
        "winner_seed\n",
        "winner_entry\n",
        "- 'WC' = wild card, 'Q' = qualifier, 'LL' = lucky loser, 'PR' = protected ranking, 'ITF' = ITF entry, and there are a few others that are occasionally used.\n",
        "\n",
        "winner_name\n",
        "winner_hand\n",
        "winner_ht\n",
        "- height in centimeters, where available\n",
        "\n",
        "winner_ioc\n",
        "- three-character country code\n",
        "\n",
        "winner_age\n",
        "- age, in years, as of the tourney_date\n",
        "\n",
        "loser_id\n",
        "loser_seed\n",
        "loser_entry\n",
        "loser_name\n",
        "loser_hand\n",
        "loser_ht\n",
        "loser_ioc\n",
        "loser_age\n",
        "score\n",
        "best_of\n",
        "- '3' or '5', indicating the the number of sets for this match\n",
        "\n",
        "round\n",
        "minutes\n",
        "- match length, where available\n",
        "\n",
        "- w_ace: winner's number of aces\n",
        "- w_df: winner's number of doubles faults\n",
        "- w_svpt: winner's number of serve points\n",
        "- w_1stIn: winner's number of first serves made\n",
        "- w_1stWon: winner's number of first-serve points won\n",
        "- w_2ndWon: winner's number of second-serve points won\n",
        "- w_SvGms: winner's number of serve games\n",
        "- w_bpSaved: winner's number of break points saved\n",
        "- w_bpFaced: winner's number of break points faced\n",
        "\n",
        "l_ace\n",
        "l_df\n",
        "l_svpt\n",
        "l_1stIn\n",
        "l_1stWon\n",
        "l_2ndWon\n",
        "l_SvGms\n",
        "l_bpSaved\n",
        "l_bpFaced\n",
        "\n",
        "winner_rank\n",
        "- winner's ATP or WTA rank, as of the tourney_date, or the most recent ranking date before the tourney_date\n",
        "winner_rank_points\n",
        "- number of ranking points, where available\n",
        "loser_rank\n",
        "loser_rank_points\n",
        "\n",
        "Resource: https://github.com/JeffSackmann/tennis_atp/blob/master/matches_data_dictionary.txt"
      ]
    },
    {
      "cell_type": "markdown",
      "metadata": {
        "id": "c3bWkJXDq1-r"
      },
      "source": [
        "### Cleansing the data"
      ]
    },
    {
      "cell_type": "code",
      "metadata": {
        "id": "x0DdrkBXMzAS",
        "outputId": "99c479d3-fc42-4542-8b9b-d614dd597308",
        "colab": {
          "base_uri": "https://localhost:8080/",
          "height": 473
        }
      },
      "source": [
        "# getting desired columns from the big data frame\n",
        "data = pd.DataFrame()\n",
        "data = df[['tourney_name', 'tourney_level', 'surface', 'draw_size', 'winner_name', 'winner_hand', 'score', 'best_of', 'round', 'loser_name']]\n",
        "data"
      ],
      "execution_count": 29,
      "outputs": [
        {
          "output_type": "execute_result",
          "data": {
            "text/html": [
              "<div>\n",
              "<style scoped>\n",
              "    .dataframe tbody tr th:only-of-type {\n",
              "        vertical-align: middle;\n",
              "    }\n",
              "\n",
              "    .dataframe tbody tr th {\n",
              "        vertical-align: top;\n",
              "    }\n",
              "\n",
              "    .dataframe thead th {\n",
              "        text-align: right;\n",
              "    }\n",
              "</style>\n",
              "<table border=\"1\" class=\"dataframe\">\n",
              "  <thead>\n",
              "    <tr style=\"text-align: right;\">\n",
              "      <th></th>\n",
              "      <th>tourney_name</th>\n",
              "      <th>tourney_level</th>\n",
              "      <th>surface</th>\n",
              "      <th>draw_size</th>\n",
              "      <th>winner_name</th>\n",
              "      <th>winner_hand</th>\n",
              "      <th>score</th>\n",
              "      <th>best_of</th>\n",
              "      <th>round</th>\n",
              "      <th>loser_name</th>\n",
              "    </tr>\n",
              "  </thead>\n",
              "  <tbody>\n",
              "    <tr>\n",
              "      <th>0</th>\n",
              "      <td>Brisbane</td>\n",
              "      <td>A</td>\n",
              "      <td>Hard</td>\n",
              "      <td>32</td>\n",
              "      <td>Viktor Troicki</td>\n",
              "      <td>R</td>\n",
              "      <td>6-4 7-5</td>\n",
              "      <td>3</td>\n",
              "      <td>R32</td>\n",
              "      <td>Yoshihito Nishioka</td>\n",
              "    </tr>\n",
              "    <tr>\n",
              "      <th>1</th>\n",
              "      <td>Brisbane</td>\n",
              "      <td>A</td>\n",
              "      <td>Hard</td>\n",
              "      <td>32</td>\n",
              "      <td>Kyle Edmund</td>\n",
              "      <td>R</td>\n",
              "      <td>7-6(4) 7-6(6)</td>\n",
              "      <td>3</td>\n",
              "      <td>R32</td>\n",
              "      <td>Ernesto Escobedo</td>\n",
              "    </tr>\n",
              "    <tr>\n",
              "      <th>2</th>\n",
              "      <td>Brisbane</td>\n",
              "      <td>A</td>\n",
              "      <td>Hard</td>\n",
              "      <td>32</td>\n",
              "      <td>Lucas Pouille</td>\n",
              "      <td>R</td>\n",
              "      <td>7-6(6) 7-6(4)</td>\n",
              "      <td>3</td>\n",
              "      <td>R32</td>\n",
              "      <td>Gilles Simon</td>\n",
              "    </tr>\n",
              "    <tr>\n",
              "      <th>3</th>\n",
              "      <td>Brisbane</td>\n",
              "      <td>A</td>\n",
              "      <td>Hard</td>\n",
              "      <td>32</td>\n",
              "      <td>Jared Donaldson</td>\n",
              "      <td>R</td>\n",
              "      <td>6-4 6-4</td>\n",
              "      <td>3</td>\n",
              "      <td>R32</td>\n",
              "      <td>Gilles Muller</td>\n",
              "    </tr>\n",
              "    <tr>\n",
              "      <th>4</th>\n",
              "      <td>Brisbane</td>\n",
              "      <td>A</td>\n",
              "      <td>Hard</td>\n",
              "      <td>32</td>\n",
              "      <td>Jordan Thompson</td>\n",
              "      <td>R</td>\n",
              "      <td>6-3 6-2</td>\n",
              "      <td>3</td>\n",
              "      <td>R32</td>\n",
              "      <td>Elias Ymer</td>\n",
              "    </tr>\n",
              "    <tr>\n",
              "      <th>...</th>\n",
              "      <td>...</td>\n",
              "      <td>...</td>\n",
              "      <td>...</td>\n",
              "      <td>...</td>\n",
              "      <td>...</td>\n",
              "      <td>...</td>\n",
              "      <td>...</td>\n",
              "      <td>...</td>\n",
              "      <td>...</td>\n",
              "      <td>...</td>\n",
              "    </tr>\n",
              "    <tr>\n",
              "      <th>2881</th>\n",
              "      <td>Tour Finals</td>\n",
              "      <td>F</td>\n",
              "      <td>Hard</td>\n",
              "      <td>8</td>\n",
              "      <td>Grigor Dimitrov</td>\n",
              "      <td>R</td>\n",
              "      <td>7-5 4-6 6-3</td>\n",
              "      <td>3</td>\n",
              "      <td>F</td>\n",
              "      <td>David Goffin</td>\n",
              "    </tr>\n",
              "    <tr>\n",
              "      <th>2882</th>\n",
              "      <td>Davis Cup WG F: BEL vs FRA</td>\n",
              "      <td>D</td>\n",
              "      <td>Hard</td>\n",
              "      <td>4</td>\n",
              "      <td>David Goffin</td>\n",
              "      <td>R</td>\n",
              "      <td>7-5 6-3 6-1</td>\n",
              "      <td>3</td>\n",
              "      <td>RR</td>\n",
              "      <td>Lucas Pouille</td>\n",
              "    </tr>\n",
              "    <tr>\n",
              "      <th>2883</th>\n",
              "      <td>Davis Cup WG F: BEL vs FRA</td>\n",
              "      <td>D</td>\n",
              "      <td>Hard</td>\n",
              "      <td>4</td>\n",
              "      <td>Jo-Wilfried Tsonga</td>\n",
              "      <td>R</td>\n",
              "      <td>6-3 6-2 6-1</td>\n",
              "      <td>5</td>\n",
              "      <td>RR</td>\n",
              "      <td>Steve Darcis</td>\n",
              "    </tr>\n",
              "    <tr>\n",
              "      <th>2884</th>\n",
              "      <td>Davis Cup WG F: BEL vs FRA</td>\n",
              "      <td>D</td>\n",
              "      <td>Hard</td>\n",
              "      <td>4</td>\n",
              "      <td>David Goffin</td>\n",
              "      <td>R</td>\n",
              "      <td>7-6(5) 6-3 6-2</td>\n",
              "      <td>3</td>\n",
              "      <td>RR</td>\n",
              "      <td>Jo-Wilfried Tsonga</td>\n",
              "    </tr>\n",
              "    <tr>\n",
              "      <th>2885</th>\n",
              "      <td>Davis Cup WG F: BEL vs FRA</td>\n",
              "      <td>D</td>\n",
              "      <td>Hard</td>\n",
              "      <td>4</td>\n",
              "      <td>Lucas Pouille</td>\n",
              "      <td>R</td>\n",
              "      <td>6-3 6-1 6-0</td>\n",
              "      <td>5</td>\n",
              "      <td>RR</td>\n",
              "      <td>Steve Darcis</td>\n",
              "    </tr>\n",
              "  </tbody>\n",
              "</table>\n",
              "<p>2886 rows × 10 columns</p>\n",
              "</div>"
            ],
            "text/plain": [
              "                    tourney_name tourney_level  ... round          loser_name\n",
              "0                       Brisbane             A  ...   R32  Yoshihito Nishioka\n",
              "1                       Brisbane             A  ...   R32    Ernesto Escobedo\n",
              "2                       Brisbane             A  ...   R32        Gilles Simon\n",
              "3                       Brisbane             A  ...   R32       Gilles Muller\n",
              "4                       Brisbane             A  ...   R32          Elias Ymer\n",
              "...                          ...           ...  ...   ...                 ...\n",
              "2881                 Tour Finals             F  ...     F        David Goffin\n",
              "2882  Davis Cup WG F: BEL vs FRA             D  ...    RR       Lucas Pouille\n",
              "2883  Davis Cup WG F: BEL vs FRA             D  ...    RR        Steve Darcis\n",
              "2884  Davis Cup WG F: BEL vs FRA             D  ...    RR  Jo-Wilfried Tsonga\n",
              "2885  Davis Cup WG F: BEL vs FRA             D  ...    RR        Steve Darcis\n",
              "\n",
              "[2886 rows x 10 columns]"
            ]
          },
          "metadata": {
            "tags": []
          },
          "execution_count": 29
        }
      ]
    },
    {
      "cell_type": "code",
      "metadata": {
        "id": "LDeq7jPnzIgu",
        "outputId": "31c14fa1-c57e-482b-f889-cfc85cbae218",
        "colab": {
          "base_uri": "https://localhost:8080/"
        }
      },
      "source": [
        "data['tourney_name'].nunique()"
      ],
      "execution_count": 30,
      "outputs": [
        {
          "output_type": "execute_result",
          "data": {
            "text/plain": [
              "133"
            ]
          },
          "metadata": {
            "tags": []
          },
          "execution_count": 30
        }
      ]
    },
    {
      "cell_type": "code",
      "metadata": {
        "id": "M-kr0_zHdiio"
      },
      "source": [
        "# removing the lines without a valid score. \n",
        "data = data[data['score'] != \"W/O\"]"
      ],
      "execution_count": 31,
      "outputs": []
    },
    {
      "cell_type": "code",
      "metadata": {
        "id": "MSQO_yZ_gLBZ"
      },
      "source": [
        "# removing the lines without a valid score or walkovers\n",
        "data = data[data['score'] != \"Walkover\"]"
      ],
      "execution_count": 32,
      "outputs": []
    },
    {
      "cell_type": "code",
      "metadata": {
        "id": "N2OMjpMit3OL",
        "outputId": "1c36bc55-a26b-487c-c5ea-72b8f2d22013",
        "colab": {
          "base_uri": "https://localhost:8080/",
          "height": 406
        }
      },
      "source": [
        "# I would like to analyze the tournaments which has at least 32 players in their draw\n",
        "data32 = data[data['draw_size'] >= 32]\n",
        "data32"
      ],
      "execution_count": 33,
      "outputs": [
        {
          "output_type": "execute_result",
          "data": {
            "text/html": [
              "<div>\n",
              "<style scoped>\n",
              "    .dataframe tbody tr th:only-of-type {\n",
              "        vertical-align: middle;\n",
              "    }\n",
              "\n",
              "    .dataframe tbody tr th {\n",
              "        vertical-align: top;\n",
              "    }\n",
              "\n",
              "    .dataframe thead th {\n",
              "        text-align: right;\n",
              "    }\n",
              "</style>\n",
              "<table border=\"1\" class=\"dataframe\">\n",
              "  <thead>\n",
              "    <tr style=\"text-align: right;\">\n",
              "      <th></th>\n",
              "      <th>tourney_name</th>\n",
              "      <th>tourney_level</th>\n",
              "      <th>surface</th>\n",
              "      <th>draw_size</th>\n",
              "      <th>winner_name</th>\n",
              "      <th>winner_hand</th>\n",
              "      <th>score</th>\n",
              "      <th>best_of</th>\n",
              "      <th>round</th>\n",
              "      <th>loser_name</th>\n",
              "    </tr>\n",
              "  </thead>\n",
              "  <tbody>\n",
              "    <tr>\n",
              "      <th>0</th>\n",
              "      <td>Brisbane</td>\n",
              "      <td>A</td>\n",
              "      <td>Hard</td>\n",
              "      <td>32</td>\n",
              "      <td>Viktor Troicki</td>\n",
              "      <td>R</td>\n",
              "      <td>6-4 7-5</td>\n",
              "      <td>3</td>\n",
              "      <td>R32</td>\n",
              "      <td>Yoshihito Nishioka</td>\n",
              "    </tr>\n",
              "    <tr>\n",
              "      <th>1</th>\n",
              "      <td>Brisbane</td>\n",
              "      <td>A</td>\n",
              "      <td>Hard</td>\n",
              "      <td>32</td>\n",
              "      <td>Kyle Edmund</td>\n",
              "      <td>R</td>\n",
              "      <td>7-6(4) 7-6(6)</td>\n",
              "      <td>3</td>\n",
              "      <td>R32</td>\n",
              "      <td>Ernesto Escobedo</td>\n",
              "    </tr>\n",
              "    <tr>\n",
              "      <th>2</th>\n",
              "      <td>Brisbane</td>\n",
              "      <td>A</td>\n",
              "      <td>Hard</td>\n",
              "      <td>32</td>\n",
              "      <td>Lucas Pouille</td>\n",
              "      <td>R</td>\n",
              "      <td>7-6(6) 7-6(4)</td>\n",
              "      <td>3</td>\n",
              "      <td>R32</td>\n",
              "      <td>Gilles Simon</td>\n",
              "    </tr>\n",
              "    <tr>\n",
              "      <th>3</th>\n",
              "      <td>Brisbane</td>\n",
              "      <td>A</td>\n",
              "      <td>Hard</td>\n",
              "      <td>32</td>\n",
              "      <td>Jared Donaldson</td>\n",
              "      <td>R</td>\n",
              "      <td>6-4 6-4</td>\n",
              "      <td>3</td>\n",
              "      <td>R32</td>\n",
              "      <td>Gilles Muller</td>\n",
              "    </tr>\n",
              "    <tr>\n",
              "      <th>4</th>\n",
              "      <td>Brisbane</td>\n",
              "      <td>A</td>\n",
              "      <td>Hard</td>\n",
              "      <td>32</td>\n",
              "      <td>Jordan Thompson</td>\n",
              "      <td>R</td>\n",
              "      <td>6-3 6-2</td>\n",
              "      <td>3</td>\n",
              "      <td>R32</td>\n",
              "      <td>Elias Ymer</td>\n",
              "    </tr>\n",
              "    <tr>\n",
              "      <th>...</th>\n",
              "      <td>...</td>\n",
              "      <td>...</td>\n",
              "      <td>...</td>\n",
              "      <td>...</td>\n",
              "      <td>...</td>\n",
              "      <td>...</td>\n",
              "      <td>...</td>\n",
              "      <td>...</td>\n",
              "      <td>...</td>\n",
              "      <td>...</td>\n",
              "    </tr>\n",
              "    <tr>\n",
              "      <th>2861</th>\n",
              "      <td>Paris Masters</td>\n",
              "      <td>M</td>\n",
              "      <td>Hard</td>\n",
              "      <td>64</td>\n",
              "      <td>Julien Benneteau</td>\n",
              "      <td>R</td>\n",
              "      <td>7-6(5) 7-5</td>\n",
              "      <td>3</td>\n",
              "      <td>QF</td>\n",
              "      <td>Marin Cilic</td>\n",
              "    </tr>\n",
              "    <tr>\n",
              "      <th>2862</th>\n",
              "      <td>Paris Masters</td>\n",
              "      <td>M</td>\n",
              "      <td>Hard</td>\n",
              "      <td>64</td>\n",
              "      <td>John Isner</td>\n",
              "      <td>R</td>\n",
              "      <td>6-4 6-7(5) 6-4</td>\n",
              "      <td>3</td>\n",
              "      <td>QF</td>\n",
              "      <td>Juan Martin del Potro</td>\n",
              "    </tr>\n",
              "    <tr>\n",
              "      <th>2864</th>\n",
              "      <td>Paris Masters</td>\n",
              "      <td>M</td>\n",
              "      <td>Hard</td>\n",
              "      <td>64</td>\n",
              "      <td>Jack Sock</td>\n",
              "      <td>R</td>\n",
              "      <td>7-5 6-2</td>\n",
              "      <td>3</td>\n",
              "      <td>SF</td>\n",
              "      <td>Julien Benneteau</td>\n",
              "    </tr>\n",
              "    <tr>\n",
              "      <th>2865</th>\n",
              "      <td>Paris Masters</td>\n",
              "      <td>M</td>\n",
              "      <td>Hard</td>\n",
              "      <td>64</td>\n",
              "      <td>Filip Krajinovic</td>\n",
              "      <td>R</td>\n",
              "      <td>6-4 6-7(2) 7-6(5)</td>\n",
              "      <td>3</td>\n",
              "      <td>SF</td>\n",
              "      <td>John Isner</td>\n",
              "    </tr>\n",
              "    <tr>\n",
              "      <th>2866</th>\n",
              "      <td>Paris Masters</td>\n",
              "      <td>M</td>\n",
              "      <td>Hard</td>\n",
              "      <td>64</td>\n",
              "      <td>Jack Sock</td>\n",
              "      <td>R</td>\n",
              "      <td>5-7 6-4 6-1</td>\n",
              "      <td>3</td>\n",
              "      <td>F</td>\n",
              "      <td>Filip Krajinovic</td>\n",
              "    </tr>\n",
              "  </tbody>\n",
              "</table>\n",
              "<p>2604 rows × 10 columns</p>\n",
              "</div>"
            ],
            "text/plain": [
              "       tourney_name tourney_level surface  ...  best_of round             loser_name\n",
              "0          Brisbane             A    Hard  ...        3   R32     Yoshihito Nishioka\n",
              "1          Brisbane             A    Hard  ...        3   R32       Ernesto Escobedo\n",
              "2          Brisbane             A    Hard  ...        3   R32           Gilles Simon\n",
              "3          Brisbane             A    Hard  ...        3   R32          Gilles Muller\n",
              "4          Brisbane             A    Hard  ...        3   R32             Elias Ymer\n",
              "...             ...           ...     ...  ...      ...   ...                    ...\n",
              "2861  Paris Masters             M    Hard  ...        3    QF            Marin Cilic\n",
              "2862  Paris Masters             M    Hard  ...        3    QF  Juan Martin del Potro\n",
              "2864  Paris Masters             M    Hard  ...        3    SF       Julien Benneteau\n",
              "2865  Paris Masters             M    Hard  ...        3    SF             John Isner\n",
              "2866  Paris Masters             M    Hard  ...        3     F       Filip Krajinovic\n",
              "\n",
              "[2604 rows x 10 columns]"
            ]
          },
          "metadata": {
            "tags": []
          },
          "execution_count": 33
        }
      ]
    },
    {
      "cell_type": "code",
      "metadata": {
        "id": "Io0v-K_PuOwc",
        "outputId": "f44c2836-3b3c-4704-9a7d-21822167115f",
        "colab": {
          "base_uri": "https://localhost:8080/"
        }
      },
      "source": [
        "# list all the tournaments in ATP which has a draw size equal or more than 32 players\n",
        "print(data32[\"tourney_name\"].nunique())\n",
        "data32[\"tourney_name\"].unique()"
      ],
      "execution_count": 34,
      "outputs": [
        {
          "output_type": "stream",
          "text": [
            "66\n"
          ],
          "name": "stdout"
        },
        {
          "output_type": "execute_result",
          "data": {
            "text/plain": [
              "array(['Brisbane', 'Chennai', 'Doha', 'Auckland', 'Sydney',\n",
              "       'Australian Open', 'Montpellier', 'Quito', 'Sofia', 'Buenos Aires',\n",
              "       'Memphis', 'Rotterdam', 'Delray Beach', 'Marseille',\n",
              "       'Rio de Janeiro', 'Acapulco', 'Dubai', 'Sao Paulo',\n",
              "       'Indian Wells Masters', 'Miami Masters', 'Houston', 'Marrakech',\n",
              "       'Monte Carlo Masters', 'Barcelona', 'Budapest', 'Estoril',\n",
              "       'Istanbul', 'Munich', 'Madrid Masters', 'Rome Masters', 'Geneva',\n",
              "       'Lyon', 'Roland Garros', 's Hertogenbosch', 'Stuttgart', 'Halle',\n",
              "       \"Queen's Club\", 'Antalya', 'Eastbourne', 'Wimbledon', 'Bastad',\n",
              "       'Newport', 'Umag', 'Atlanta', 'Gstaad', 'Hamburg', 'Kitzbuhel',\n",
              "       'Los Cabos', 'Washington', 'Canada Masters', 'Cincinnati Masters',\n",
              "       'Winston-Salem', 'US Open', 'Metz', 'St. Petersburg', 'Chengdu',\n",
              "       'Shenzhen', 'Beijing', 'Tokyo', 'Shanghai Masters', 'Antwerp',\n",
              "       'Moscow', 'Stockholm', 'Basel', 'Vienna', 'Paris Masters'],\n",
              "      dtype=object)"
            ]
          },
          "metadata": {
            "tags": []
          },
          "execution_count": 34
        }
      ]
    },
    {
      "cell_type": "markdown",
      "metadata": {
        "id": "JQOjM2nUGU5N"
      },
      "source": [
        "### Surface Analysis"
      ]
    },
    {
      "cell_type": "code",
      "metadata": {
        "id": "2GeM4bGS1B4Y",
        "outputId": "12f89d9d-f158-447e-ea30-03bc32216fc0",
        "colab": {
          "base_uri": "https://localhost:8080/"
        }
      },
      "source": [
        "print(data32['surface'].nunique())\n",
        "print(data32['surface'].unique())\n"
      ],
      "execution_count": 35,
      "outputs": [
        {
          "output_type": "stream",
          "text": [
            "3\n",
            "['Hard' 'Clay' 'Grass']\n",
            "Number of games on 'Hard' surface is: 1478\n",
            "Number of games on 'Clay' surface is: 802\n",
            "Number of games on 'Grass' surface is: 324\n"
          ],
          "name": "stdout"
        }
      ]
    },
    {
      "cell_type": "code",
      "metadata": {
        "id": "DPQc9F6RAnH2"
      },
      "source": [
        "hard = data32[data32.surface == 'Hard'].shape[0]\n",
        "clay =data32[data32.surface == 'Clay'].shape[0]\n",
        "grass = data32[data32.surface == 'Grass'].shape[0]\n"
      ],
      "execution_count": 36,
      "outputs": []
    },
    {
      "cell_type": "code",
      "metadata": {
        "id": "BQui51pmFCbT",
        "outputId": "56f3c6d4-93cf-4757-daae-5f4d985470fd",
        "colab": {
          "base_uri": "https://localhost:8080/",
          "height": 350
        }
      },
      "source": [
        "surfaces = ['Hard', 'Clay', 'Grass']\n",
        "games = [hard, clay, grass]\n",
        "\n",
        "print(\"Number of games on 'Hard' surface is:\" , data32[data32.surface == 'Hard'].shape[0])\n",
        "print(\"Number of games on 'Clay' surface is:\" , data32[data32.surface == 'Clay'].shape[0])\n",
        "print(\"Number of games on 'Grass' surface is:\" , data32[data32.surface == 'Grass'].shape[0])\n",
        "\n",
        "plt.xlabel('surface type')\n",
        "plt.ylabel('Number of games')\n",
        "plt.bar(surfaces, games)\n",
        "\n"
      ],
      "execution_count": 90,
      "outputs": [
        {
          "output_type": "stream",
          "text": [
            "Number of games on 'Hard' surface is: 1478\n",
            "Number of games on 'Clay' surface is: 802\n",
            "Number of games on 'Grass' surface is: 324\n"
          ],
          "name": "stdout"
        },
        {
          "output_type": "execute_result",
          "data": {
            "text/plain": [
              "<BarContainer object of 3 artists>"
            ]
          },
          "metadata": {
            "tags": []
          },
          "execution_count": 90
        },
        {
          "output_type": "display_data",
          "data": {
            "image/png": "[encoded data removed]",
            "text/plain": [
              "<Figure size 432x288 with 1 Axes>"
            ]
          },
          "metadata": {
            "tags": [],
            "needs_background": "light"
          }
        }
      ]
    },
    {
      "cell_type": "markdown",
      "metadata": {
        "id": "pp6ERQpzGZxj"
      },
      "source": [
        "### Player Analysis"
      ]
    },
    {
      "cell_type": "code",
      "metadata": {
        "id": "BUSN2tukGQFU",
        "outputId": "ce0fe3a9-aef5-4c75-b090-d489715860e1",
        "colab": {
          "base_uri": "https://localhost:8080/"
        }
      },
      "source": [
        "print(\"There are\", data32['winner_name'].nunique(), \"different winners.\")\n",
        "winners32 = data32['winner_name'].value_counts() # displaying the number of matches each player won\n",
        "winners32.head(10) # top 10 players per number of winning a match in 2017"
      ],
      "execution_count": 38,
      "outputs": [
        {
          "output_type": "stream",
          "text": [
            "There are 214 different winners.\n"
          ],
          "name": "stdout"
        },
        {
          "output_type": "execute_result",
          "data": {
            "text/plain": [
              "Rafael Nadal             67\n",
              "Alexander Zverev         53\n",
              "David Goffin             50\n",
              "Roger Federer            49\n",
              "Dominic Thiem            46\n",
              "Roberto Bautista Agut    46\n",
              "Grigor Dimitrov          44\n",
              "Marin Cilic              42\n",
              "Juan Martin del Potro    38\n",
              "Diego Schwartzman        38\n",
              "Name: winner_name, dtype: int64"
            ]
          },
          "metadata": {
            "tags": []
          },
          "execution_count": 38
        }
      ]
    },
    {
      "cell_type": "code",
      "metadata": {
        "id": "kxKGS8xsJhMb",
        "outputId": "dbcf52d8-7dc6-43cc-985e-37e7053bc1b1",
        "colab": {
          "base_uri": "https://localhost:8080/",
          "height": 507
        }
      },
      "source": [
        "plt.ylabel('Number of wins')\n",
        "plt.xlabel('Player name')\n",
        "winners32.head(10).plot.bar(figsize=(10,6)) \n"
      ],
      "execution_count": 39,
      "outputs": [
        {
          "output_type": "execute_result",
          "data": {
            "text/plain": [
              "<matplotlib.axes._subplots.AxesSubplot at 0x7f6ff3997c50>"
            ]
          },
          "metadata": {
            "tags": []
          },
          "execution_count": 39
        },
        {
          "output_type": "display_data",
          "data": {
            "image/png": "[encoded data removed]",
            "text/plain": [
              "<Figure size 720x432 with 1 Axes>"
            ]
          },
          "metadata": {
            "tags": [],
            "needs_background": "light"
          }
        }
      ]
    },
    {
      "cell_type": "markdown",
      "metadata": {
        "id": "TElTHpjNRXzD"
      },
      "source": [
        "#### Player Analysis for Grand Slam Tournaments"
      ]
    },
    {
      "cell_type": "code",
      "metadata": {
        "id": "jQW7CxvHQlN5",
        "outputId": "baa92743-47e3-4204-dc79-42e0ee80c359",
        "colab": {
          "base_uri": "https://localhost:8080/",
          "height": 523
        }
      },
      "source": [
        "data_grandslam = data[data['tourney_level'] == \"G\"] # creating new data frame only for grandslam tournaments\n",
        "data_grandslam"
      ],
      "execution_count": 40,
      "outputs": [
        {
          "output_type": "execute_result",
          "data": {
            "text/html": [
              "<div>\n",
              "<style scoped>\n",
              "    .dataframe tbody tr th:only-of-type {\n",
              "        vertical-align: middle;\n",
              "    }\n",
              "\n",
              "    .dataframe tbody tr th {\n",
              "        vertical-align: top;\n",
              "    }\n",
              "\n",
              "    .dataframe thead th {\n",
              "        text-align: right;\n",
              "    }\n",
              "</style>\n",
              "<table border=\"1\" class=\"dataframe\">\n",
              "  <thead>\n",
              "    <tr style=\"text-align: right;\">\n",
              "      <th></th>\n",
              "      <th>tourney_name</th>\n",
              "      <th>tourney_level</th>\n",
              "      <th>surface</th>\n",
              "      <th>draw_size</th>\n",
              "      <th>winner_name</th>\n",
              "      <th>winner_hand</th>\n",
              "      <th>score</th>\n",
              "      <th>best_of</th>\n",
              "      <th>round</th>\n",
              "      <th>loser_name</th>\n",
              "    </tr>\n",
              "  </thead>\n",
              "  <tbody>\n",
              "    <tr>\n",
              "      <th>139</th>\n",
              "      <td>Australian Open</td>\n",
              "      <td>G</td>\n",
              "      <td>Hard</td>\n",
              "      <td>128</td>\n",
              "      <td>Andy Murray</td>\n",
              "      <td>R</td>\n",
              "      <td>7-5 7-6(5) 6-2</td>\n",
              "      <td>5</td>\n",
              "      <td>R128</td>\n",
              "      <td>Illya Marchenko</td>\n",
              "    </tr>\n",
              "    <tr>\n",
              "      <th>140</th>\n",
              "      <td>Australian Open</td>\n",
              "      <td>G</td>\n",
              "      <td>Hard</td>\n",
              "      <td>128</td>\n",
              "      <td>Andrey Rublev</td>\n",
              "      <td>R</td>\n",
              "      <td>4-6 6-3 7-6(0) 6-3</td>\n",
              "      <td>5</td>\n",
              "      <td>R128</td>\n",
              "      <td>Yen Hsun Lu</td>\n",
              "    </tr>\n",
              "    <tr>\n",
              "      <th>141</th>\n",
              "      <td>Australian Open</td>\n",
              "      <td>G</td>\n",
              "      <td>Hard</td>\n",
              "      <td>128</td>\n",
              "      <td>Alex De Minaur</td>\n",
              "      <td>R</td>\n",
              "      <td>5-7 6-3 2-6 7-6(2) 6-1</td>\n",
              "      <td>5</td>\n",
              "      <td>R128</td>\n",
              "      <td>Gerald Melzer</td>\n",
              "    </tr>\n",
              "    <tr>\n",
              "      <th>142</th>\n",
              "      <td>Australian Open</td>\n",
              "      <td>G</td>\n",
              "      <td>Hard</td>\n",
              "      <td>128</td>\n",
              "      <td>Sam Querrey</td>\n",
              "      <td>R</td>\n",
              "      <td>6-7(10) 7-6(4) 6-3 6-4</td>\n",
              "      <td>5</td>\n",
              "      <td>R128</td>\n",
              "      <td>Quentin Halys</td>\n",
              "    </tr>\n",
              "    <tr>\n",
              "      <th>143</th>\n",
              "      <td>Australian Open</td>\n",
              "      <td>G</td>\n",
              "      <td>Hard</td>\n",
              "      <td>128</td>\n",
              "      <td>John Isner</td>\n",
              "      <td>R</td>\n",
              "      <td>6-3 6-4 6-7(5) 6-1</td>\n",
              "      <td>5</td>\n",
              "      <td>R128</td>\n",
              "      <td>Konstantin Kravchuk</td>\n",
              "    </tr>\n",
              "    <tr>\n",
              "      <th>...</th>\n",
              "      <td>...</td>\n",
              "      <td>...</td>\n",
              "      <td>...</td>\n",
              "      <td>...</td>\n",
              "      <td>...</td>\n",
              "      <td>...</td>\n",
              "      <td>...</td>\n",
              "      <td>...</td>\n",
              "      <td>...</td>\n",
              "      <td>...</td>\n",
              "    </tr>\n",
              "    <tr>\n",
              "      <th>2395</th>\n",
              "      <td>US Open</td>\n",
              "      <td>G</td>\n",
              "      <td>Hard</td>\n",
              "      <td>128</td>\n",
              "      <td>Kevin Anderson</td>\n",
              "      <td>R</td>\n",
              "      <td>7-6(5) 6-7(9) 6-3 7-6(7)</td>\n",
              "      <td>5</td>\n",
              "      <td>QF</td>\n",
              "      <td>Sam Querrey</td>\n",
              "    </tr>\n",
              "    <tr>\n",
              "      <th>2396</th>\n",
              "      <td>US Open</td>\n",
              "      <td>G</td>\n",
              "      <td>Hard</td>\n",
              "      <td>128</td>\n",
              "      <td>Pablo Carreno Busta</td>\n",
              "      <td>R</td>\n",
              "      <td>6-4 6-4 6-2</td>\n",
              "      <td>5</td>\n",
              "      <td>QF</td>\n",
              "      <td>Diego Schwartzman</td>\n",
              "    </tr>\n",
              "    <tr>\n",
              "      <th>2397</th>\n",
              "      <td>US Open</td>\n",
              "      <td>G</td>\n",
              "      <td>Hard</td>\n",
              "      <td>128</td>\n",
              "      <td>Rafael Nadal</td>\n",
              "      <td>L</td>\n",
              "      <td>4-6 6-0 6-3 6-2</td>\n",
              "      <td>5</td>\n",
              "      <td>SF</td>\n",
              "      <td>Juan Martin del Potro</td>\n",
              "    </tr>\n",
              "    <tr>\n",
              "      <th>2398</th>\n",
              "      <td>US Open</td>\n",
              "      <td>G</td>\n",
              "      <td>Hard</td>\n",
              "      <td>128</td>\n",
              "      <td>Kevin Anderson</td>\n",
              "      <td>R</td>\n",
              "      <td>4-6 7-5 6-3 6-4</td>\n",
              "      <td>5</td>\n",
              "      <td>SF</td>\n",
              "      <td>Pablo Carreno Busta</td>\n",
              "    </tr>\n",
              "    <tr>\n",
              "      <th>2399</th>\n",
              "      <td>US Open</td>\n",
              "      <td>G</td>\n",
              "      <td>Hard</td>\n",
              "      <td>128</td>\n",
              "      <td>Rafael Nadal</td>\n",
              "      <td>L</td>\n",
              "      <td>6-3 6-3 6-4</td>\n",
              "      <td>5</td>\n",
              "      <td>F</td>\n",
              "      <td>Kevin Anderson</td>\n",
              "    </tr>\n",
              "  </tbody>\n",
              "</table>\n",
              "<p>508 rows × 10 columns</p>\n",
              "</div>"
            ],
            "text/plain": [
              "         tourney_name tourney_level  ... round             loser_name\n",
              "139   Australian Open             G  ...  R128        Illya Marchenko\n",
              "140   Australian Open             G  ...  R128            Yen Hsun Lu\n",
              "141   Australian Open             G  ...  R128          Gerald Melzer\n",
              "142   Australian Open             G  ...  R128          Quentin Halys\n",
              "143   Australian Open             G  ...  R128    Konstantin Kravchuk\n",
              "...               ...           ...  ...   ...                    ...\n",
              "2395          US Open             G  ...    QF            Sam Querrey\n",
              "2396          US Open             G  ...    QF      Diego Schwartzman\n",
              "2397          US Open             G  ...    SF  Juan Martin del Potro\n",
              "2398          US Open             G  ...    SF    Pablo Carreno Busta\n",
              "2399          US Open             G  ...     F         Kevin Anderson\n",
              "\n",
              "[508 rows x 10 columns]"
            ]
          },
          "metadata": {
            "tags": []
          },
          "execution_count": 40
        }
      ]
    },
    {
      "cell_type": "code",
      "metadata": {
        "id": "3G4kNWR7ReLF",
        "outputId": "2000f347-d106-4ddf-d290-2c8dc06625d3",
        "colab": {
          "base_uri": "https://localhost:8080/"
        }
      },
      "source": [
        "gs_winners = data_grandslam['winner_name'].value_counts()\n",
        "gs_winners"
      ],
      "execution_count": 41,
      "outputs": [
        {
          "output_type": "execute_result",
          "data": {
            "text/plain": [
              "Rafael Nadal                23\n",
              "Roger Federer               18\n",
              "Dominic Thiem               14\n",
              "Marin Cilic                 13\n",
              "Andy Murray                 12\n",
              "                            ..\n",
              "Nicolas Almagro              1\n",
              "Radek Stepanek               1\n",
              "Adrian Menendez Maceiras     1\n",
              "Cameron Norrie               1\n",
              "Nicolas Kicker               1\n",
              "Name: winner_name, Length: 127, dtype: int64"
            ]
          },
          "metadata": {
            "tags": []
          },
          "execution_count": 41
        }
      ]
    },
    {
      "cell_type": "code",
      "metadata": {
        "id": "jRFiGDQRSqzd",
        "outputId": "5167cb3a-cc9b-4811-afd5-1afb89db7d49",
        "colab": {
          "base_uri": "https://localhost:8080/",
          "height": 505
        }
      },
      "source": [
        "plt.ylabel('Number of Grand Slam matches wins')\n",
        "plt.xlabel('Player name')\n",
        "gs_winners.head(10).plot.bar(figsize=(10,6)) "
      ],
      "execution_count": 42,
      "outputs": [
        {
          "output_type": "execute_result",
          "data": {
            "text/plain": [
              "<matplotlib.axes._subplots.AxesSubplot at 0x7f6ff3913e10>"
            ]
          },
          "metadata": {
            "tags": []
          },
          "execution_count": 42
        },
        {
          "output_type": "display_data",
          "data": {
            "image/png": "[encoded data removed]",
            "text/plain": [
              "<Figure size 720x432 with 1 Axes>"
            ]
          },
          "metadata": {
            "tags": [],
            "needs_background": "light"
          }
        }
      ]
    },
    {
      "cell_type": "markdown",
      "metadata": {
        "id": "hfjFaDPeTFuk"
      },
      "source": [
        "### First Set Winner and Match Winner"
      ]
    },
    {
      "cell_type": "code",
      "metadata": {
        "id": "kHU74aYCTLVb",
        "outputId": "4a140b8f-4e27-434b-bc86-11607beb3190",
        "colab": {
          "base_uri": "https://localhost:8080/"
        }
      },
      "source": [
        "# displaying only score column\n",
        "print(data32['score'])\n"
      ],
      "execution_count": 43,
      "outputs": [
        {
          "output_type": "stream",
          "text": [
            "0                 6-4 7-5\n",
            "1           7-6(4) 7-6(6)\n",
            "2           7-6(6) 7-6(4)\n",
            "3                 6-4 6-4\n",
            "4                 6-3 6-2\n",
            "              ...        \n",
            "2861           7-6(5) 7-5\n",
            "2862       6-4 6-7(5) 6-4\n",
            "2864              7-5 6-2\n",
            "2865    6-4 6-7(2) 7-6(5)\n",
            "2866          5-7 6-4 6-1\n",
            "Name: score, Length: 2604, dtype: object\n"
          ],
          "name": "stdout"
        }
      ]
    },
    {
      "cell_type": "code",
      "metadata": {
        "id": "FJgiSyrCu6CL",
        "outputId": "dd4300f3-c532-4429-e1d7-978f804ff243",
        "colab": {
          "base_uri": "https://localhost:8080/",
          "height": 35
        }
      },
      "source": [
        "# displaying the first element of the pandas series in data32['score']\n",
        "data32['score'][0]"
      ],
      "execution_count": 44,
      "outputs": [
        {
          "output_type": "execute_result",
          "data": {
            "application/vnd.google.colaboratory.intrinsic+json": {
              "type": "string"
            },
            "text/plain": [
              "'6-4 7-5'"
            ]
          },
          "metadata": {
            "tags": []
          },
          "execution_count": 44
        }
      ]
    },
    {
      "cell_type": "code",
      "metadata": {
        "id": "53FXSsQ15gKf",
        "outputId": "9ab78d5a-9926-467d-d195-30f4f33ede4a",
        "colab": {
          "base_uri": "https://localhost:8080/"
        }
      },
      "source": [
        "# trying the evaluation for first set winner and match winner\n",
        "for fset in data32['score'].head(10):\n",
        "    print(fset)\n",
        "    print(int(fset[0]) > int(fset[2]))"
      ],
      "execution_count": 45,
      "outputs": [
        {
          "output_type": "stream",
          "text": [
            "6-4 7-5\n",
            "True\n",
            "7-6(4) 7-6(6)\n",
            "True\n",
            "7-6(6) 7-6(4)\n",
            "True\n",
            "6-4 6-4\n",
            "True\n",
            "6-3 6-2\n",
            "True\n",
            "6-3 7-5\n",
            "True\n",
            "6-2 6-3\n",
            "True\n",
            "4-6 6-3 6-4\n",
            "False\n",
            "6-3 5-7 7-5\n",
            "True\n",
            "6-3 6-3\n",
            "True\n"
          ],
          "name": "stdout"
        }
      ]
    },
    {
      "cell_type": "code",
      "metadata": {
        "id": "cNxoegtb-UsB",
        "outputId": "42d91bb3-b307-42a0-d654-bb86dca3fd8c",
        "colab": {
          "base_uri": "https://localhost:8080/"
        }
      },
      "source": [
        "# I marked the matches won by first set winner as '1' and other matches as '0'\n",
        "# And I added those values into a new list\n",
        "set_and_match_winner32 = []\n",
        "for fset in data32['score']:\n",
        "    if int(fset[0]) > int(fset[2]):\n",
        "        set_and_match_winner32.append(1)\n",
        "    else:\n",
        "        set_and_match_winner32.append(0)\n",
        "\n",
        "len(set_and_match_winner32)"
      ],
      "execution_count": 46,
      "outputs": [
        {
          "output_type": "execute_result",
          "data": {
            "text/plain": [
              "2604"
            ]
          },
          "metadata": {
            "tags": []
          },
          "execution_count": 46
        }
      ]
    },
    {
      "cell_type": "code",
      "metadata": {
        "id": "ij4nG5bjNYki",
        "outputId": "90162b3e-00d3-44a3-b521-12b2f63a451a",
        "colab": {
          "base_uri": "https://localhost:8080/",
          "height": 406
        }
      },
      "source": [
        "# since both winner_ids and winner_names are unique we can remove ids from our dataframe\n",
        "data32 = data32[['tourney_name', 'tourney_level', 'surface', 'draw_size', 'winner_name', 'winner_hand', 'score', 'best_of', 'round', 'loser_name']]\n",
        "data32"
      ],
      "execution_count": 47,
      "outputs": [
        {
          "output_type": "execute_result",
          "data": {
            "text/html": [
              "<div>\n",
              "<style scoped>\n",
              "    .dataframe tbody tr th:only-of-type {\n",
              "        vertical-align: middle;\n",
              "    }\n",
              "\n",
              "    .dataframe tbody tr th {\n",
              "        vertical-align: top;\n",
              "    }\n",
              "\n",
              "    .dataframe thead th {\n",
              "        text-align: right;\n",
              "    }\n",
              "</style>\n",
              "<table border=\"1\" class=\"dataframe\">\n",
              "  <thead>\n",
              "    <tr style=\"text-align: right;\">\n",
              "      <th></th>\n",
              "      <th>tourney_name</th>\n",
              "      <th>tourney_level</th>\n",
              "      <th>surface</th>\n",
              "      <th>draw_size</th>\n",
              "      <th>winner_name</th>\n",
              "      <th>winner_hand</th>\n",
              "      <th>score</th>\n",
              "      <th>best_of</th>\n",
              "      <th>round</th>\n",
              "      <th>loser_name</th>\n",
              "    </tr>\n",
              "  </thead>\n",
              "  <tbody>\n",
              "    <tr>\n",
              "      <th>0</th>\n",
              "      <td>Brisbane</td>\n",
              "      <td>A</td>\n",
              "      <td>Hard</td>\n",
              "      <td>32</td>\n",
              "      <td>Viktor Troicki</td>\n",
              "      <td>R</td>\n",
              "      <td>6-4 7-5</td>\n",
              "      <td>3</td>\n",
              "      <td>R32</td>\n",
              "      <td>Yoshihito Nishioka</td>\n",
              "    </tr>\n",
              "    <tr>\n",
              "      <th>1</th>\n",
              "      <td>Brisbane</td>\n",
              "      <td>A</td>\n",
              "      <td>Hard</td>\n",
              "      <td>32</td>\n",
              "      <td>Kyle Edmund</td>\n",
              "      <td>R</td>\n",
              "      <td>7-6(4) 7-6(6)</td>\n",
              "      <td>3</td>\n",
              "      <td>R32</td>\n",
              "      <td>Ernesto Escobedo</td>\n",
              "    </tr>\n",
              "    <tr>\n",
              "      <th>2</th>\n",
              "      <td>Brisbane</td>\n",
              "      <td>A</td>\n",
              "      <td>Hard</td>\n",
              "      <td>32</td>\n",
              "      <td>Lucas Pouille</td>\n",
              "      <td>R</td>\n",
              "      <td>7-6(6) 7-6(4)</td>\n",
              "      <td>3</td>\n",
              "      <td>R32</td>\n",
              "      <td>Gilles Simon</td>\n",
              "    </tr>\n",
              "    <tr>\n",
              "      <th>3</th>\n",
              "      <td>Brisbane</td>\n",
              "      <td>A</td>\n",
              "      <td>Hard</td>\n",
              "      <td>32</td>\n",
              "      <td>Jared Donaldson</td>\n",
              "      <td>R</td>\n",
              "      <td>6-4 6-4</td>\n",
              "      <td>3</td>\n",
              "      <td>R32</td>\n",
              "      <td>Gilles Muller</td>\n",
              "    </tr>\n",
              "    <tr>\n",
              "      <th>4</th>\n",
              "      <td>Brisbane</td>\n",
              "      <td>A</td>\n",
              "      <td>Hard</td>\n",
              "      <td>32</td>\n",
              "      <td>Jordan Thompson</td>\n",
              "      <td>R</td>\n",
              "      <td>6-3 6-2</td>\n",
              "      <td>3</td>\n",
              "      <td>R32</td>\n",
              "      <td>Elias Ymer</td>\n",
              "    </tr>\n",
              "    <tr>\n",
              "      <th>...</th>\n",
              "      <td>...</td>\n",
              "      <td>...</td>\n",
              "      <td>...</td>\n",
              "      <td>...</td>\n",
              "      <td>...</td>\n",
              "      <td>...</td>\n",
              "      <td>...</td>\n",
              "      <td>...</td>\n",
              "      <td>...</td>\n",
              "      <td>...</td>\n",
              "    </tr>\n",
              "    <tr>\n",
              "      <th>2861</th>\n",
              "      <td>Paris Masters</td>\n",
              "      <td>M</td>\n",
              "      <td>Hard</td>\n",
              "      <td>64</td>\n",
              "      <td>Julien Benneteau</td>\n",
              "      <td>R</td>\n",
              "      <td>7-6(5) 7-5</td>\n",
              "      <td>3</td>\n",
              "      <td>QF</td>\n",
              "      <td>Marin Cilic</td>\n",
              "    </tr>\n",
              "    <tr>\n",
              "      <th>2862</th>\n",
              "      <td>Paris Masters</td>\n",
              "      <td>M</td>\n",
              "      <td>Hard</td>\n",
              "      <td>64</td>\n",
              "      <td>John Isner</td>\n",
              "      <td>R</td>\n",
              "      <td>6-4 6-7(5) 6-4</td>\n",
              "      <td>3</td>\n",
              "      <td>QF</td>\n",
              "      <td>Juan Martin del Potro</td>\n",
              "    </tr>\n",
              "    <tr>\n",
              "      <th>2864</th>\n",
              "      <td>Paris Masters</td>\n",
              "      <td>M</td>\n",
              "      <td>Hard</td>\n",
              "      <td>64</td>\n",
              "      <td>Jack Sock</td>\n",
              "      <td>R</td>\n",
              "      <td>7-5 6-2</td>\n",
              "      <td>3</td>\n",
              "      <td>SF</td>\n",
              "      <td>Julien Benneteau</td>\n",
              "    </tr>\n",
              "    <tr>\n",
              "      <th>2865</th>\n",
              "      <td>Paris Masters</td>\n",
              "      <td>M</td>\n",
              "      <td>Hard</td>\n",
              "      <td>64</td>\n",
              "      <td>Filip Krajinovic</td>\n",
              "      <td>R</td>\n",
              "      <td>6-4 6-7(2) 7-6(5)</td>\n",
              "      <td>3</td>\n",
              "      <td>SF</td>\n",
              "      <td>John Isner</td>\n",
              "    </tr>\n",
              "    <tr>\n",
              "      <th>2866</th>\n",
              "      <td>Paris Masters</td>\n",
              "      <td>M</td>\n",
              "      <td>Hard</td>\n",
              "      <td>64</td>\n",
              "      <td>Jack Sock</td>\n",
              "      <td>R</td>\n",
              "      <td>5-7 6-4 6-1</td>\n",
              "      <td>3</td>\n",
              "      <td>F</td>\n",
              "      <td>Filip Krajinovic</td>\n",
              "    </tr>\n",
              "  </tbody>\n",
              "</table>\n",
              "<p>2604 rows × 10 columns</p>\n",
              "</div>"
            ],
            "text/plain": [
              "       tourney_name tourney_level surface  ...  best_of round             loser_name\n",
              "0          Brisbane             A    Hard  ...        3   R32     Yoshihito Nishioka\n",
              "1          Brisbane             A    Hard  ...        3   R32       Ernesto Escobedo\n",
              "2          Brisbane             A    Hard  ...        3   R32           Gilles Simon\n",
              "3          Brisbane             A    Hard  ...        3   R32          Gilles Muller\n",
              "4          Brisbane             A    Hard  ...        3   R32             Elias Ymer\n",
              "...             ...           ...     ...  ...      ...   ...                    ...\n",
              "2861  Paris Masters             M    Hard  ...        3    QF            Marin Cilic\n",
              "2862  Paris Masters             M    Hard  ...        3    QF  Juan Martin del Potro\n",
              "2864  Paris Masters             M    Hard  ...        3    SF       Julien Benneteau\n",
              "2865  Paris Masters             M    Hard  ...        3    SF             John Isner\n",
              "2866  Paris Masters             M    Hard  ...        3     F       Filip Krajinovic\n",
              "\n",
              "[2604 rows x 10 columns]"
            ]
          },
          "metadata": {
            "tags": []
          },
          "execution_count": 47
        }
      ]
    },
    {
      "cell_type": "code",
      "metadata": {
        "id": "Eyt7R5HK-81I",
        "outputId": "db3cc0f4-38d6-4ea4-9ecd-4a35cddf3cdd",
        "colab": {
          "base_uri": "https://localhost:8080/",
          "height": 590
        }
      },
      "source": [
        "# adding the new list into our dataframe\n",
        "data32['set_and_match_winner32'] = set_and_match_winner32\n",
        "data32"
      ],
      "execution_count": 48,
      "outputs": [
        {
          "output_type": "execute_result",
          "data": {
            "text/html": [
              "<div>\n",
              "<style scoped>\n",
              "    .dataframe tbody tr th:only-of-type {\n",
              "        vertical-align: middle;\n",
              "    }\n",
              "\n",
              "    .dataframe tbody tr th {\n",
              "        vertical-align: top;\n",
              "    }\n",
              "\n",
              "    .dataframe thead th {\n",
              "        text-align: right;\n",
              "    }\n",
              "</style>\n",
              "<table border=\"1\" class=\"dataframe\">\n",
              "  <thead>\n",
              "    <tr style=\"text-align: right;\">\n",
              "      <th></th>\n",
              "      <th>tourney_name</th>\n",
              "      <th>tourney_level</th>\n",
              "      <th>surface</th>\n",
              "      <th>draw_size</th>\n",
              "      <th>winner_name</th>\n",
              "      <th>winner_hand</th>\n",
              "      <th>score</th>\n",
              "      <th>best_of</th>\n",
              "      <th>round</th>\n",
              "      <th>loser_name</th>\n",
              "      <th>set_and_match_winner32</th>\n",
              "    </tr>\n",
              "  </thead>\n",
              "  <tbody>\n",
              "    <tr>\n",
              "      <th>0</th>\n",
              "      <td>Brisbane</td>\n",
              "      <td>A</td>\n",
              "      <td>Hard</td>\n",
              "      <td>32</td>\n",
              "      <td>Viktor Troicki</td>\n",
              "      <td>R</td>\n",
              "      <td>6-4 7-5</td>\n",
              "      <td>3</td>\n",
              "      <td>R32</td>\n",
              "      <td>Yoshihito Nishioka</td>\n",
              "      <td>1</td>\n",
              "    </tr>\n",
              "    <tr>\n",
              "      <th>1</th>\n",
              "      <td>Brisbane</td>\n",
              "      <td>A</td>\n",
              "      <td>Hard</td>\n",
              "      <td>32</td>\n",
              "      <td>Kyle Edmund</td>\n",
              "      <td>R</td>\n",
              "      <td>7-6(4) 7-6(6)</td>\n",
              "      <td>3</td>\n",
              "      <td>R32</td>\n",
              "      <td>Ernesto Escobedo</td>\n",
              "      <td>1</td>\n",
              "    </tr>\n",
              "    <tr>\n",
              "      <th>2</th>\n",
              "      <td>Brisbane</td>\n",
              "      <td>A</td>\n",
              "      <td>Hard</td>\n",
              "      <td>32</td>\n",
              "      <td>Lucas Pouille</td>\n",
              "      <td>R</td>\n",
              "      <td>7-6(6) 7-6(4)</td>\n",
              "      <td>3</td>\n",
              "      <td>R32</td>\n",
              "      <td>Gilles Simon</td>\n",
              "      <td>1</td>\n",
              "    </tr>\n",
              "    <tr>\n",
              "      <th>3</th>\n",
              "      <td>Brisbane</td>\n",
              "      <td>A</td>\n",
              "      <td>Hard</td>\n",
              "      <td>32</td>\n",
              "      <td>Jared Donaldson</td>\n",
              "      <td>R</td>\n",
              "      <td>6-4 6-4</td>\n",
              "      <td>3</td>\n",
              "      <td>R32</td>\n",
              "      <td>Gilles Muller</td>\n",
              "      <td>1</td>\n",
              "    </tr>\n",
              "    <tr>\n",
              "      <th>4</th>\n",
              "      <td>Brisbane</td>\n",
              "      <td>A</td>\n",
              "      <td>Hard</td>\n",
              "      <td>32</td>\n",
              "      <td>Jordan Thompson</td>\n",
              "      <td>R</td>\n",
              "      <td>6-3 6-2</td>\n",
              "      <td>3</td>\n",
              "      <td>R32</td>\n",
              "      <td>Elias Ymer</td>\n",
              "      <td>1</td>\n",
              "    </tr>\n",
              "    <tr>\n",
              "      <th>...</th>\n",
              "      <td>...</td>\n",
              "      <td>...</td>\n",
              "      <td>...</td>\n",
              "      <td>...</td>\n",
              "      <td>...</td>\n",
              "      <td>...</td>\n",
              "      <td>...</td>\n",
              "      <td>...</td>\n",
              "      <td>...</td>\n",
              "      <td>...</td>\n",
              "      <td>...</td>\n",
              "    </tr>\n",
              "    <tr>\n",
              "      <th>2861</th>\n",
              "      <td>Paris Masters</td>\n",
              "      <td>M</td>\n",
              "      <td>Hard</td>\n",
              "      <td>64</td>\n",
              "      <td>Julien Benneteau</td>\n",
              "      <td>R</td>\n",
              "      <td>7-6(5) 7-5</td>\n",
              "      <td>3</td>\n",
              "      <td>QF</td>\n",
              "      <td>Marin Cilic</td>\n",
              "      <td>1</td>\n",
              "    </tr>\n",
              "    <tr>\n",
              "      <th>2862</th>\n",
              "      <td>Paris Masters</td>\n",
              "      <td>M</td>\n",
              "      <td>Hard</td>\n",
              "      <td>64</td>\n",
              "      <td>John Isner</td>\n",
              "      <td>R</td>\n",
              "      <td>6-4 6-7(5) 6-4</td>\n",
              "      <td>3</td>\n",
              "      <td>QF</td>\n",
              "      <td>Juan Martin del Potro</td>\n",
              "      <td>1</td>\n",
              "    </tr>\n",
              "    <tr>\n",
              "      <th>2864</th>\n",
              "      <td>Paris Masters</td>\n",
              "      <td>M</td>\n",
              "      <td>Hard</td>\n",
              "      <td>64</td>\n",
              "      <td>Jack Sock</td>\n",
              "      <td>R</td>\n",
              "      <td>7-5 6-2</td>\n",
              "      <td>3</td>\n",
              "      <td>SF</td>\n",
              "      <td>Julien Benneteau</td>\n",
              "      <td>1</td>\n",
              "    </tr>\n",
              "    <tr>\n",
              "      <th>2865</th>\n",
              "      <td>Paris Masters</td>\n",
              "      <td>M</td>\n",
              "      <td>Hard</td>\n",
              "      <td>64</td>\n",
              "      <td>Filip Krajinovic</td>\n",
              "      <td>R</td>\n",
              "      <td>6-4 6-7(2) 7-6(5)</td>\n",
              "      <td>3</td>\n",
              "      <td>SF</td>\n",
              "      <td>John Isner</td>\n",
              "      <td>1</td>\n",
              "    </tr>\n",
              "    <tr>\n",
              "      <th>2866</th>\n",
              "      <td>Paris Masters</td>\n",
              "      <td>M</td>\n",
              "      <td>Hard</td>\n",
              "      <td>64</td>\n",
              "      <td>Jack Sock</td>\n",
              "      <td>R</td>\n",
              "      <td>5-7 6-4 6-1</td>\n",
              "      <td>3</td>\n",
              "      <td>F</td>\n",
              "      <td>Filip Krajinovic</td>\n",
              "      <td>0</td>\n",
              "    </tr>\n",
              "  </tbody>\n",
              "</table>\n",
              "<p>2604 rows × 11 columns</p>\n",
              "</div>"
            ],
            "text/plain": [
              "       tourney_name  ... set_and_match_winner32\n",
              "0          Brisbane  ...                      1\n",
              "1          Brisbane  ...                      1\n",
              "2          Brisbane  ...                      1\n",
              "3          Brisbane  ...                      1\n",
              "4          Brisbane  ...                      1\n",
              "...             ...  ...                    ...\n",
              "2861  Paris Masters  ...                      1\n",
              "2862  Paris Masters  ...                      1\n",
              "2864  Paris Masters  ...                      1\n",
              "2865  Paris Masters  ...                      1\n",
              "2866  Paris Masters  ...                      0\n",
              "\n",
              "[2604 rows x 11 columns]"
            ]
          },
          "metadata": {
            "tags": []
          },
          "execution_count": 48
        }
      ]
    },
    {
      "cell_type": "code",
      "metadata": {
        "id": "uQRHf2n2vMBg",
        "outputId": "a2829323-92e7-45e8-a274-a32a5a19c6ec",
        "colab": {
          "base_uri": "https://localhost:8080/",
          "height": 35
        }
      },
      "source": [
        "data32['score'][0].split()[0] # just a display for myself"
      ],
      "execution_count": 49,
      "outputs": [
        {
          "output_type": "execute_result",
          "data": {
            "application/vnd.google.colaboratory.intrinsic+json": {
              "type": "string"
            },
            "text/plain": [
              "'6-4'"
            ]
          },
          "metadata": {
            "tags": []
          },
          "execution_count": 49
        }
      ]
    },
    {
      "cell_type": "code",
      "metadata": {
        "id": "y0d3j8FJvVg3",
        "outputId": "03d6f11c-a1e4-4040-9de0-c50123d701ed",
        "colab": {
          "base_uri": "https://localhost:8080/"
        }
      },
      "source": [
        "print(data32['score'].nunique())\n",
        "data32['score'].unique()"
      ],
      "execution_count": 50,
      "outputs": [
        {
          "output_type": "stream",
          "text": [
            "1136\n"
          ],
          "name": "stdout"
        },
        {
          "output_type": "execute_result",
          "data": {
            "text/plain": [
              "array(['6-4 7-5', '7-6(4) 7-6(6)', '7-6(6) 7-6(4)', ..., '6-3 6-7(5) 6-3',\n",
              "       '6-4 6-7(2) 7-6(5)', '5-7 6-4 6-1'], dtype=object)"
            ]
          },
          "metadata": {
            "tags": []
          },
          "execution_count": 50
        }
      ]
    },
    {
      "cell_type": "markdown",
      "metadata": {
        "id": "UuOcY3GrNRIk"
      },
      "source": [
        "- So far I cleansed my data set and used the columns we wanted. After that with for loop and if statements in the above cells, I was able to create another column which shows if the first set winner won the match or not. Below I counted the number of 1's and 0's, so I can calculate the percentage of winning a game after winning the first set. \n",
        "\n",
        "- PS: Please keep in mind that this data set is only for ATP Single's and tournaments with draw size 32 player or more are taken into consideration."
      ]
    },
    {
      "cell_type": "code",
      "metadata": {
        "id": "G76avQiEzCza",
        "outputId": "014ac44f-7c9c-4d32-fb2f-a4d98aed0233",
        "colab": {
          "base_uri": "https://localhost:8080/"
        }
      },
      "source": [
        "# number of 1's is the number of matches won by the first set winner\n",
        "# number of 0's is the number of matches won by the first set winner\n",
        "\n",
        "data32['set_and_match_winner32'].value_counts()"
      ],
      "execution_count": 51,
      "outputs": [
        {
          "output_type": "execute_result",
          "data": {
            "text/plain": [
              "1    2082\n",
              "0     522\n",
              "Name: set_and_match_winner32, dtype: int64"
            ]
          },
          "metadata": {
            "tags": []
          },
          "execution_count": 51
        }
      ]
    },
    {
      "cell_type": "code",
      "metadata": {
        "id": "fTBgy9MLQC3P",
        "outputId": "09b10cb0-81a1-490f-c584-7ea057bf08dc",
        "colab": {
          "base_uri": "https://localhost:8080/"
        }
      },
      "source": [
        "print(\"The percentage of winning the match after winning the first set is:\\n\", data32['set_and_match_winner32'].value_counts(1)[1])"
      ],
      "execution_count": 52,
      "outputs": [
        {
          "output_type": "stream",
          "text": [
            "The percentage of winning the match after winning the first set is:\n",
            " 0.7995391705069125\n"
          ],
          "name": "stdout"
        }
      ]
    },
    {
      "cell_type": "markdown",
      "metadata": {
        "id": "dxmx885BDOju"
      },
      "source": [
        "### Creating another column for the whole ATP 2017 data. \n",
        "I checked all the tournaments which had at least 8 players in their draw size. \n",
        "I added another column and checked the ratio of first set winner and match winner. "
      ]
    },
    {
      "cell_type": "code",
      "metadata": {
        "id": "PZ6U2Sxgm2Ru",
        "outputId": "f5411201-f30e-4f7f-8798-136c9a3fb17d",
        "colab": {
          "base_uri": "https://localhost:8080/"
        }
      },
      "source": [
        "set_and_match_winner = []\n",
        "for fset in data['score']:\n",
        "    if int(fset[0]) > int(fset[2]):\n",
        "        set_and_match_winner.append(1)\n",
        "    else:\n",
        "        set_and_match_winner.append(0)\n",
        "\n",
        "len(set_and_match_winner)"
      ],
      "execution_count": 53,
      "outputs": [
        {
          "output_type": "execute_result",
          "data": {
            "text/plain": [
              "2868"
            ]
          },
          "metadata": {
            "tags": []
          },
          "execution_count": 53
        }
      ]
    },
    {
      "cell_type": "code",
      "metadata": {
        "id": "HYX6V2AXnCbf"
      },
      "source": [
        "data['set_and_match_winner'] = set_and_match_winner"
      ],
      "execution_count": 54,
      "outputs": []
    },
    {
      "cell_type": "code",
      "metadata": {
        "id": "2uixkEJsWLhc",
        "outputId": "6a0669cb-1dcd-4834-f236-8723d5f5a0eb",
        "colab": {
          "base_uri": "https://localhost:8080/"
        }
      },
      "source": [
        "print(data['score'].nunique())\n",
        "print(data['score'].unique())"
      ],
      "execution_count": 55,
      "outputs": [
        {
          "output_type": "stream",
          "text": [
            "1278\n",
            "['6-4 7-5' '7-6(4) 7-6(6)' '7-6(6) 7-6(4)' ... '7-6(6) 5-7 6-1'\n",
            " '4-6 6-0 6-3' '6-3 6-1 6-0']\n"
          ],
          "name": "stdout"
        }
      ]
    },
    {
      "cell_type": "code",
      "metadata": {
        "id": "Wxa9WxXVh3Uf",
        "outputId": "0422900a-a24d-4eed-cbc8-66afbb65ac7a",
        "colab": {
          "base_uri": "https://localhost:8080/"
        }
      },
      "source": [
        "data['surface'].unique()"
      ],
      "execution_count": 56,
      "outputs": [
        {
          "output_type": "execute_result",
          "data": {
            "text/plain": [
              "array(['Hard', nan, 'Clay', 'Grass'], dtype=object)"
            ]
          },
          "metadata": {
            "tags": []
          },
          "execution_count": 56
        }
      ]
    },
    {
      "cell_type": "code",
      "metadata": {
        "id": "fwNepDWRh819",
        "outputId": "ba3afb3f-a512-4903-a3b1-972d18597d61",
        "colab": {
          "base_uri": "https://localhost:8080/"
        }
      },
      "source": [
        "data['surface'].value_counts()"
      ],
      "execution_count": 57,
      "outputs": [
        {
          "output_type": "execute_result",
          "data": {
            "text/plain": [
              "Hard     1606\n",
              "Clay      855\n",
              "Grass     328\n",
              "Name: surface, dtype: int64"
            ]
          },
          "metadata": {
            "tags": []
          },
          "execution_count": 57
        }
      ]
    },
    {
      "cell_type": "code",
      "metadata": {
        "id": "8fUKfdoyg_lV",
        "outputId": "b04336f3-88e0-4dec-e611-0c427cc1cca2",
        "colab": {
          "base_uri": "https://localhost:8080/",
          "height": 573
        }
      },
      "source": [
        "n = data[data['draw_size'] >= 8]\n",
        "n"
      ],
      "execution_count": 58,
      "outputs": [
        {
          "output_type": "execute_result",
          "data": {
            "text/html": [
              "<div>\n",
              "<style scoped>\n",
              "    .dataframe tbody tr th:only-of-type {\n",
              "        vertical-align: middle;\n",
              "    }\n",
              "\n",
              "    .dataframe tbody tr th {\n",
              "        vertical-align: top;\n",
              "    }\n",
              "\n",
              "    .dataframe thead th {\n",
              "        text-align: right;\n",
              "    }\n",
              "</style>\n",
              "<table border=\"1\" class=\"dataframe\">\n",
              "  <thead>\n",
              "    <tr style=\"text-align: right;\">\n",
              "      <th></th>\n",
              "      <th>tourney_name</th>\n",
              "      <th>tourney_level</th>\n",
              "      <th>surface</th>\n",
              "      <th>draw_size</th>\n",
              "      <th>winner_name</th>\n",
              "      <th>winner_hand</th>\n",
              "      <th>score</th>\n",
              "      <th>best_of</th>\n",
              "      <th>round</th>\n",
              "      <th>loser_name</th>\n",
              "      <th>set_and_match_winner</th>\n",
              "    </tr>\n",
              "  </thead>\n",
              "  <tbody>\n",
              "    <tr>\n",
              "      <th>0</th>\n",
              "      <td>Brisbane</td>\n",
              "      <td>A</td>\n",
              "      <td>Hard</td>\n",
              "      <td>32</td>\n",
              "      <td>Viktor Troicki</td>\n",
              "      <td>R</td>\n",
              "      <td>6-4 7-5</td>\n",
              "      <td>3</td>\n",
              "      <td>R32</td>\n",
              "      <td>Yoshihito Nishioka</td>\n",
              "      <td>1</td>\n",
              "    </tr>\n",
              "    <tr>\n",
              "      <th>1</th>\n",
              "      <td>Brisbane</td>\n",
              "      <td>A</td>\n",
              "      <td>Hard</td>\n",
              "      <td>32</td>\n",
              "      <td>Kyle Edmund</td>\n",
              "      <td>R</td>\n",
              "      <td>7-6(4) 7-6(6)</td>\n",
              "      <td>3</td>\n",
              "      <td>R32</td>\n",
              "      <td>Ernesto Escobedo</td>\n",
              "      <td>1</td>\n",
              "    </tr>\n",
              "    <tr>\n",
              "      <th>2</th>\n",
              "      <td>Brisbane</td>\n",
              "      <td>A</td>\n",
              "      <td>Hard</td>\n",
              "      <td>32</td>\n",
              "      <td>Lucas Pouille</td>\n",
              "      <td>R</td>\n",
              "      <td>7-6(6) 7-6(4)</td>\n",
              "      <td>3</td>\n",
              "      <td>R32</td>\n",
              "      <td>Gilles Simon</td>\n",
              "      <td>1</td>\n",
              "    </tr>\n",
              "    <tr>\n",
              "      <th>3</th>\n",
              "      <td>Brisbane</td>\n",
              "      <td>A</td>\n",
              "      <td>Hard</td>\n",
              "      <td>32</td>\n",
              "      <td>Jared Donaldson</td>\n",
              "      <td>R</td>\n",
              "      <td>6-4 6-4</td>\n",
              "      <td>3</td>\n",
              "      <td>R32</td>\n",
              "      <td>Gilles Muller</td>\n",
              "      <td>1</td>\n",
              "    </tr>\n",
              "    <tr>\n",
              "      <th>4</th>\n",
              "      <td>Brisbane</td>\n",
              "      <td>A</td>\n",
              "      <td>Hard</td>\n",
              "      <td>32</td>\n",
              "      <td>Jordan Thompson</td>\n",
              "      <td>R</td>\n",
              "      <td>6-3 6-2</td>\n",
              "      <td>3</td>\n",
              "      <td>R32</td>\n",
              "      <td>Elias Ymer</td>\n",
              "      <td>1</td>\n",
              "    </tr>\n",
              "    <tr>\n",
              "      <th>...</th>\n",
              "      <td>...</td>\n",
              "      <td>...</td>\n",
              "      <td>...</td>\n",
              "      <td>...</td>\n",
              "      <td>...</td>\n",
              "      <td>...</td>\n",
              "      <td>...</td>\n",
              "      <td>...</td>\n",
              "      <td>...</td>\n",
              "      <td>...</td>\n",
              "      <td>...</td>\n",
              "    </tr>\n",
              "    <tr>\n",
              "      <th>2877</th>\n",
              "      <td>Tour Finals</td>\n",
              "      <td>F</td>\n",
              "      <td>Hard</td>\n",
              "      <td>8</td>\n",
              "      <td>Grigor Dimitrov</td>\n",
              "      <td>R</td>\n",
              "      <td>6-1 6-1</td>\n",
              "      <td>3</td>\n",
              "      <td>RR</td>\n",
              "      <td>Pablo Carreno Busta</td>\n",
              "      <td>1</td>\n",
              "    </tr>\n",
              "    <tr>\n",
              "      <th>2878</th>\n",
              "      <td>Tour Finals</td>\n",
              "      <td>F</td>\n",
              "      <td>Hard</td>\n",
              "      <td>8</td>\n",
              "      <td>Dominic Thiem</td>\n",
              "      <td>R</td>\n",
              "      <td>6-3 3-6 6-4</td>\n",
              "      <td>3</td>\n",
              "      <td>RR</td>\n",
              "      <td>Pablo Carreno Busta</td>\n",
              "      <td>1</td>\n",
              "    </tr>\n",
              "    <tr>\n",
              "      <th>2879</th>\n",
              "      <td>Tour Finals</td>\n",
              "      <td>F</td>\n",
              "      <td>Hard</td>\n",
              "      <td>8</td>\n",
              "      <td>David Goffin</td>\n",
              "      <td>R</td>\n",
              "      <td>2-6 6-3 6-4</td>\n",
              "      <td>3</td>\n",
              "      <td>SF</td>\n",
              "      <td>Roger Federer</td>\n",
              "      <td>0</td>\n",
              "    </tr>\n",
              "    <tr>\n",
              "      <th>2880</th>\n",
              "      <td>Tour Finals</td>\n",
              "      <td>F</td>\n",
              "      <td>Hard</td>\n",
              "      <td>8</td>\n",
              "      <td>Grigor Dimitrov</td>\n",
              "      <td>R</td>\n",
              "      <td>4-6 6-0 6-3</td>\n",
              "      <td>3</td>\n",
              "      <td>SF</td>\n",
              "      <td>Jack Sock</td>\n",
              "      <td>0</td>\n",
              "    </tr>\n",
              "    <tr>\n",
              "      <th>2881</th>\n",
              "      <td>Tour Finals</td>\n",
              "      <td>F</td>\n",
              "      <td>Hard</td>\n",
              "      <td>8</td>\n",
              "      <td>Grigor Dimitrov</td>\n",
              "      <td>R</td>\n",
              "      <td>7-5 4-6 6-3</td>\n",
              "      <td>3</td>\n",
              "      <td>F</td>\n",
              "      <td>David Goffin</td>\n",
              "      <td>1</td>\n",
              "    </tr>\n",
              "  </tbody>\n",
              "</table>\n",
              "<p>2619 rows × 11 columns</p>\n",
              "</div>"
            ],
            "text/plain": [
              "     tourney_name tourney_level  ...           loser_name  set_and_match_winner\n",
              "0        Brisbane             A  ...   Yoshihito Nishioka                     1\n",
              "1        Brisbane             A  ...     Ernesto Escobedo                     1\n",
              "2        Brisbane             A  ...         Gilles Simon                     1\n",
              "3        Brisbane             A  ...        Gilles Muller                     1\n",
              "4        Brisbane             A  ...           Elias Ymer                     1\n",
              "...           ...           ...  ...                  ...                   ...\n",
              "2877  Tour Finals             F  ...  Pablo Carreno Busta                     1\n",
              "2878  Tour Finals             F  ...  Pablo Carreno Busta                     1\n",
              "2879  Tour Finals             F  ...        Roger Federer                     0\n",
              "2880  Tour Finals             F  ...            Jack Sock                     0\n",
              "2881  Tour Finals             F  ...         David Goffin                     1\n",
              "\n",
              "[2619 rows x 11 columns]"
            ]
          },
          "metadata": {
            "tags": []
          },
          "execution_count": 58
        }
      ]
    },
    {
      "cell_type": "code",
      "metadata": {
        "id": "4efuRYrPV3Bd",
        "outputId": "6d4145cd-8d65-4a36-8d08-0983bd5f90d1",
        "colab": {
          "base_uri": "https://localhost:8080/"
        }
      },
      "source": [
        "data['set_and_match_winner'].value_counts(1)"
      ],
      "execution_count": 59,
      "outputs": [
        {
          "output_type": "execute_result",
          "data": {
            "text/plain": [
              "1    0.796722\n",
              "0    0.203278\n",
              "Name: set_and_match_winner, dtype: float64"
            ]
          },
          "metadata": {
            "tags": []
          },
          "execution_count": 59
        }
      ]
    },
    {
      "cell_type": "code",
      "metadata": {
        "id": "LSJlKzbWnQQz",
        "outputId": "c533fa2f-76bf-4ccc-a098-a227f14fd5ef",
        "colab": {
          "base_uri": "https://localhost:8080/"
        }
      },
      "source": [
        "data['set_and_match_winner'].value_counts()"
      ],
      "execution_count": 60,
      "outputs": [
        {
          "output_type": "execute_result",
          "data": {
            "text/plain": [
              "1    2285\n",
              "0     583\n",
              "Name: set_and_match_winner, dtype: int64"
            ]
          },
          "metadata": {
            "tags": []
          },
          "execution_count": 60
        }
      ]
    },
    {
      "cell_type": "markdown",
      "metadata": {
        "id": "lHniHvENUGN4"
      },
      "source": [
        "### Now let's check this percentage for **Grand Slam** tournaments in 2017"
      ]
    },
    {
      "cell_type": "code",
      "metadata": {
        "id": "TlclqTJXPfBl",
        "outputId": "f1b77522-bbcb-4979-cf33-18d259628f7b",
        "colab": {
          "base_uri": "https://localhost:8080/",
          "height": 640
        }
      },
      "source": [
        "gs_data = data[data['tourney_level'] == \"G\"]\n",
        "gs_data"
      ],
      "execution_count": 61,
      "outputs": [
        {
          "output_type": "execute_result",
          "data": {
            "text/html": [
              "<div>\n",
              "<style scoped>\n",
              "    .dataframe tbody tr th:only-of-type {\n",
              "        vertical-align: middle;\n",
              "    }\n",
              "\n",
              "    .dataframe tbody tr th {\n",
              "        vertical-align: top;\n",
              "    }\n",
              "\n",
              "    .dataframe thead th {\n",
              "        text-align: right;\n",
              "    }\n",
              "</style>\n",
              "<table border=\"1\" class=\"dataframe\">\n",
              "  <thead>\n",
              "    <tr style=\"text-align: right;\">\n",
              "      <th></th>\n",
              "      <th>tourney_name</th>\n",
              "      <th>tourney_level</th>\n",
              "      <th>surface</th>\n",
              "      <th>draw_size</th>\n",
              "      <th>winner_name</th>\n",
              "      <th>winner_hand</th>\n",
              "      <th>score</th>\n",
              "      <th>best_of</th>\n",
              "      <th>round</th>\n",
              "      <th>loser_name</th>\n",
              "      <th>set_and_match_winner</th>\n",
              "    </tr>\n",
              "  </thead>\n",
              "  <tbody>\n",
              "    <tr>\n",
              "      <th>139</th>\n",
              "      <td>Australian Open</td>\n",
              "      <td>G</td>\n",
              "      <td>Hard</td>\n",
              "      <td>128</td>\n",
              "      <td>Andy Murray</td>\n",
              "      <td>R</td>\n",
              "      <td>7-5 7-6(5) 6-2</td>\n",
              "      <td>5</td>\n",
              "      <td>R128</td>\n",
              "      <td>Illya Marchenko</td>\n",
              "      <td>1</td>\n",
              "    </tr>\n",
              "    <tr>\n",
              "      <th>140</th>\n",
              "      <td>Australian Open</td>\n",
              "      <td>G</td>\n",
              "      <td>Hard</td>\n",
              "      <td>128</td>\n",
              "      <td>Andrey Rublev</td>\n",
              "      <td>R</td>\n",
              "      <td>4-6 6-3 7-6(0) 6-3</td>\n",
              "      <td>5</td>\n",
              "      <td>R128</td>\n",
              "      <td>Yen Hsun Lu</td>\n",
              "      <td>0</td>\n",
              "    </tr>\n",
              "    <tr>\n",
              "      <th>141</th>\n",
              "      <td>Australian Open</td>\n",
              "      <td>G</td>\n",
              "      <td>Hard</td>\n",
              "      <td>128</td>\n",
              "      <td>Alex De Minaur</td>\n",
              "      <td>R</td>\n",
              "      <td>5-7 6-3 2-6 7-6(2) 6-1</td>\n",
              "      <td>5</td>\n",
              "      <td>R128</td>\n",
              "      <td>Gerald Melzer</td>\n",
              "      <td>0</td>\n",
              "    </tr>\n",
              "    <tr>\n",
              "      <th>142</th>\n",
              "      <td>Australian Open</td>\n",
              "      <td>G</td>\n",
              "      <td>Hard</td>\n",
              "      <td>128</td>\n",
              "      <td>Sam Querrey</td>\n",
              "      <td>R</td>\n",
              "      <td>6-7(10) 7-6(4) 6-3 6-4</td>\n",
              "      <td>5</td>\n",
              "      <td>R128</td>\n",
              "      <td>Quentin Halys</td>\n",
              "      <td>0</td>\n",
              "    </tr>\n",
              "    <tr>\n",
              "      <th>143</th>\n",
              "      <td>Australian Open</td>\n",
              "      <td>G</td>\n",
              "      <td>Hard</td>\n",
              "      <td>128</td>\n",
              "      <td>John Isner</td>\n",
              "      <td>R</td>\n",
              "      <td>6-3 6-4 6-7(5) 6-1</td>\n",
              "      <td>5</td>\n",
              "      <td>R128</td>\n",
              "      <td>Konstantin Kravchuk</td>\n",
              "      <td>1</td>\n",
              "    </tr>\n",
              "    <tr>\n",
              "      <th>...</th>\n",
              "      <td>...</td>\n",
              "      <td>...</td>\n",
              "      <td>...</td>\n",
              "      <td>...</td>\n",
              "      <td>...</td>\n",
              "      <td>...</td>\n",
              "      <td>...</td>\n",
              "      <td>...</td>\n",
              "      <td>...</td>\n",
              "      <td>...</td>\n",
              "      <td>...</td>\n",
              "    </tr>\n",
              "    <tr>\n",
              "      <th>2395</th>\n",
              "      <td>US Open</td>\n",
              "      <td>G</td>\n",
              "      <td>Hard</td>\n",
              "      <td>128</td>\n",
              "      <td>Kevin Anderson</td>\n",
              "      <td>R</td>\n",
              "      <td>7-6(5) 6-7(9) 6-3 7-6(7)</td>\n",
              "      <td>5</td>\n",
              "      <td>QF</td>\n",
              "      <td>Sam Querrey</td>\n",
              "      <td>1</td>\n",
              "    </tr>\n",
              "    <tr>\n",
              "      <th>2396</th>\n",
              "      <td>US Open</td>\n",
              "      <td>G</td>\n",
              "      <td>Hard</td>\n",
              "      <td>128</td>\n",
              "      <td>Pablo Carreno Busta</td>\n",
              "      <td>R</td>\n",
              "      <td>6-4 6-4 6-2</td>\n",
              "      <td>5</td>\n",
              "      <td>QF</td>\n",
              "      <td>Diego Schwartzman</td>\n",
              "      <td>1</td>\n",
              "    </tr>\n",
              "    <tr>\n",
              "      <th>2397</th>\n",
              "      <td>US Open</td>\n",
              "      <td>G</td>\n",
              "      <td>Hard</td>\n",
              "      <td>128</td>\n",
              "      <td>Rafael Nadal</td>\n",
              "      <td>L</td>\n",
              "      <td>4-6 6-0 6-3 6-2</td>\n",
              "      <td>5</td>\n",
              "      <td>SF</td>\n",
              "      <td>Juan Martin del Potro</td>\n",
              "      <td>0</td>\n",
              "    </tr>\n",
              "    <tr>\n",
              "      <th>2398</th>\n",
              "      <td>US Open</td>\n",
              "      <td>G</td>\n",
              "      <td>Hard</td>\n",
              "      <td>128</td>\n",
              "      <td>Kevin Anderson</td>\n",
              "      <td>R</td>\n",
              "      <td>4-6 7-5 6-3 6-4</td>\n",
              "      <td>5</td>\n",
              "      <td>SF</td>\n",
              "      <td>Pablo Carreno Busta</td>\n",
              "      <td>0</td>\n",
              "    </tr>\n",
              "    <tr>\n",
              "      <th>2399</th>\n",
              "      <td>US Open</td>\n",
              "      <td>G</td>\n",
              "      <td>Hard</td>\n",
              "      <td>128</td>\n",
              "      <td>Rafael Nadal</td>\n",
              "      <td>L</td>\n",
              "      <td>6-3 6-3 6-4</td>\n",
              "      <td>5</td>\n",
              "      <td>F</td>\n",
              "      <td>Kevin Anderson</td>\n",
              "      <td>1</td>\n",
              "    </tr>\n",
              "  </tbody>\n",
              "</table>\n",
              "<p>508 rows × 11 columns</p>\n",
              "</div>"
            ],
            "text/plain": [
              "         tourney_name  ... set_and_match_winner\n",
              "139   Australian Open  ...                    1\n",
              "140   Australian Open  ...                    0\n",
              "141   Australian Open  ...                    0\n",
              "142   Australian Open  ...                    0\n",
              "143   Australian Open  ...                    1\n",
              "...               ...  ...                  ...\n",
              "2395          US Open  ...                    1\n",
              "2396          US Open  ...                    1\n",
              "2397          US Open  ...                    0\n",
              "2398          US Open  ...                    0\n",
              "2399          US Open  ...                    1\n",
              "\n",
              "[508 rows x 11 columns]"
            ]
          },
          "metadata": {
            "tags": []
          },
          "execution_count": 61
        }
      ]
    },
    {
      "cell_type": "code",
      "metadata": {
        "id": "tdmjAtdaVmoG",
        "outputId": "346d57db-a611-4443-f322-8d2d29bd2eaa",
        "colab": {
          "base_uri": "https://localhost:8080/"
        }
      },
      "source": [
        "gs_data['set_and_match_winner'].value_counts()"
      ],
      "execution_count": 62,
      "outputs": [
        {
          "output_type": "execute_result",
          "data": {
            "text/plain": [
              "1    403\n",
              "0    105\n",
              "Name: set_and_match_winner, dtype: int64"
            ]
          },
          "metadata": {
            "tags": []
          },
          "execution_count": 62
        }
      ]
    },
    {
      "cell_type": "code",
      "metadata": {
        "id": "LI1a1ncgVt_N",
        "outputId": "31de073d-5681-4458-d5e0-d89667f54d52",
        "colab": {
          "base_uri": "https://localhost:8080/"
        }
      },
      "source": [
        "print(\"The percentage of winning the match after winning the first set in Grand Slam tournaments is:\\n\",gs_data['set_and_match_winner'].value_counts(1)[1])"
      ],
      "execution_count": 63,
      "outputs": [
        {
          "output_type": "stream",
          "text": [
            "The percentage of winning the match after winning the first set in Grand Slam tournaments is:\n",
            " 0.7933070866141733\n"
          ],
          "name": "stdout"
        }
      ]
    },
    {
      "cell_type": "markdown",
      "metadata": {
        "id": "dj6uOrafW-QX"
      },
      "source": [
        "# Goals for the deliverable 3:\n",
        "- I am planning to analyze the players with highest first set and match winning ratio. \n",
        "- I will analyze if there are significant differences between different surfaces. \n",
        "- I am planning to cleanse the things I did above and put them in a function, so I can analyze more years of ATP Singles data. I would like to analyze last 10 years data if the csv format is eligible.  "
      ]
    },
    {
      "cell_type": "markdown",
      "metadata": {
        "id": "Om1DgdjEEsnV"
      },
      "source": [
        "### Player Analysis for 2017 ATP"
      ]
    },
    {
      "cell_type": "code",
      "metadata": {
        "id": "mR27ExRkSyM9",
        "outputId": "272503e2-0302-4cd2-c66f-c96c879e145d",
        "colab": {
          "base_uri": "https://localhost:8080/"
        }
      },
      "source": [
        "print(\"There are\", data['winner_name'].nunique(), \"different winners.\")\n",
        "winners = data['winner_name'].value_counts() # displaying the number of matches each player won\n",
        "winners.head(10) # top 10 players per number of winning a match in 2017"
      ],
      "execution_count": 64,
      "outputs": [
        {
          "output_type": "stream",
          "text": [
            "There are 284 different winners.\n"
          ],
          "name": "stdout"
        },
        {
          "output_type": "execute_result",
          "data": {
            "text/plain": [
              "Rafael Nadal             67\n",
              "David Goffin             59\n",
              "Alexander Zverev         55\n",
              "Roger Federer            52\n",
              "Grigor Dimitrov          49\n",
              "Roberto Bautista Agut    48\n",
              "Dominic Thiem            47\n",
              "Marin Cilic              44\n",
              "Diego Schwartzman        39\n",
              "Jack Sock                38\n",
              "Name: winner_name, dtype: int64"
            ]
          },
          "metadata": {
            "tags": []
          },
          "execution_count": 64
        }
      ]
    },
    {
      "cell_type": "code",
      "metadata": {
        "id": "rH7Ez3NikOlo",
        "outputId": "1b0e2107-c3a8-4266-e778-4fc05df591ef",
        "colab": {
          "base_uri": "https://localhost:8080/",
          "height": 493
        }
      },
      "source": [
        "winners.head(10).plot.bar(figsize=(10,6))"
      ],
      "execution_count": 65,
      "outputs": [
        {
          "output_type": "execute_result",
          "data": {
            "text/plain": [
              "<matplotlib.axes._subplots.AxesSubplot at 0x7f6ff38bf9b0>"
            ]
          },
          "metadata": {
            "tags": []
          },
          "execution_count": 65
        },
        {
          "output_type": "display_data",
          "data": {
            "image/png": "[encoded data removed]",
            "text/plain": [
              "<Figure size 720x432 with 1 Axes>"
            ]
          },
          "metadata": {
            "tags": [],
            "needs_background": "light"
          }
        }
      ]
    },
    {
      "cell_type": "code",
      "metadata": {
        "id": "NuDOpGC5cVjD",
        "outputId": "fbd20ae0-98d7-4f0d-e367-02b75e33317b",
        "colab": {
          "base_uri": "https://localhost:8080/"
        }
      },
      "source": [
        "len(data[data['winner_name'] == 'Roger Federer'])"
      ],
      "execution_count": 67,
      "outputs": [
        {
          "output_type": "execute_result",
          "data": {
            "text/plain": [
              "52"
            ]
          },
          "metadata": {
            "tags": []
          },
          "execution_count": 67
        }
      ]
    },
    {
      "cell_type": "code",
      "metadata": {
        "id": "bjgOFTRZFC03",
        "outputId": "e0ae740d-52b4-4767-bb02-34a98606b48d",
        "colab": {
          "base_uri": "https://localhost:8080/"
        }
      },
      "source": [
        "# player analysis trial with Roger Federer\n",
        "federer = pd.DataFrame()\n",
        "federer['rate'] = np.where((data['winner_name'] == \"Roger Federer\") & (data['set_and_match_winner'] == 1)\n",
        "                           , data['set_and_match_winner'], 0)\n",
        "print(\"Federer's rate for match winning after winning the first set in 2017 is below: \")\n",
        "federer.value_counts()[1] / len(data[data['winner_name'] == 'Roger Federer'])"
      ],
      "execution_count": 92,
      "outputs": [
        {
          "output_type": "stream",
          "text": [
            "Federer's rate for match winning after winning the first set in 2017 is below: \n"
          ],
          "name": "stdout"
        },
        {
          "output_type": "execute_result",
          "data": {
            "text/plain": [
              "rate\n",
              "1       0.865385\n",
              "dtype: float64"
            ]
          },
          "metadata": {
            "tags": []
          },
          "execution_count": 92
        }
      ]
    },
    {
      "cell_type": "code",
      "metadata": {
        "id": "kS8of3bLDxoM"
      },
      "source": [
        "# displaying player analysis in a function, so we can use it for any player \n",
        "def player_analysis(player_name):\n",
        "    pn = pd.DataFrame()\n",
        "    pn['rate'] = np.where((data['winner_name'] == player_name) & (data['set_and_match_winner'] == 1)\n",
        "                           , data['set_and_match_winner'], 0)\n",
        "    print(player_name, (pn.value_counts()[1] / len(data[data['winner_name'] == player_name])))\n"
      ],
      "execution_count": 69,
      "outputs": []
    },
    {
      "cell_type": "code",
      "metadata": {
        "id": "VdslIaIcKEYE",
        "outputId": "d99c3372-f8d1-48e0-be5e-c51689940ca0",
        "colab": {
          "base_uri": "https://localhost:8080/"
        }
      },
      "source": [
        "player_analysis('Roger Federer')"
      ],
      "execution_count": 70,
      "outputs": [
        {
          "output_type": "stream",
          "text": [
            "Roger Federer rate\n",
            "1       0.865385\n",
            "dtype: float64\n"
          ],
          "name": "stdout"
        }
      ]
    },
    {
      "cell_type": "code",
      "metadata": {
        "id": "HMTqwUW7XgIY",
        "outputId": "893d954f-afcb-4a15-ef36-41fca5b11eba",
        "colab": {
          "base_uri": "https://localhost:8080/"
        }
      },
      "source": [
        "# I created a new list for top 10 player for 2017 ATP.  \n",
        "top_players = ['Rafael Nadal', 'David Goffin', 'Alexander Zverev', 'Roger Federer', 'Grigor Dimitrov', 'Roberto Bautista Agut' ,\n",
        "               'Dominic Thiem', 'Marin Cilic', 'Diego Schwartzman', 'Juan Martin del Potro']\n",
        "# displaying top 10 players winning rate after winning the first set\n",
        "print(\"Below you can see the ratio of the top 10 players who won the most number of matches in 2017: \\n\")\n",
        "for player in top_players: \n",
        "    player_analysis(player)\n",
        "    print('\\n')"
      ],
      "execution_count": 94,
      "outputs": [
        {
          "output_type": "stream",
          "text": [
            "Below you can see the ratio of the top 10 players who won the most number of matches in 2017: \n",
            "\n",
            "Rafael Nadal rate\n",
            "1       0.910448\n",
            "dtype: float64\n",
            "\n",
            "\n",
            "David Goffin rate\n",
            "1       0.762712\n",
            "dtype: float64\n",
            "\n",
            "\n",
            "Alexander Zverev rate\n",
            "1       0.836364\n",
            "dtype: float64\n",
            "\n",
            "\n",
            "Roger Federer rate\n",
            "1       0.865385\n",
            "dtype: float64\n",
            "\n",
            "\n",
            "Grigor Dimitrov rate\n",
            "1       0.857143\n",
            "dtype: float64\n",
            "\n",
            "\n",
            "Roberto Bautista Agut rate\n",
            "1       0.875\n",
            "dtype: float64\n",
            "\n",
            "\n",
            "Dominic Thiem rate\n",
            "1       0.87234\n",
            "dtype: float64\n",
            "\n",
            "\n",
            "Marin Cilic rate\n",
            "1       0.886364\n",
            "dtype: float64\n",
            "\n",
            "\n",
            "Diego Schwartzman rate\n",
            "1       0.871795\n",
            "dtype: float64\n",
            "\n",
            "\n",
            "Juan Martin del Potro rate\n",
            "1       0.842105\n",
            "dtype: float64\n",
            "\n",
            "\n"
          ],
          "name": "stdout"
        }
      ]
    },
    {
      "cell_type": "markdown",
      "metadata": {
        "id": "14YWYVazjex8"
      },
      "source": [
        "### Surface Analysis for ATP 2017"
      ]
    },
    {
      "cell_type": "code",
      "metadata": {
        "id": "ZjH2HrMzrD_v",
        "outputId": "ce4391a6-094a-496d-fa7e-4bd92718b8d5",
        "colab": {
          "base_uri": "https://localhost:8080/"
        }
      },
      "source": [
        "len(data[data['surface'] == 'Hard'])"
      ],
      "execution_count": 72,
      "outputs": [
        {
          "output_type": "execute_result",
          "data": {
            "text/plain": [
              "1606"
            ]
          },
          "metadata": {
            "tags": []
          },
          "execution_count": 72
        }
      ]
    },
    {
      "cell_type": "code",
      "metadata": {
        "id": "l5A1MeYAr-bk"
      },
      "source": [
        "# defining a function in the same way I did for player analysis \n",
        "def surface_analysis(surface):\n",
        "    surface_frame = pd.DataFrame()\n",
        "    surface_frame['rate'] = np.where((data['surface'] == surface) & (data['set_and_match_winner'] == 1)\n",
        "                           , data['set_and_match_winner'], 0)\n",
        "    print(surface, (surface_frame.value_counts()[1] / len(data[data['surface'] == surface])))"
      ],
      "execution_count": 73,
      "outputs": []
    },
    {
      "cell_type": "code",
      "metadata": {
        "id": "AbyJ-dsUudbM",
        "outputId": "9c90ea31-c667-4bba-8b44-9e6b96554a2c",
        "colab": {
          "base_uri": "https://localhost:8080/"
        }
      },
      "source": [
        "print(\"Below is the ratio depending on the surface: \\n\")\n",
        "for element in surfaces: \n",
        "    surface_analysis(element)\n",
        "    print('\\n')"
      ],
      "execution_count": 95,
      "outputs": [
        {
          "output_type": "stream",
          "text": [
            "Below is the ratio depending on the surface: \n",
            "\n",
            "Hard rate\n",
            "1       0.795766\n",
            "dtype: float64\n",
            "\n",
            "\n",
            "Clay rate\n",
            "1       0.8\n",
            "dtype: float64\n",
            "\n",
            "\n",
            "Grass rate\n",
            "1       0.810976\n",
            "dtype: float64\n",
            "\n",
            "\n"
          ],
          "name": "stdout"
        }
      ]
    },
    {
      "cell_type": "markdown",
      "metadata": {
        "id": "Y3rt13TuWSoh"
      },
      "source": [
        "As it can be seen above, there is not a big difference between different surfaces. "
      ]
    },
    {
      "cell_type": "markdown",
      "metadata": {
        "id": "Ts9l1OoeHPZc"
      },
      "source": [
        "### Make it a function\n",
        "I created a function below to anaylize different years of ATP tennis. I analized each season between 2010 and 2019. \n",
        "\n",
        "Each year have similar rates of winning the match after winning the first set. \n"
      ]
    },
    {
      "cell_type": "code",
      "metadata": {
        "id": "ocN1NytQHSfK"
      },
      "source": [
        "def firstsetwinnerratio(path):\n",
        "    dff = pd.read_csv(path)\n",
        "    # print(dff.info())\n",
        "\n",
        "    datanew = dff[['tourney_name', 'tourney_level', 'surface', 'draw_size', 'winner_name', 'winner_hand', 'score', 'best_of', 'round', 'loser_name']]\n",
        "    datanew = datanew[datanew['score'] != \"W/O\"] # removing invalid score data\n",
        "    datanew = datanew[datanew['score'] != \"Walkover\"]\n",
        "    datanew = datanew[datanew['score'] != ' W/O'] # removing invalid score data\n",
        "    datanew = datanew[datanew['score'] != ' RET'] # removing invalid score data\n",
        "    datanew = datanew[datanew['score'] != 'DEF']\n",
        "    datanew = datanew.dropna(subset=['score'])\n",
        "    # print(datanew)\n",
        "    # print(\"CHECKPOINT AFTER CLEANSING THE DATAFRAME 'SCORE' COLUMN\", '\\n')\n",
        "    print('\\n', '#'* 100, '\\n')\n",
        "\n",
        "    # taking the tournaments with draw_size >= 8\n",
        "    datanew = datanew[datanew['draw_size'] >= 8]\n",
        "    print(datanew.count)\n",
        "    print(\"CHECKPOINT AFTER LIMITING THE DRAW_SIZE >= 8\", \"\\n\")\n",
        "    print('\\n', '#'* 100, '\\n')\n",
        "\n",
        "    # adding a new column to our dataframe\n",
        "    set_and_match_winner = []\n",
        "    for fset in datanew['score']:\n",
        "        try:\n",
        "          if int(fset[0]) > int(fset[2]):\n",
        "              set_and_match_winner.append(1)\n",
        "          else:\n",
        "              set_and_match_winner.append(0)\n",
        "        except:\n",
        "            idx = datanew[datanew['score']==fset].index[0]\n",
        "            datanew.drop(idx, inplace=True)\n",
        "\n",
        "    datanew['set_and_match_winner'] = set_and_match_winner\n",
        "    print(\"BELOW IS THE CHECKPOINT AFTER ADDING THE SET AND MATCH WINNER COLUMN\", \"\\n\")\n",
        "    print('\\n', '#'* 100, '\\n')\n",
        "\n",
        "    print(datanew)\n",
        "    print()\n",
        "    print(datanew['set_and_match_winner'].value_counts()) \n",
        "    print(\"The percentage of winning the match after winning the first set is:\\n\", datanew['set_and_match_winner'].value_counts(1)[1])\n",
        "    \n"
      ],
      "execution_count": 104,
      "outputs": []
    },
    {
      "cell_type": "code",
      "metadata": {
        "id": "8uDc_kkoOfoN",
        "outputId": "0c4ceeb6-a2b4-467a-92e7-00c43318d33b",
        "colab": {
          "base_uri": "https://localhost:8080/"
        }
      },
      "source": [
        "firstsetwinnerratio('/content/atp_matches_2018.csv')"
      ],
      "execution_count": 105,
      "outputs": [
        {
          "output_type": "stream",
          "text": [
            "\n",
            " #################################################################################################### \n",
            "\n",
            "<bound method DataFrame.count of      tourney_name tourney_level surface  ...  best_of round         loser_name\n",
            "0        Brisbane             A    Hard  ...        3   R32     Leonardo Mayer\n",
            "1        Brisbane             A    Hard  ...        3   R32    Jordan Thompson\n",
            "2        Brisbane             A    Hard  ...        3   R32      Damir Dzumhur\n",
            "3        Brisbane             A    Hard  ...        3   R32      Steve Johnson\n",
            "4        Brisbane             A    Hard  ...        3   R32  Federico Delbonis\n",
            "...           ...           ...     ...  ...      ...   ...                ...\n",
            "2881  Tour Finals             F    Hard  ...        3    RR        Marin Cilic\n",
            "2882  Tour Finals             F    Hard  ...        3    RR   Alexander Zverev\n",
            "2883  Tour Finals             F    Hard  ...        3    SF      Roger Federer\n",
            "2884  Tour Finals             F    Hard  ...        3    SF     Kevin Anderson\n",
            "2885  Tour Finals             F    Hard  ...        3     F     Novak Djokovic\n",
            "\n",
            "[2639 rows x 10 columns]>\n",
            "CHECKPOINT AFTER LIMITING THE DRAW_SIZE >= 8 \n",
            "\n",
            "\n",
            " #################################################################################################### \n",
            "\n",
            "BELOW IS THE CHECKPOINT AFTER ADDING THE SET AND MATCH WINNER COLUMN \n",
            "\n",
            "\n",
            " #################################################################################################### \n",
            "\n",
            "     tourney_name tourney_level  ...         loser_name  set_and_match_winner\n",
            "0        Brisbane             A  ...     Leonardo Mayer                     1\n",
            "1        Brisbane             A  ...    Jordan Thompson                     1\n",
            "2        Brisbane             A  ...      Damir Dzumhur                     0\n",
            "3        Brisbane             A  ...      Steve Johnson                     1\n",
            "4        Brisbane             A  ...  Federico Delbonis                     1\n",
            "...           ...           ...  ...                ...                   ...\n",
            "2881  Tour Finals             F  ...        Marin Cilic                     1\n",
            "2882  Tour Finals             F  ...   Alexander Zverev                     1\n",
            "2883  Tour Finals             F  ...      Roger Federer                     1\n",
            "2884  Tour Finals             F  ...     Kevin Anderson                     1\n",
            "2885  Tour Finals             F  ...     Novak Djokovic                     1\n",
            "\n",
            "[2639 rows x 11 columns]\n",
            "\n",
            "1    2095\n",
            "0     544\n",
            "Name: set_and_match_winner, dtype: int64\n",
            "The percentage of winning the match after winning the first set is:\n",
            " 0.7938613111026904\n"
          ],
          "name": "stdout"
        }
      ]
    },
    {
      "cell_type": "code",
      "metadata": {
        "id": "e8mojOWDZ7iT",
        "outputId": "98fd6002-1992-42a0-a2e5-96a8e151a2cc",
        "colab": {
          "base_uri": "https://localhost:8080/"
        }
      },
      "source": [
        "# Analyzing each year between 2010 and 2019.\n",
        "import os\n",
        "files = os.listdir()\n",
        "\n",
        "for filename in files:\n",
        "    if filename.endswith('.csv'):\n",
        "        print(\"&\"*100)\n",
        "        print(filename)\n",
        "        firstsetwinnerratio(filename)\n",
        "        print(\"For\", filename, \"^^^\\n\")\n",
        "        "
      ],
      "execution_count": 113,
      "outputs": [
        {
          "output_type": "stream",
          "text": [
            "&&&&&&&&&&&&&&&&&&&&&&&&&&&&&&&&&&&&&&&&&&&&&&&&&&&&&&&&&&&&&&&&&&&&&&&&&&&&&&&&&&&&&&&&&&&&&&&&&&&&\n",
            "atp_matches_2014.csv\n",
            "\n",
            " #################################################################################################### \n",
            "\n",
            "<bound method DataFrame.count of      tourney_name tourney_level surface  ...  best_of round        loser_name\n",
            "0        Brisbane             A    Hard  ...        3   R32   James Duckworth\n",
            "1        Brisbane             A    Hard  ...        3   R32  Julien Benneteau\n",
            "2        Brisbane             A    Hard  ...        3   R32   Dmitry Tursunov\n",
            "3        Brisbane             A    Hard  ...        3   R32     Ryan Harrison\n",
            "4        Brisbane             A    Hard  ...        3   R32     Igor Sijsling\n",
            "...           ...           ...     ...  ...      ...   ...               ...\n",
            "2892  Tour Finals             F    Hard  ...        3    RR      David Ferrer\n",
            "2893  Tour Finals             F    Hard  ...        3    RR      Milos Raonic\n",
            "2894  Tour Finals             F    Hard  ...        3    RR      Milos Raonic\n",
            "2895  Tour Finals             F    Hard  ...        3    SF     Stan Wawrinka\n",
            "2896  Tour Finals             F    Hard  ...        3    SF     Kei Nishikori\n",
            "\n",
            "[2575 rows x 10 columns]>\n",
            "CHECKPOINT AFTER LIMITING THE DRAW_SIZE >= 8 \n",
            "\n",
            "\n",
            " #################################################################################################### \n",
            "\n",
            "BELOW IS THE CHECKPOINT AFTER ADDING THE SET AND MATCH WINNER COLUMN \n",
            "\n",
            "\n",
            " #################################################################################################### \n",
            "\n",
            "     tourney_name tourney_level  ...        loser_name  set_and_match_winner\n",
            "0        Brisbane             A  ...   James Duckworth                     1\n",
            "1        Brisbane             A  ...  Julien Benneteau                     0\n",
            "2        Brisbane             A  ...   Dmitry Tursunov                     1\n",
            "3        Brisbane             A  ...     Ryan Harrison                     1\n",
            "4        Brisbane             A  ...     Igor Sijsling                     0\n",
            "...           ...           ...  ...               ...                   ...\n",
            "2892  Tour Finals             F  ...      David Ferrer                     0\n",
            "2893  Tour Finals             F  ...      Milos Raonic                     1\n",
            "2894  Tour Finals             F  ...      Milos Raonic                     1\n",
            "2895  Tour Finals             F  ...     Stan Wawrinka                     0\n",
            "2896  Tour Finals             F  ...     Kei Nishikori                     1\n",
            "\n",
            "[2575 rows x 11 columns]\n",
            "\n",
            "1    2069\n",
            "0     506\n",
            "Name: set_and_match_winner, dtype: int64\n",
            "The percentage of winning the match after winning the first set is:\n",
            " 0.8034951456310679\n",
            "For atp_matches_2014.csv ^^^\n",
            "\n",
            "&&&&&&&&&&&&&&&&&&&&&&&&&&&&&&&&&&&&&&&&&&&&&&&&&&&&&&&&&&&&&&&&&&&&&&&&&&&&&&&&&&&&&&&&&&&&&&&&&&&&\n",
            "atp_matches_2019.csv\n",
            "\n",
            " #################################################################################################### \n",
            "\n",
            "<bound method DataFrame.count of      tourney_name tourney_level surface  ...  best_of round          loser_name\n",
            "0        Brisbane             A    Hard  ...        3     F     Daniil Medvedev\n",
            "1        Brisbane             A    Hard  ...        3    SF  Jo-Wilfried Tsonga\n",
            "2        Brisbane             A    Hard  ...        3    SF       Jeremy Chardy\n",
            "3        Brisbane             A    Hard  ...        3    QF      Alex De Minaur\n",
            "4        Brisbane             A    Hard  ...        3    QF        Milos Raonic\n",
            "...           ...           ...     ...  ...      ...   ...                 ...\n",
            "2604  Tour Finals             F    Hard  ...        3    RR      Novak Djokovic\n",
            "2605  Tour Finals             F    Hard  ...        3    RR   Matteo Berrettini\n",
            "2606  Tour Finals             F    Hard  ...        3    RR       Roger Federer\n",
            "2607  Tour Finals             F    Hard  ...        3    RR   Matteo Berrettini\n",
            "2608  Tour Finals             F    Hard  ...        3    RR       Dominic Thiem\n",
            "\n",
            "[2588 rows x 10 columns]>\n",
            "CHECKPOINT AFTER LIMITING THE DRAW_SIZE >= 8 \n",
            "\n",
            "\n",
            " #################################################################################################### \n",
            "\n",
            "BELOW IS THE CHECKPOINT AFTER ADDING THE SET AND MATCH WINNER COLUMN \n",
            "\n",
            "\n",
            " #################################################################################################### \n",
            "\n",
            "     tourney_name tourney_level  ...          loser_name  set_and_match_winner\n",
            "0        Brisbane             A  ...     Daniil Medvedev                     1\n",
            "1        Brisbane             A  ...  Jo-Wilfried Tsonga                     1\n",
            "2        Brisbane             A  ...       Jeremy Chardy                     1\n",
            "3        Brisbane             A  ...      Alex De Minaur                     1\n",
            "4        Brisbane             A  ...        Milos Raonic                     0\n",
            "...           ...           ...  ...                 ...                   ...\n",
            "2604  Tour Finals             F  ...      Novak Djokovic                     0\n",
            "2605  Tour Finals             F  ...   Matteo Berrettini                     1\n",
            "2606  Tour Finals             F  ...       Roger Federer                     1\n",
            "2607  Tour Finals             F  ...   Matteo Berrettini                     1\n",
            "2608  Tour Finals             F  ...       Dominic Thiem                     1\n",
            "\n",
            "[2588 rows x 11 columns]\n",
            "\n",
            "1    2058\n",
            "0     530\n",
            "Name: set_and_match_winner, dtype: int64\n",
            "The percentage of winning the match after winning the first set is:\n",
            " 0.7952086553323029\n",
            "For atp_matches_2019.csv ^^^\n",
            "\n",
            "&&&&&&&&&&&&&&&&&&&&&&&&&&&&&&&&&&&&&&&&&&&&&&&&&&&&&&&&&&&&&&&&&&&&&&&&&&&&&&&&&&&&&&&&&&&&&&&&&&&&\n",
            "atp_matches_2013.csv\n",
            "\n",
            " #################################################################################################### \n",
            "\n",
            "<bound method DataFrame.count of      tourney_name tourney_level surface  ...  best_of round        loser_name\n",
            "0        Brisbane             A    Hard  ...        3   R32       Tatsuma Ito\n",
            "1        Brisbane             A    Hard  ...        3   R32     Igor Kunitsyn\n",
            "2        Brisbane             A    Hard  ...        3   R32     Martin Klizan\n",
            "3        Brisbane             A    Hard  ...        3   R32  Julien Benneteau\n",
            "4        Brisbane             A    Hard  ...        3   R32     Ryan Harrison\n",
            "...           ...           ...     ...  ...      ...   ...               ...\n",
            "2935  Tour Finals             F    Hard  ...        3    RR      David Ferrer\n",
            "2936  Tour Finals             F    Hard  ...        3    RR      David Ferrer\n",
            "2937  Tour Finals             F    Hard  ...        3    SF     Stan Wawrinka\n",
            "2938  Tour Finals             F    Hard  ...        3    SF     Roger Federer\n",
            "2939  Tour Finals             F    Hard  ...        3     F      Rafael Nadal\n",
            "\n",
            "[2613 rows x 10 columns]>\n",
            "CHECKPOINT AFTER LIMITING THE DRAW_SIZE >= 8 \n",
            "\n",
            "\n",
            " #################################################################################################### \n",
            "\n",
            "BELOW IS THE CHECKPOINT AFTER ADDING THE SET AND MATCH WINNER COLUMN \n",
            "\n",
            "\n",
            " #################################################################################################### \n",
            "\n",
            "     tourney_name tourney_level  ...        loser_name  set_and_match_winner\n",
            "0        Brisbane             A  ...       Tatsuma Ito                     1\n",
            "1        Brisbane             A  ...     Igor Kunitsyn                     1\n",
            "2        Brisbane             A  ...     Martin Klizan                     1\n",
            "3        Brisbane             A  ...  Julien Benneteau                     1\n",
            "4        Brisbane             A  ...     Ryan Harrison                     1\n",
            "...           ...           ...  ...               ...                   ...\n",
            "2935  Tour Finals             F  ...      David Ferrer                     1\n",
            "2936  Tour Finals             F  ...      David Ferrer                     0\n",
            "2937  Tour Finals             F  ...     Stan Wawrinka                     1\n",
            "2938  Tour Finals             F  ...     Roger Federer                     1\n",
            "2939  Tour Finals             F  ...      Rafael Nadal                     1\n",
            "\n",
            "[2613 rows x 11 columns]\n",
            "\n",
            "1    2110\n",
            "0     503\n",
            "Name: set_and_match_winner, dtype: int64\n",
            "The percentage of winning the match after winning the first set is:\n",
            " 0.8075009567546881\n",
            "For atp_matches_2013.csv ^^^\n",
            "\n",
            "&&&&&&&&&&&&&&&&&&&&&&&&&&&&&&&&&&&&&&&&&&&&&&&&&&&&&&&&&&&&&&&&&&&&&&&&&&&&&&&&&&&&&&&&&&&&&&&&&&&&\n",
            "atp_matches_2012.csv\n",
            "\n",
            " #################################################################################################### \n",
            "\n",
            "<bound method DataFrame.count of      tourney_name tourney_level surface  ...  best_of round             loser_name\n",
            "0        Brisbane             A    Hard  ...        3   R32      Mikhail Kukushkin\n",
            "1        Brisbane             A    Hard  ...        3   R32          Ricardo Mello\n",
            "2        Brisbane             A    Hard  ...        3   R32          Ryan Harrison\n",
            "3        Brisbane             A    Hard  ...        3   R32    Cedrik Marcel Stebe\n",
            "4        Brisbane             A    Hard  ...        3   R32          Florian Mayer\n",
            "...           ...           ...     ...  ...      ...   ...                    ...\n",
            "3001  Tour Finals             F    Hard  ...        3    RR          Roger Federer\n",
            "3002  Tour Finals             F    Hard  ...        3    RR       Janko Tipsarevic\n",
            "3003  Tour Finals             F    Hard  ...        3    SF  Juan Martin del Potro\n",
            "3004  Tour Finals             F    Hard  ...        3    SF            Andy Murray\n",
            "3005  Tour Finals             F    Hard  ...        3     F          Roger Federer\n",
            "\n",
            "[2682 rows x 10 columns]>\n",
            "CHECKPOINT AFTER LIMITING THE DRAW_SIZE >= 8 \n",
            "\n",
            "\n",
            " #################################################################################################### \n",
            "\n",
            "BELOW IS THE CHECKPOINT AFTER ADDING THE SET AND MATCH WINNER COLUMN \n",
            "\n",
            "\n",
            " #################################################################################################### \n",
            "\n",
            "     tourney_name tourney_level  ...             loser_name  set_and_match_winner\n",
            "0        Brisbane             A  ...      Mikhail Kukushkin                     0\n",
            "1        Brisbane             A  ...          Ricardo Mello                     0\n",
            "2        Brisbane             A  ...          Ryan Harrison                     1\n",
            "3        Brisbane             A  ...    Cedrik Marcel Stebe                     0\n",
            "4        Brisbane             A  ...          Florian Mayer                     1\n",
            "...           ...           ...  ...                    ...                   ...\n",
            "3001  Tour Finals             F  ...          Roger Federer                     1\n",
            "3002  Tour Finals             F  ...       Janko Tipsarevic                     0\n",
            "3003  Tour Finals             F  ...  Juan Martin del Potro                     0\n",
            "3004  Tour Finals             F  ...            Andy Murray                     1\n",
            "3005  Tour Finals             F  ...          Roger Federer                     1\n",
            "\n",
            "[2681 rows x 11 columns]\n",
            "\n",
            "1    2194\n",
            "0     487\n",
            "Name: set_and_match_winner, dtype: int64\n",
            "The percentage of winning the match after winning the first set is:\n",
            " 0.8183513614323014\n",
            "For atp_matches_2012.csv ^^^\n",
            "\n",
            "&&&&&&&&&&&&&&&&&&&&&&&&&&&&&&&&&&&&&&&&&&&&&&&&&&&&&&&&&&&&&&&&&&&&&&&&&&&&&&&&&&&&&&&&&&&&&&&&&&&&\n",
            "atp_matches_2011.csv\n",
            "\n",
            " #################################################################################################### \n",
            "\n",
            "<bound method DataFrame.count of      tourney_name tourney_level surface  ...  best_of round        loser_name\n",
            "0        Brisbane             A    Hard  ...        3   R32     Ryan Harrison\n",
            "1        Brisbane             A    Hard  ...        3   R32         Dudi Sela\n",
            "2        Brisbane             A    Hard  ...        3   R32      John Millman\n",
            "3        Brisbane             A    Hard  ...        3   R32  Thiemo De Bakker\n",
            "4        Brisbane             A    Hard  ...        3   R32  Adrian Mannarino\n",
            "...           ...           ...     ...  ...      ...   ...               ...\n",
            "3007  Tour Finals             F    Hard  ...        3    RR    Novak Djokovic\n",
            "3008  Tour Finals             F    Hard  ...        3    RR    Novak Djokovic\n",
            "3009  Tour Finals             F    Hard  ...        3    RR       Andy Murray\n",
            "3010  Tour Finals             F    Hard  ...        3    RR      David Ferrer\n",
            "3011  Tour Finals             F    Hard  ...        3    RR  Janko Tipsarevic\n",
            "\n",
            "[2687 rows x 10 columns]>\n",
            "CHECKPOINT AFTER LIMITING THE DRAW_SIZE >= 8 \n",
            "\n",
            "\n",
            " #################################################################################################### \n",
            "\n",
            "BELOW IS THE CHECKPOINT AFTER ADDING THE SET AND MATCH WINNER COLUMN \n",
            "\n",
            "\n",
            " #################################################################################################### \n",
            "\n",
            "     tourney_name tourney_level  ...        loser_name  set_and_match_winner\n",
            "0        Brisbane             A  ...     Ryan Harrison                     1\n",
            "1        Brisbane             A  ...         Dudi Sela                     0\n",
            "2        Brisbane             A  ...      John Millman                     0\n",
            "3        Brisbane             A  ...  Thiemo De Bakker                     1\n",
            "4        Brisbane             A  ...  Adrian Mannarino                     1\n",
            "...           ...           ...  ...               ...                   ...\n",
            "3007  Tour Finals             F  ...    Novak Djokovic                     1\n",
            "3008  Tour Finals             F  ...    Novak Djokovic                     0\n",
            "3009  Tour Finals             F  ...       Andy Murray                     1\n",
            "3010  Tour Finals             F  ...      David Ferrer                     0\n",
            "3011  Tour Finals             F  ...  Janko Tipsarevic                     0\n",
            "\n",
            "[2687 rows x 11 columns]\n",
            "\n",
            "1    2190\n",
            "0     497\n",
            "Name: set_and_match_winner, dtype: int64\n",
            "The percentage of winning the match after winning the first set is:\n",
            " 0.815035355414961\n",
            "For atp_matches_2011.csv ^^^\n",
            "\n",
            "&&&&&&&&&&&&&&&&&&&&&&&&&&&&&&&&&&&&&&&&&&&&&&&&&&&&&&&&&&&&&&&&&&&&&&&&&&&&&&&&&&&&&&&&&&&&&&&&&&&&\n",
            "atp_matches_2015.csv\n",
            "\n",
            " #################################################################################################### \n",
            "\n",
            "<bound method DataFrame.count of      tourney_name tourney_level surface  ...  best_of round      loser_name\n",
            "0        Brisbane             A    Hard  ...        3   R32  Rhyne Williams\n",
            "1        Brisbane             A    Hard  ...        3   R32     Denis Kudla\n",
            "2        Brisbane             A    Hard  ...        3   R32    Gilles Simon\n",
            "3        Brisbane             A    Hard  ...        3   R32  Andrey Golubev\n",
            "4        Brisbane             A    Hard  ...        3   R32   Jurgen Melzer\n",
            "...           ...           ...     ...  ...      ...   ...             ...\n",
            "2935  Tour Finals             F    Hard  ...        3    RR    David Ferrer\n",
            "2936  Tour Finals             F    Hard  ...        3    RR     Andy Murray\n",
            "2937  Tour Finals             F    Hard  ...        3    SF   Stan Wawrinka\n",
            "2938  Tour Finals             F    Hard  ...        3    SF    Rafael Nadal\n",
            "2939  Tour Finals             F    Hard  ...        3     F   Roger Federer\n",
            "\n",
            "[2621 rows x 10 columns]>\n",
            "CHECKPOINT AFTER LIMITING THE DRAW_SIZE >= 8 \n",
            "\n",
            "\n",
            " #################################################################################################### \n",
            "\n",
            "BELOW IS THE CHECKPOINT AFTER ADDING THE SET AND MATCH WINNER COLUMN \n",
            "\n",
            "\n",
            " #################################################################################################### \n",
            "\n",
            "     tourney_name tourney_level  ...      loser_name  set_and_match_winner\n",
            "0        Brisbane             A  ...  Rhyne Williams                     1\n",
            "1        Brisbane             A  ...     Denis Kudla                     0\n",
            "2        Brisbane             A  ...    Gilles Simon                     1\n",
            "3        Brisbane             A  ...  Andrey Golubev                     1\n",
            "4        Brisbane             A  ...   Jurgen Melzer                     0\n",
            "...           ...           ...  ...             ...                   ...\n",
            "2935  Tour Finals             F  ...    David Ferrer                     0\n",
            "2936  Tour Finals             F  ...     Andy Murray                     1\n",
            "2937  Tour Finals             F  ...   Stan Wawrinka                     1\n",
            "2938  Tour Finals             F  ...    Rafael Nadal                     1\n",
            "2939  Tour Finals             F  ...   Roger Federer                     1\n",
            "\n",
            "[2621 rows x 11 columns]\n",
            "\n",
            "1    2108\n",
            "0     513\n",
            "Name: set_and_match_winner, dtype: int64\n",
            "The percentage of winning the match after winning the first set is:\n",
            " 0.8042731781762686\n",
            "For atp_matches_2015.csv ^^^\n",
            "\n",
            "&&&&&&&&&&&&&&&&&&&&&&&&&&&&&&&&&&&&&&&&&&&&&&&&&&&&&&&&&&&&&&&&&&&&&&&&&&&&&&&&&&&&&&&&&&&&&&&&&&&&\n",
            "atp_matches_2017.csv\n",
            "\n",
            " #################################################################################################### \n",
            "\n",
            "<bound method DataFrame.count of      tourney_name tourney_level surface  ...  best_of round           loser_name\n",
            "0        Brisbane             A    Hard  ...        3   R32   Yoshihito Nishioka\n",
            "1        Brisbane             A    Hard  ...        3   R32     Ernesto Escobedo\n",
            "2        Brisbane             A    Hard  ...        3   R32         Gilles Simon\n",
            "3        Brisbane             A    Hard  ...        3   R32        Gilles Muller\n",
            "4        Brisbane             A    Hard  ...        3   R32           Elias Ymer\n",
            "...           ...           ...     ...  ...      ...   ...                  ...\n",
            "2877  Tour Finals             F    Hard  ...        3    RR  Pablo Carreno Busta\n",
            "2878  Tour Finals             F    Hard  ...        3    RR  Pablo Carreno Busta\n",
            "2879  Tour Finals             F    Hard  ...        3    SF        Roger Federer\n",
            "2880  Tour Finals             F    Hard  ...        3    SF            Jack Sock\n",
            "2881  Tour Finals             F    Hard  ...        3     F         David Goffin\n",
            "\n",
            "[2619 rows x 10 columns]>\n",
            "CHECKPOINT AFTER LIMITING THE DRAW_SIZE >= 8 \n",
            "\n",
            "\n",
            " #################################################################################################### \n",
            "\n",
            "BELOW IS THE CHECKPOINT AFTER ADDING THE SET AND MATCH WINNER COLUMN \n",
            "\n",
            "\n",
            " #################################################################################################### \n",
            "\n",
            "     tourney_name tourney_level  ...           loser_name  set_and_match_winner\n",
            "0        Brisbane             A  ...   Yoshihito Nishioka                     1\n",
            "1        Brisbane             A  ...     Ernesto Escobedo                     1\n",
            "2        Brisbane             A  ...         Gilles Simon                     1\n",
            "3        Brisbane             A  ...        Gilles Muller                     1\n",
            "4        Brisbane             A  ...           Elias Ymer                     1\n",
            "...           ...           ...  ...                  ...                   ...\n",
            "2877  Tour Finals             F  ...  Pablo Carreno Busta                     1\n",
            "2878  Tour Finals             F  ...  Pablo Carreno Busta                     1\n",
            "2879  Tour Finals             F  ...        Roger Federer                     0\n",
            "2880  Tour Finals             F  ...            Jack Sock                     0\n",
            "2881  Tour Finals             F  ...         David Goffin                     1\n",
            "\n",
            "[2619 rows x 11 columns]\n",
            "\n",
            "1    2093\n",
            "0     526\n",
            "Name: set_and_match_winner, dtype: int64\n",
            "The percentage of winning the match after winning the first set is:\n",
            " 0.799159984726995\n",
            "For atp_matches_2017.csv ^^^\n",
            "\n",
            "&&&&&&&&&&&&&&&&&&&&&&&&&&&&&&&&&&&&&&&&&&&&&&&&&&&&&&&&&&&&&&&&&&&&&&&&&&&&&&&&&&&&&&&&&&&&&&&&&&&&\n",
            "atp_matches_2016.csv\n",
            "\n",
            " #################################################################################################### \n",
            "\n",
            "<bound method DataFrame.count of      tourney_name tourney_level surface  ...  best_of round          loser_name\n",
            "0        Brisbane             A    Hard  ...        3   R32       Denis Istomin\n",
            "1        Brisbane             A    Hard  ...        3   R32       Dusan Lajovic\n",
            "2        Brisbane             A    Hard  ...        3   R32       Nicolas Mahut\n",
            "3        Brisbane             A    Hard  ...        3   R32     Oliver Anderson\n",
            "4        Brisbane             A    Hard  ...        3   R32  Yoshihito Nishioka\n",
            "...           ...           ...     ...  ...      ...   ...                 ...\n",
            "2932  Tour Finals             F    Hard  ...        3    RR       Kei Nishikori\n",
            "2933  Tour Finals             F    Hard  ...        3    RR       Stan Wawrinka\n",
            "2934  Tour Finals             F    Hard  ...        3    SF       Kei Nishikori\n",
            "2935  Tour Finals             F    Hard  ...        3    SF        Milos Raonic\n",
            "2936  Tour Finals             F    Hard  ...        3     F      Novak Djokovic\n",
            "\n",
            "[2671 rows x 10 columns]>\n",
            "CHECKPOINT AFTER LIMITING THE DRAW_SIZE >= 8 \n",
            "\n",
            "\n",
            " #################################################################################################### \n",
            "\n",
            "BELOW IS THE CHECKPOINT AFTER ADDING THE SET AND MATCH WINNER COLUMN \n",
            "\n",
            "\n",
            " #################################################################################################### \n",
            "\n",
            "     tourney_name tourney_level  ...          loser_name  set_and_match_winner\n",
            "0        Brisbane             A  ...       Denis Istomin                     1\n",
            "1        Brisbane             A  ...       Dusan Lajovic                     1\n",
            "2        Brisbane             A  ...       Nicolas Mahut                     1\n",
            "3        Brisbane             A  ...     Oliver Anderson                     1\n",
            "4        Brisbane             A  ...  Yoshihito Nishioka                     0\n",
            "...           ...           ...  ...                 ...                   ...\n",
            "2932  Tour Finals             F  ...       Kei Nishikori                     0\n",
            "2933  Tour Finals             F  ...       Stan Wawrinka                     1\n",
            "2934  Tour Finals             F  ...       Kei Nishikori                     1\n",
            "2935  Tour Finals             F  ...        Milos Raonic                     0\n",
            "2936  Tour Finals             F  ...      Novak Djokovic                     1\n",
            "\n",
            "[2671 rows x 11 columns]\n",
            "\n",
            "1    2132\n",
            "0     539\n",
            "Name: set_and_match_winner, dtype: int64\n",
            "The percentage of winning the match after winning the first set is:\n",
            " 0.7982029202545863\n",
            "For atp_matches_2016.csv ^^^\n",
            "\n",
            "&&&&&&&&&&&&&&&&&&&&&&&&&&&&&&&&&&&&&&&&&&&&&&&&&&&&&&&&&&&&&&&&&&&&&&&&&&&&&&&&&&&&&&&&&&&&&&&&&&&&\n",
            "atp_matches_2018.csv\n",
            "\n",
            " #################################################################################################### \n",
            "\n",
            "<bound method DataFrame.count of      tourney_name tourney_level surface  ...  best_of round         loser_name\n",
            "0        Brisbane             A    Hard  ...        3   R32     Leonardo Mayer\n",
            "1        Brisbane             A    Hard  ...        3   R32    Jordan Thompson\n",
            "2        Brisbane             A    Hard  ...        3   R32      Damir Dzumhur\n",
            "3        Brisbane             A    Hard  ...        3   R32      Steve Johnson\n",
            "4        Brisbane             A    Hard  ...        3   R32  Federico Delbonis\n",
            "...           ...           ...     ...  ...      ...   ...                ...\n",
            "2881  Tour Finals             F    Hard  ...        3    RR        Marin Cilic\n",
            "2882  Tour Finals             F    Hard  ...        3    RR   Alexander Zverev\n",
            "2883  Tour Finals             F    Hard  ...        3    SF      Roger Federer\n",
            "2884  Tour Finals             F    Hard  ...        3    SF     Kevin Anderson\n",
            "2885  Tour Finals             F    Hard  ...        3     F     Novak Djokovic\n",
            "\n",
            "[2639 rows x 10 columns]>\n",
            "CHECKPOINT AFTER LIMITING THE DRAW_SIZE >= 8 \n",
            "\n",
            "\n",
            " #################################################################################################### \n",
            "\n",
            "BELOW IS THE CHECKPOINT AFTER ADDING THE SET AND MATCH WINNER COLUMN \n",
            "\n",
            "\n",
            " #################################################################################################### \n",
            "\n",
            "     tourney_name tourney_level  ...         loser_name  set_and_match_winner\n",
            "0        Brisbane             A  ...     Leonardo Mayer                     1\n",
            "1        Brisbane             A  ...    Jordan Thompson                     1\n",
            "2        Brisbane             A  ...      Damir Dzumhur                     0\n",
            "3        Brisbane             A  ...      Steve Johnson                     1\n",
            "4        Brisbane             A  ...  Federico Delbonis                     1\n",
            "...           ...           ...  ...                ...                   ...\n",
            "2881  Tour Finals             F  ...        Marin Cilic                     1\n",
            "2882  Tour Finals             F  ...   Alexander Zverev                     1\n",
            "2883  Tour Finals             F  ...      Roger Federer                     1\n",
            "2884  Tour Finals             F  ...     Kevin Anderson                     1\n",
            "2885  Tour Finals             F  ...     Novak Djokovic                     1\n",
            "\n",
            "[2639 rows x 11 columns]\n",
            "\n",
            "1    2095\n",
            "0     544\n",
            "Name: set_and_match_winner, dtype: int64\n",
            "The percentage of winning the match after winning the first set is:\n",
            " 0.7938613111026904\n",
            "For atp_matches_2018.csv ^^^\n",
            "\n",
            "&&&&&&&&&&&&&&&&&&&&&&&&&&&&&&&&&&&&&&&&&&&&&&&&&&&&&&&&&&&&&&&&&&&&&&&&&&&&&&&&&&&&&&&&&&&&&&&&&&&&\n",
            "atp_matches_2010.csv\n",
            "\n",
            " #################################################################################################### \n",
            "\n",
            "<bound method DataFrame.count of      tourney_name tourney_level surface  ...  best_of round          loser_name\n",
            "0        Brisbane             A    Hard  ...        3   R32        Peter Luczak\n",
            "1        Brisbane             A    Hard  ...        3   R32       Mischa Zverev\n",
            "2        Brisbane             A    Hard  ...        3   R32     Jarkko Nieminen\n",
            "3        Brisbane             A    Hard  ...        3   R32       Jurgen Melzer\n",
            "4        Brisbane             A    Hard  ...        3   R32        Nick Lindahl\n",
            "...           ...           ...     ...  ...      ...   ...                 ...\n",
            "3021  Tour Finals             F    Hard  ...        3    RR        Andy Roddick\n",
            "3022  Tour Finals             F    Hard  ...        3    RR        Andy Roddick\n",
            "3027   Dusseldorf             A    Clay  ...        3    RR  Paul Henri Mathieu\n",
            "3028   Dusseldorf             A    Clay  ...        3    RR       Dusan Lajovic\n",
            "3029   Dusseldorf             A    Clay  ...        3    RR  Paul Henri Mathieu\n",
            "\n",
            "[2689 rows x 10 columns]>\n",
            "CHECKPOINT AFTER LIMITING THE DRAW_SIZE >= 8 \n",
            "\n",
            "\n",
            " #################################################################################################### \n",
            "\n",
            "BELOW IS THE CHECKPOINT AFTER ADDING THE SET AND MATCH WINNER COLUMN \n",
            "\n",
            "\n",
            " #################################################################################################### \n",
            "\n",
            "     tourney_name tourney_level  ...          loser_name  set_and_match_winner\n",
            "0        Brisbane             A  ...        Peter Luczak                     1\n",
            "1        Brisbane             A  ...       Mischa Zverev                     1\n",
            "2        Brisbane             A  ...     Jarkko Nieminen                     1\n",
            "3        Brisbane             A  ...       Jurgen Melzer                     1\n",
            "4        Brisbane             A  ...        Nick Lindahl                     1\n",
            "...           ...           ...  ...                 ...                   ...\n",
            "3021  Tour Finals             F  ...        Andy Roddick                     1\n",
            "3022  Tour Finals             F  ...        Andy Roddick                     1\n",
            "3027   Dusseldorf             A  ...  Paul Henri Mathieu                     0\n",
            "3028   Dusseldorf             A  ...       Dusan Lajovic                     1\n",
            "3029   Dusseldorf             A  ...  Paul Henri Mathieu                     1\n",
            "\n",
            "[2689 rows x 11 columns]\n",
            "\n",
            "1    2198\n",
            "0     491\n",
            "Name: set_and_match_winner, dtype: int64\n",
            "The percentage of winning the match after winning the first set is:\n",
            " 0.8174042394942358\n",
            "For atp_matches_2010.csv ^^^\n",
            "\n"
          ],
          "name": "stdout"
        }
      ]
    }
  ]
}